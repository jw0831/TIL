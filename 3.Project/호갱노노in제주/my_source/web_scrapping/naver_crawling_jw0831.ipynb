{
 "cells": [
  {
   "cell_type": "markdown",
   "metadata": {},
   "source": [
    "# 네이버 맛집별 리뷰 크롤링\n",
    "### 깃헙 주소: github.com/jw0831"
   ]
  },
  {
   "cell_type": "code",
   "execution_count": 222,
   "metadata": {},
   "outputs": [],
   "source": [
    "from selenium import webdriver\n",
    "from bs4 import BeautifulSoup\n",
    "from urllib.request import Request, urlopen\n",
    "from selenium.webdriver.common.keys import Keys\n",
    "import time\n",
    "import re\n",
    "import pandas as pd\n",
    "from tqdm.notebook import tqdm\n",
    "import random"
   ]
  },
  {
   "cell_type": "code",
   "execution_count": 474,
   "metadata": {},
   "outputs": [],
   "source": [
    "# 크롬브라우저 시작!\n",
    "driver = webdriver.Chrome(\"/Users/jinwon-kim/Developer/chromedriver\")"
   ]
  },
  {
   "cell_type": "code",
   "execution_count": 419,
   "metadata": {},
   "outputs": [],
   "source": [
    "# 네이버 주소페이지로 이동\n",
    "driver.get('https://m.naver.com/')\n",
    "time.sleep(1)"
   ]
  },
  {
   "cell_type": "code",
   "execution_count": 454,
   "metadata": {},
   "outputs": [
    {
     "data": {
      "text/plain": [
       "'A 아쿠아플라넷 제주'"
      ]
     },
     "execution_count": 454,
     "metadata": {},
     "output_type": "execute_result"
    }
   ],
   "source": [
    "# 버튼 옵션 테스팅\n",
    "btns=['_1_hm2','es3Ot','_2EZQu']\n",
    "restaurant_btns = driver.find_elements_by_xpath(\"//span[@class='{}']\".format(btns[1]))\n",
    "len(restaurant_btns)\n",
    "restaurant_btns[0].text"
   ]
  },
  {
   "cell_type": "code",
   "execution_count": 456,
   "metadata": {},
   "outputs": [
    {
     "name": "stdout",
     "output_type": "stream",
     "text": [
      "ok\n"
     ]
    }
   ],
   "source": [
    "#식당이름 클릭전 식당이름과 클릭하는 식당의 이름이 같은지 검증\n",
    "btns=['_1_hm2','es3Ot','_2EZQu']\n",
    "collect_failed=[]\n",
    "try:\n",
    "    for btn in btns:\n",
    "        restaurant_btns = driver.find_elements_by_xpath(\"//span[@class='{}']\".format(btn))\n",
    "        if len(restaurant_btns) == 1:\n",
    "            restaurant_btns.click()\n",
    "            time.sleep(1.5)\n",
    "            break\n",
    "        else:\n",
    "            for restaurant_btn in restaurant_btns:\n",
    "                #print(restaurant_btn.text)\n",
    "                if restaurant in restaurant_btn.text: #자동시스템에서 name 으로 변경\n",
    "                    restaurant_btn.click()\n",
    "                    time.sleep(1.5)\n",
    "                    break\n",
    "                    \n",
    "                    \n",
    "#     print(\"ok\")\n",
    "except:\n",
    "    collect_failed.append(name)\n",
    "#     print(\"no\")"
   ]
  },
  {
   "cell_type": "code",
   "execution_count": 447,
   "metadata": {},
   "outputs": [
    {
     "data": {
      "text/plain": [
       "'E 휘닉스 제주 섭지코지'"
      ]
     },
     "execution_count": 447,
     "metadata": {},
     "output_type": "execute_result"
    }
   ],
   "source": [
    "restaurant_btn.text"
   ]
  },
  {
   "cell_type": "code",
   "execution_count": 412,
   "metadata": {},
   "outputs": [
    {
     "data": {
      "text/plain": [
       "[<selenium.webdriver.remote.webelement.WebElement (session=\"e80cd2355868445bd5a7f64f14d94f88\", element=\"92a5b3da-23a6-4dda-af47-fbf1f0fa7014\")>,\n",
       " <selenium.webdriver.remote.webelement.WebElement (session=\"e80cd2355868445bd5a7f64f14d94f88\", element=\"d1f2a841-a210-4a7c-8908-0f8d81e2d4bd\")>,\n",
       " <selenium.webdriver.remote.webelement.WebElement (session=\"e80cd2355868445bd5a7f64f14d94f88\", element=\"39891cc3-b6c9-4243-8761-f1635d2d5e0f\")>,\n",
       " <selenium.webdriver.remote.webelement.WebElement (session=\"e80cd2355868445bd5a7f64f14d94f88\", element=\"226afb5a-8492-45a0-9b8b-a721811c85a3\")>,\n",
       " <selenium.webdriver.remote.webelement.WebElement (session=\"e80cd2355868445bd5a7f64f14d94f88\", element=\"afe3194c-40b1-4cb7-b795-313112b297e8\")>]"
      ]
     },
     "execution_count": 412,
     "metadata": {},
     "output_type": "execute_result"
    }
   ],
   "source": [
    "restaurant_btn"
   ]
  },
  {
   "cell_type": "code",
   "execution_count": 389,
   "metadata": {},
   "outputs": [
    {
     "data": {
      "text/html": [
       "<div>\n",
       "<style scoped>\n",
       "    .dataframe tbody tr th:only-of-type {\n",
       "        vertical-align: middle;\n",
       "    }\n",
       "\n",
       "    .dataframe tbody tr th {\n",
       "        vertical-align: top;\n",
       "    }\n",
       "\n",
       "    .dataframe thead th {\n",
       "        text-align: right;\n",
       "    }\n",
       "</style>\n",
       "<table border=\"1\" class=\"dataframe\">\n",
       "  <thead>\n",
       "    <tr style=\"text-align: right;\">\n",
       "      <th></th>\n",
       "      <th>가게명</th>\n",
       "      <th>주소</th>\n",
       "      <th>점수</th>\n",
       "      <th>찜</th>\n",
       "      <th>음식 분야</th>\n",
       "      <th>해시태그</th>\n",
       "    </tr>\n",
       "  </thead>\n",
       "  <tbody>\n",
       "    <tr>\n",
       "      <th>0</th>\n",
       "      <td>상춘재</td>\n",
       "      <td>제주특별자치도 제주시 조천읍 선진길 26</td>\n",
       "      <td>4.7</td>\n",
       "      <td>4,703</td>\n",
       "      <td>한정식 / 백반 / 정통 한식</td>\n",
       "      <td>['#비빔밥', '#제주도', '#2018 인기', '#Bibimbap', '#20...</td>\n",
       "    </tr>\n",
       "    <tr>\n",
       "      <th>1</th>\n",
       "      <td>남양수산</td>\n",
       "      <td>제주특별자치도 서귀포시 성산읍 고성동서로56번길 11</td>\n",
       "      <td>4.6</td>\n",
       "      <td>5,008</td>\n",
       "      <td>해산물 요리</td>\n",
       "      <td>['#횟집', '#2020망고플레이트인기맛집', '#한식', '#2018 인기', ...</td>\n",
       "    </tr>\n",
       "    <tr>\n",
       "      <th>2</th>\n",
       "      <td>선흘곶</td>\n",
       "      <td>제주특별자치도 제주시 조천읍 동백로 102</td>\n",
       "      <td>4.6</td>\n",
       "      <td>3,210</td>\n",
       "      <td>한정식 / 백반 / 정통 한식</td>\n",
       "      <td>['#2020망고플레이트인기맛집', '#아이와함께', '#제주 함덕', '#김녕',...</td>\n",
       "    </tr>\n",
       "    <tr>\n",
       "      <th>3</th>\n",
       "      <td>스시호시카이</td>\n",
       "      <td>제주특별자치도 제주시 오남로 90</td>\n",
       "      <td>4.5</td>\n",
       "      <td>1,641</td>\n",
       "      <td>회 / 스시</td>\n",
       "      <td>['#제주도', '#2018 인기', '#스시오마카세', '#초밥', '#Jeju'...</td>\n",
       "    </tr>\n",
       "    <tr>\n",
       "      <th>4</th>\n",
       "      <td>미영이네식당</td>\n",
       "      <td>제주특별자치도 서귀포시 대정읍 하모항구로 42</td>\n",
       "      <td>4.5</td>\n",
       "      <td>2,748</td>\n",
       "      <td>해산물 요리</td>\n",
       "      <td>['#고등어', '#2020망고플레이트인기맛집', '#제주 모슬포', '#화순', ...</td>\n",
       "    </tr>\n",
       "  </tbody>\n",
       "</table>\n",
       "</div>"
      ],
      "text/plain": [
       "      가게명                             주소   점수      찜             음식 분야  \\\n",
       "0     상춘재         제주특별자치도 제주시 조천읍 선진길 26  4.7  4,703  한정식 / 백반 / 정통 한식   \n",
       "1    남양수산  제주특별자치도 서귀포시 성산읍 고성동서로56번길 11  4.6  5,008            해산물 요리   \n",
       "2     선흘곶        제주특별자치도 제주시 조천읍 동백로 102  4.6  3,210  한정식 / 백반 / 정통 한식   \n",
       "3  스시호시카이             제주특별자치도 제주시 오남로 90  4.5  1,641            회 / 스시   \n",
       "4  미영이네식당      제주특별자치도 서귀포시 대정읍 하모항구로 42  4.5  2,748            해산물 요리   \n",
       "\n",
       "                                                해시태그  \n",
       "0  ['#비빔밥', '#제주도', '#2018 인기', '#Bibimbap', '#20...  \n",
       "1  ['#횟집', '#2020망고플레이트인기맛집', '#한식', '#2018 인기', ...  \n",
       "2  ['#2020망고플레이트인기맛집', '#아이와함께', '#제주 함덕', '#김녕',...  \n",
       "3  ['#제주도', '#2018 인기', '#스시오마카세', '#초밥', '#Jeju'...  \n",
       "4  ['#고등어', '#2020망고플레이트인기맛집', '#제주 모슬포', '#화순', ...  "
      ]
     },
     "execution_count": 389,
     "metadata": {},
     "output_type": "execute_result"
    }
   ],
   "source": [
    "# 추출할 맛집 리스트 불러오기 (리스트 크롤 by 조원우|이찬주)\n",
    "mango_df=pd.read_excel(\"mango_crawling_df.xlsx\", index_col=0)\n",
    "mango_df.head()"
   ]
  },
  {
   "cell_type": "code",
   "execution_count": 457,
   "metadata": {
    "scrolled": true
   },
   "outputs": [
    {
     "data": {
      "text/plain": [
       "49           섭지코지로\n",
       "50    원더먼트제주 (휴업중)\n",
       "51            만선식당\n",
       "52            무거버거\n",
       "53        포도호텔레스토랑\n",
       "Name: 가게명, dtype: object"
      ]
     },
     "execution_count": 457,
     "metadata": {},
     "output_type": "execute_result"
    }
   ],
   "source": [
    "# 리뷰 추출할 식당이름 시리즈로 불러오기\n",
    "restaurants=pd.Series(mango_df['가게명'])[49:]\n",
    "restaurants.head()"
   ]
  },
  {
   "cell_type": "code",
   "execution_count": 458,
   "metadata": {},
   "outputs": [],
   "source": [
    "#데이터 저장소\n",
    "data=[]"
   ]
  },
  {
   "cell_type": "code",
   "execution_count": 459,
   "metadata": {},
   "outputs": [],
   "source": [
    "#crawling start\n",
    "jeju = \"제주 \"\n",
    "SCROLL_PAUSE_TIME = 1.5\n",
    "collect_failed=[]\n",
    "btns=['_1_hm2','es3Ot','_2EZQu']\n",
    "for restaurant in restaurants:\n",
    "    #main page 불러오기\n",
    "    driver.get('https://m.naver.com/')\n",
    "    time.sleep(1)\n",
    "    name=restaurant\n",
    "    # 검색창에 검색어 입력하기\n",
    "    driver.find_element_by_xpath(\"//input[@id='MM_SEARCH_FAKE']\").click() #fake 해제 시킴 (성공)\n",
    "    time.sleep(1)\n",
    "    search_box = driver.find_element_by_css_selector(\"input.sch_inp\") #진짜 검색창\n",
    "\n",
    "\n",
    "    search_box.send_keys(jeju+name)  #jeju가 앞인지 뒤인지 파악해보기 + 식당\n",
    "    time.sleep(1.0)\n",
    "    \n",
    "    # 검색버튼 누르기\n",
    "    search_box.send_keys(Keys.ENTER)\n",
    "    time.sleep(2.0)\n",
    "    # 식당이름 클릭\n",
    "    try:\n",
    "        for btn in btns:\n",
    "            restaurant_btns = driver.find_elements_by_xpath(\"//span[@class='{}']\".format(btn))\n",
    "            if len(restaurant_btns) == 1:\n",
    "                restaurant_btns.click()\n",
    "                time.sleep(1.5)\n",
    "                break\n",
    "            else:\n",
    "                for restaurant_btn in restaurant_btns:\n",
    "                    #print(restaurant_btn.text)\n",
    "                    if name in restaurant_btn.text: #자동시스템에서 name 으로 변경\n",
    "                        restaurant_btn.click()\n",
    "                        time.sleep(1.5)\n",
    "                        break\n",
    "        # 방문자리뷰 클릭\n",
    "        driver.find_element_by_xpath(\"//span[@class='_1Y6hi']\").click()\n",
    "        time.sleep(1.5)\n",
    "\n",
    "        #별 평점\n",
    "        star_score=driver.find_element_by_css_selector(\"div.hRJcF\")\n",
    "        star_score=star_score.text.split(\"/\")[0]\n",
    "        star_score\n",
    "\n",
    "        #별 참여 개수\n",
    "        star_count=driver.find_element_by_css_selector(\"div._1XXGh\").text.split(\"명\")[0].split(\"(\")[1]\n",
    "        star_count\n",
    "\n",
    "        #리뷰 \"더보기 클릭\"\n",
    "        last_height = driver.execute_script(\"return document.body.scrollHeight\")\n",
    "        while True:\n",
    "            try:\n",
    "                #스크롤 맨밑으로 내리기\n",
    "                driver.execute_script(\"window.scrollTo(0, document.body.scrollHeight);\")\n",
    "                time.sleep(SCROLL_PAUSE_TIME) #1.5초 지연\n",
    "                driver.find_element_by_xpath(\"//a[@class='_3iTUo']\").click() #더보기 클릭\n",
    "            except:\n",
    "                 #종료 조건 (더보기 클릭이 더이상 되지않을때 종료)\n",
    "                new_height = driver.execute_script(\"return document.body.scrollHeight\")\n",
    "                if new_height == last_height:\n",
    "                    break\n",
    "            last_height = new_height\n",
    "\n",
    "        #모든 리뷰 추출\n",
    "        reviews = driver.find_elements_by_css_selector(\"div.PVBo8 > a > span.WoYOw\")\n",
    "        #리뷰 개수\n",
    "        review_count=len(reviews) \n",
    "\n",
    "        review_data = []\n",
    "        for review in reviews:\n",
    "            review_data.append(review.text)\n",
    "\n",
    "        temp_data={'name':name, \n",
    "                'star_score':star_score, \n",
    "                'star_count':star_count, \n",
    "                'review_count':review_count,\n",
    "                'review_data':review_data}\n",
    "\n",
    "        data.append(temp_data)\n",
    "    except:\n",
    "        collect_failed.append(name) #실패할경우 셀프 크롤링을 위해서 맛집이름 저장\n",
    "#crawling finished\n",
    "naver_review=pd.DataFrame(data)\n",
    "naver_review.to_csv(\"naver_review_crawling.csv\", index=False) #저장\n"
   ]
  },
  {
   "cell_type": "code",
   "execution_count": 402,
   "metadata": {},
   "outputs": [],
   "source": [
    "#저장 실패했을경우 = 셀프저장\n",
    "naver_review=pd.DataFrame(data)\n",
    "naver_review.to_csv(\"naver_review_crawling_fc.csv\", index=False) #저장"
   ]
  },
  {
   "cell_type": "markdown",
   "metadata": {},
   "source": [
    "___"
   ]
  },
  {
   "cell_type": "markdown",
   "metadata": {},
   "source": [
    "# 실패한것들 셀프 크롤링"
   ]
  },
  {
   "cell_type": "code",
   "execution_count": 475,
   "metadata": {},
   "outputs": [],
   "source": [
    "driver.get('https://m.naver.com/')\n",
    "time.sleep(1)"
   ]
  },
  {
   "cell_type": "code",
   "execution_count": 476,
   "metadata": {},
   "outputs": [],
   "source": [
    "cf_temp_data=[] #모으는동안 처음한번실행후 제실행 금지입니다."
   ]
  },
  {
   "cell_type": "code",
   "execution_count": 521,
   "metadata": {},
   "outputs": [
    {
     "data": {
      "text/plain": [
       "'안거리밖거리'"
      ]
     },
     "execution_count": 521,
     "metadata": {},
     "output_type": "execute_result"
    }
   ],
   "source": [
    "# 지정 추출 (오류만 따로)\n",
    "cf = mango_df.iloc[145,0]\n",
    "cf"
   ]
  },
  {
   "cell_type": "code",
   "execution_count": 477,
   "metadata": {
    "scrolled": true
   },
   "outputs": [
    {
     "data": {
      "text/plain": [
       "0     원더먼트제주 (휴업중)\n",
       "1             제주맥주\n",
       "2       이니스프리제주하우스\n",
       "3             광동식당\n",
       "4             삼영식당\n",
       "5             풍림다방\n",
       "6           941헤르츠\n",
       "7             요요무문\n",
       "8             우도왕자\n",
       "9               보엠\n",
       "10       중앙통닭 마농치킨\n",
       "11           랜디스도넛\n",
       "12         커피박물관바움\n",
       "dtype: object"
      ]
     },
     "execution_count": 477,
     "metadata": {},
     "output_type": "execute_result"
    }
   ],
   "source": [
    "# 크롤링 실패한 맛집리스트\n",
    "cf = pd.Series(collect_failed)\n",
    "cf"
   ]
  },
  {
   "cell_type": "code",
   "execution_count": 523,
   "metadata": {},
   "outputs": [],
   "source": [
    "jeju = \"제주 \"\n",
    "# 검색창\n",
    "driver.get('https://m.naver.com/')\n",
    "time.sleep(1)\n",
    "# 검색창에 검색어 입력하기\n",
    "driver.find_element_by_xpath(\"//input[@id='MM_SEARCH_FAKE']\").click() #fake 해제 시킴 (성공)\n",
    "time.sleep(1)\n",
    "search_box = driver.find_element_by_css_selector(\"input.sch_inp\") #진짜 검색창\n",
    "\n",
    "name=cf #오류만 따로 할경우\n",
    "# name=cf[0]\n",
    "#식당명 변경 숫자 + 하기 (셀프)\n",
    "search_box.send_keys(jeju+name)  #jeju가 앞인지 뒤인지 파악해보기 + 식당\n",
    "time.sleep(1.0)\n",
    "\n",
    "# 검색버튼 누르기\n",
    "search_box.send_keys(Keys.ENTER)\n",
    "time.sleep(1.5)"
   ]
  },
  {
   "cell_type": "code",
   "execution_count": 524,
   "metadata": {},
   "outputs": [],
   "source": [
    "# 식당클릭 (셀프)\n",
    "\n",
    "# 방문자리뷰 클릭\n",
    "# driver.find_element_by_xpath(\"//span[@class='_1Y6hi']\").click()\n",
    "# time.sleep(1.5)\n",
    "\n",
    "#별 평점\n",
    "star_score=driver.find_element_by_css_selector(\"div.hRJcF\")\n",
    "star_score=star_score.text.split(\"/\")[0]\n",
    "star_score\n",
    "#별 참여 개수\n",
    "star_count=driver.find_element_by_css_selector(\"div._1XXGh\").text.split(\"명\")[0].split(\"(\")[1]\n",
    "star_count\n",
    "\n",
    "\n",
    "# 셀프인 경우\n",
    "# star_score = 4.44\n",
    "# star_count = 104\n",
    "\n",
    "#리뷰 \"더보기 클릭\"\n",
    "last_height = driver.execute_script(\"return document.body.scrollHeight\")\n",
    "while True:\n",
    "    try:\n",
    "        #스크롤 맨밑으로 내리기\n",
    "        driver.execute_script(\"window.scrollTo(0, document.body.scrollHeight);\")\n",
    "        time.sleep(SCROLL_PAUSE_TIME) #1.5초 지연\n",
    "        driver.find_element_by_xpath(\"//a[@class='_3iTUo']\").click() #더보기 클릭\n",
    "    except:\n",
    "         #종료 조건 (더보기 클릭이 더이상 되지않을때 종료)\n",
    "        new_height = driver.execute_script(\"return document.body.scrollHeight\")\n",
    "        if new_height == last_height:\n",
    "            break\n",
    "    last_height = new_height\n",
    "\n",
    "#모든 리뷰 추출\n",
    "reviews = driver.find_elements_by_css_selector(\"div.PVBo8 > a > span.WoYOw\")\n",
    "#리뷰 개수\n",
    "review_count=len(reviews) \n",
    "\n",
    "review_data = []\n",
    "for review in reviews:\n",
    "    review_data.append(review.text)\n",
    "\n",
    "temp_data={'name':name, \n",
    "        'star_score':star_score, \n",
    "        'star_count':star_count, \n",
    "        'review_count':review_count,\n",
    "        'review_data':review_data}\n",
    "\n",
    "cf_temp_data.append(temp_data)\n"
   ]
  },
  {
   "cell_type": "code",
   "execution_count": 525,
   "metadata": {
    "scrolled": true
   },
   "outputs": [
    {
     "data": {
      "text/html": [
       "<div>\n",
       "<style scoped>\n",
       "    .dataframe tbody tr th:only-of-type {\n",
       "        vertical-align: middle;\n",
       "    }\n",
       "\n",
       "    .dataframe tbody tr th {\n",
       "        vertical-align: top;\n",
       "    }\n",
       "\n",
       "    .dataframe thead th {\n",
       "        text-align: right;\n",
       "    }\n",
       "</style>\n",
       "<table border=\"1\" class=\"dataframe\">\n",
       "  <thead>\n",
       "    <tr style=\"text-align: right;\">\n",
       "      <th></th>\n",
       "      <th>name</th>\n",
       "      <th>star_score</th>\n",
       "      <th>star_count</th>\n",
       "      <th>review_count</th>\n",
       "      <th>review_data</th>\n",
       "    </tr>\n",
       "  </thead>\n",
       "  <tbody>\n",
       "    <tr>\n",
       "      <th>0</th>\n",
       "      <td>제주맥주</td>\n",
       "      <td>4.53</td>\n",
       "      <td>1,058</td>\n",
       "      <td>960</td>\n",
       "      <td>[근처에 있다면 가볼만한집, 좋아요, 좋아요, 양조장 투어 재밌어요 맥주도 맛있고 ...</td>\n",
       "    </tr>\n",
       "    <tr>\n",
       "      <th>1</th>\n",
       "      <td>이니스프리제주하우스</td>\n",
       "      <td>4.49</td>\n",
       "      <td>1,599</td>\n",
       "      <td>543</td>\n",
       "      <td>[생각보다 이뻐요 가보세요, 좋아요! 주변도 너무 이쁘고!, 늘 좋아요^^, 케이크...</td>\n",
       "    </tr>\n",
       "    <tr>\n",
       "      <th>2</th>\n",
       "      <td>광동식당</td>\n",
       "      <td>4.37</td>\n",
       "      <td>22</td>\n",
       "      <td>15</td>\n",
       "      <td>[레전드, 별점이 5개밖에없는게 통탄스러워요.. 사장님 넘 후하시고 고기 무한리필에...</td>\n",
       "    </tr>\n",
       "    <tr>\n",
       "      <th>3</th>\n",
       "      <td>삼영식당</td>\n",
       "      <td>4.53</td>\n",
       "      <td>28</td>\n",
       "      <td>19</td>\n",
       "      <td>[진짜 현지인 맛집입니다 몸국추천합니다, 몸국 맛있어요~, 굿, 현지인 맛집느낌, ...</td>\n",
       "    </tr>\n",
       "    <tr>\n",
       "      <th>4</th>\n",
       "      <td>풍림다방</td>\n",
       "      <td>4.32</td>\n",
       "      <td>826</td>\n",
       "      <td>370</td>\n",
       "      <td>[다 좋은데 너무 복잡해요 밖에 테이블을 더 놨으면 좋겠어요!!! 간이 의자라도 있...</td>\n",
       "    </tr>\n",
       "    <tr>\n",
       "      <th>5</th>\n",
       "      <td>요요무문</td>\n",
       "      <td>4.44</td>\n",
       "      <td>104</td>\n",
       "      <td>45</td>\n",
       "      <td>[바다뷰 예뻐요~ 당근쥬스 완전 맛있!, 그릇 이뿜 바다 이뿜, 당근주스 현재 90...</td>\n",
       "    </tr>\n",
       "    <tr>\n",
       "      <th>6</th>\n",
       "      <td>우도왕자</td>\n",
       "      <td>3.9</td>\n",
       "      <td>45</td>\n",
       "      <td>17</td>\n",
       "      <td>[사장님 친절하시고 아이스크림도 맛있어요~~두번 먹었어요🧡, #검멀레해변 앞에있음 ...</td>\n",
       "    </tr>\n",
       "    <tr>\n",
       "      <th>7</th>\n",
       "      <td>보엠</td>\n",
       "      <td>4.36</td>\n",
       "      <td>60</td>\n",
       "      <td>22</td>\n",
       "      <td>[버터프레첼, 올리브치아바타 아몬드크루아상 전화픽업예약했어요. 예약되서 편하고 좋네...</td>\n",
       "    </tr>\n",
       "    <tr>\n",
       "      <th>8</th>\n",
       "      <td>중앙통닭 마농치킨</td>\n",
       "      <td>4.24</td>\n",
       "      <td>469</td>\n",
       "      <td>168</td>\n",
       "      <td>[맛있어요~, 맛있어여 ㅋ, 양이 우선 많고 맛도 괜찮아요, 항상 맛있게 먹고있어요...</td>\n",
       "    </tr>\n",
       "    <tr>\n",
       "      <th>9</th>\n",
       "      <td>랜디스도넛</td>\n",
       "      <td>4.39</td>\n",
       "      <td>646</td>\n",
       "      <td>286</td>\n",
       "      <td>[너무막잇오ㅠㅠ, 도넛 맛있어요, 크리스피랑 달라요.크리스피는 사르르 녹는느낌이면 ...</td>\n",
       "    </tr>\n",
       "    <tr>\n",
       "      <th>10</th>\n",
       "      <td>커피박물관바움</td>\n",
       "      <td>4.26</td>\n",
       "      <td>416</td>\n",
       "      <td>142</td>\n",
       "      <td>[맛있었어요 친절하시고 뷰도예뻐요 ㅎㅎ 일층 커피박물관 무룐줄알았는데 아니였어요, ...</td>\n",
       "    </tr>\n",
       "    <tr>\n",
       "      <th>11</th>\n",
       "      <td>안거리밖거리</td>\n",
       "      <td>4.29</td>\n",
       "      <td>206</td>\n",
       "      <td>86</td>\n",
       "      <td>[올레길 6코스..매일올레시장 찾아가다 손님들이 많길래 들어갔다. 돔배고기.옥돔구이...</td>\n",
       "    </tr>\n",
       "  </tbody>\n",
       "</table>\n",
       "</div>"
      ],
      "text/plain": [
       "          name star_score star_count  review_count  \\\n",
       "0         제주맥주       4.53      1,058           960   \n",
       "1   이니스프리제주하우스       4.49      1,599           543   \n",
       "2         광동식당       4.37         22            15   \n",
       "3         삼영식당       4.53         28            19   \n",
       "4         풍림다방       4.32        826           370   \n",
       "5         요요무문       4.44        104            45   \n",
       "6         우도왕자        3.9         45            17   \n",
       "7           보엠       4.36         60            22   \n",
       "8    중앙통닭 마농치킨       4.24        469           168   \n",
       "9        랜디스도넛       4.39        646           286   \n",
       "10     커피박물관바움       4.26        416           142   \n",
       "11      안거리밖거리       4.29        206            86   \n",
       "\n",
       "                                          review_data  \n",
       "0   [근처에 있다면 가볼만한집, 좋아요, 좋아요, 양조장 투어 재밌어요 맥주도 맛있고 ...  \n",
       "1   [생각보다 이뻐요 가보세요, 좋아요! 주변도 너무 이쁘고!, 늘 좋아요^^, 케이크...  \n",
       "2   [레전드, 별점이 5개밖에없는게 통탄스러워요.. 사장님 넘 후하시고 고기 무한리필에...  \n",
       "3   [진짜 현지인 맛집입니다 몸국추천합니다, 몸국 맛있어요~, 굿, 현지인 맛집느낌, ...  \n",
       "4   [다 좋은데 너무 복잡해요 밖에 테이블을 더 놨으면 좋겠어요!!! 간이 의자라도 있...  \n",
       "5   [바다뷰 예뻐요~ 당근쥬스 완전 맛있!, 그릇 이뿜 바다 이뿜, 당근주스 현재 90...  \n",
       "6   [사장님 친절하시고 아이스크림도 맛있어요~~두번 먹었어요🧡, #검멀레해변 앞에있음 ...  \n",
       "7   [버터프레첼, 올리브치아바타 아몬드크루아상 전화픽업예약했어요. 예약되서 편하고 좋네...  \n",
       "8   [맛있어요~, 맛있어여 ㅋ, 양이 우선 많고 맛도 괜찮아요, 항상 맛있게 먹고있어요...  \n",
       "9   [너무막잇오ㅠㅠ, 도넛 맛있어요, 크리스피랑 달라요.크리스피는 사르르 녹는느낌이면 ...  \n",
       "10  [맛있었어요 친절하시고 뷰도예뻐요 ㅎㅎ 일층 커피박물관 무룐줄알았는데 아니였어요, ...  \n",
       "11  [올레길 6코스..매일올레시장 찾아가다 손님들이 많길래 들어갔다. 돔배고기.옥돔구이...  "
      ]
     },
     "execution_count": 525,
     "metadata": {},
     "output_type": "execute_result"
    }
   ],
   "source": [
    "pd.DataFrame(cf_temp_data)"
   ]
  },
  {
   "cell_type": "code",
   "execution_count": 526,
   "metadata": {},
   "outputs": [],
   "source": [
    "naver_review=pd.DataFrame(cf_temp_data)\n",
    "naver_review.to_csv(\"naver_review_crawling_fc.csv\", index=False) #저장"
   ]
  },
  {
   "cell_type": "markdown",
   "metadata": {},
   "source": [
    "___\n",
    "## 여기까지 실패한 리뷰 셀프 추출(완료)\n",
    "___"
   ]
  },
  {
   "cell_type": "code",
   "execution_count": 527,
   "metadata": {},
   "outputs": [],
   "source": [
    "#브라우저 종료\n",
    "driver.close()"
   ]
  },
  {
   "cell_type": "markdown",
   "metadata": {},
   "source": [
    "___\n",
    "## 테스팅 코드"
   ]
  },
  {
   "cell_type": "code",
   "execution_count": 370,
   "metadata": {},
   "outputs": [],
   "source": [
    "# 검색창에 검색어 입력하기\n",
    "# driver.find_element_by_css_selector(\"span.sch_inpw_in\").click() #fake 해제 시킴\n",
    "# driver.find_element_by_css_selector(\"//input[@id='MM_SEARCH_FAKE']\").click() #fake 해제 시킴\n",
    "driver.find_element_by_xpath(\"//input[@id='MM_SEARCH_FAKE']\").click() #fake 해제 시킴 (성공)\n",
    "time.sleep(1)\n",
    "search_box = driver.find_element_by_css_selector(\"input.sch_inp\") #진짜 검색창\n",
    "\n",
    "jeju = \"제주 \"\n",
    "search_box.send_keys(jeju+\"88돼지\")  #jeju가 앞인지 뒤인지 파악해보기 + 식당\n",
    "time.sleep(2.0)"
   ]
  },
  {
   "cell_type": "code",
   "execution_count": 371,
   "metadata": {},
   "outputs": [],
   "source": [
    "# 검색버튼 누르기\n",
    "search_box.send_keys(Keys.ENTER)\n",
    "time.sleep(1.5)"
   ]
  },
  {
   "cell_type": "code",
   "execution_count": 372,
   "metadata": {},
   "outputs": [],
   "source": [
    "# 식당이름 클릭\n",
    "try:\n",
    "    driver.find_element_by_xpath(\"//a[@class='_1_hm2']\").click()\n",
    "    time.sleep(1.5)\n",
    "except:\n",
    "    driver.find_element_by_xpath(\"//span[@class='es3Ot']\").click()"
   ]
  },
  {
   "cell_type": "code",
   "execution_count": 373,
   "metadata": {},
   "outputs": [],
   "source": [
    "# 방문자리뷰 클릭\n",
    "driver.find_element_by_xpath(\"//span[@class='_1Y6hi']\").click()\n",
    "time.sleep(1.5)"
   ]
  },
  {
   "cell_type": "code",
   "execution_count": 374,
   "metadata": {},
   "outputs": [
    {
     "data": {
      "text/plain": [
       "'4.39'"
      ]
     },
     "execution_count": 374,
     "metadata": {},
     "output_type": "execute_result"
    }
   ],
   "source": [
    "#별 평점\n",
    "star_score=driver.find_element_by_css_selector(\"div.hRJcF\")\n",
    "star_score=star_score.text.split(\"/\")[0]\n",
    "star_score"
   ]
  },
  {
   "cell_type": "code",
   "execution_count": 375,
   "metadata": {},
   "outputs": [
    {
     "data": {
      "text/plain": [
       "'99'"
      ]
     },
     "execution_count": 375,
     "metadata": {},
     "output_type": "execute_result"
    }
   ],
   "source": [
    "#별 참여 개수\n",
    "star_count=driver.find_element_by_css_selector(\"div._1XXGh\").text.split(\"명\")[0].split(\"(\")[1]\n",
    "star_count"
   ]
  },
  {
   "cell_type": "markdown",
   "metadata": {},
   "source": [
    "#리뷰 \"더보기 클릭\"\n",
    "driver.find_element_by_xpath(\"//a[@class='_3iTUo']\").click()"
   ]
  },
  {
   "cell_type": "code",
   "execution_count": 376,
   "metadata": {},
   "outputs": [],
   "source": [
    "#리뷰 \"더보기 클릭\"\n",
    "SCROLL_PAUSE_TIME = 1.5\n",
    "last_height = driver.execute_script(\"return document.body.scrollHeight\")\n",
    "while True:\n",
    "    try:\n",
    "        #스크롤 맨밑으로 내리기\n",
    "        driver.execute_script(\"window.scrollTo(0, document.body.scrollHeight);\")\n",
    "        time.sleep(SCROLL_PAUSE_TIME) #1.5초 지연\n",
    "        driver.find_element_by_xpath(\"//a[@class='_3iTUo']\").click() #더보기 클릭\n",
    "    except:\n",
    "         #종료 조건 (더보기 클릭이 더이상 되지않을때 종료)\n",
    "        new_height = driver.execute_script(\"return document.body.scrollHeight\")\n",
    "        if new_height == last_height:\n",
    "            break\n",
    "    last_height = new_height"
   ]
  },
  {
   "cell_type": "code",
   "execution_count": 377,
   "metadata": {},
   "outputs": [],
   "source": [
    "#모든 리뷰 추출\n",
    "reviews = driver.find_elements_by_css_selector(\"div.PVBo8 > a > span.WoYOw\")"
   ]
  },
  {
   "cell_type": "code",
   "execution_count": 378,
   "metadata": {},
   "outputs": [
    {
     "data": {
      "text/plain": [
       "40"
      ]
     },
     "execution_count": 378,
     "metadata": {},
     "output_type": "execute_result"
    }
   ],
   "source": [
    "review_count=len(reviews) #리뷰 개수\n",
    "review_count"
   ]
  },
  {
   "cell_type": "markdown",
   "metadata": {},
   "source": [
    "reviews[39].text #테스트"
   ]
  },
  {
   "cell_type": "code",
   "execution_count": 379,
   "metadata": {},
   "outputs": [],
   "source": [
    "review_data = []\n",
    "for review in reviews:\n",
    "    review_data.append(review.text)\n",
    "# review_data"
   ]
  },
  {
   "cell_type": "markdown",
   "metadata": {},
   "source": [
    "reviews=driver.find_element_by_xpath(\"//span[@class='WoYOw']\")"
   ]
  },
  {
   "cell_type": "code",
   "execution_count": null,
   "metadata": {},
   "outputs": [],
   "source": [
    "data=[]\n",
    "restaurant={#'name':name, \n",
    "            'star_score':star_score, \n",
    "            'star_count':star_count, \n",
    "            'review_count':review_count,\n",
    "            'review_data':review_data}\n",
    "\n",
    "data.append(restaurant)"
   ]
  },
  {
   "cell_type": "code",
   "execution_count": 380,
   "metadata": {},
   "outputs": [],
   "source": [
    "restaurant={#'name':name, \n",
    "            'star_score':star_score, \n",
    "            'star_count':star_count, \n",
    "            'review_count':review_count,\n",
    "            'review_data':review_data}\n",
    "\n",
    "data.append(restaurant)"
   ]
  },
  {
   "cell_type": "code",
   "execution_count": 396,
   "metadata": {
    "scrolled": true
   },
   "outputs": [
    {
     "data": {
      "text/html": [
       "<div>\n",
       "<style scoped>\n",
       "    .dataframe tbody tr th:only-of-type {\n",
       "        vertical-align: middle;\n",
       "    }\n",
       "\n",
       "    .dataframe tbody tr th {\n",
       "        vertical-align: top;\n",
       "    }\n",
       "\n",
       "    .dataframe thead th {\n",
       "        text-align: right;\n",
       "    }\n",
       "</style>\n",
       "<table border=\"1\" class=\"dataframe\">\n",
       "  <thead>\n",
       "    <tr style=\"text-align: right;\">\n",
       "      <th></th>\n",
       "    </tr>\n",
       "  </thead>\n",
       "  <tbody>\n",
       "  </tbody>\n",
       "</table>\n",
       "</div>"
      ],
      "text/plain": [
       "Empty DataFrame\n",
       "Columns: []\n",
       "Index: []"
      ]
     },
     "execution_count": 396,
     "metadata": {},
     "output_type": "execute_result"
    }
   ],
   "source": [
    "pd.DataFrame(data)"
   ]
  },
  {
   "cell_type": "markdown",
   "metadata": {},
   "source": [
    "#crawling start\n",
    "jeju = \"제주 \"\n",
    "SCROLL_PAUSE_TIME = 1.5\n",
    "collect_failed=[]\n",
    "btns=['_1_hm2','es3Ot','_2EZQu']\n",
    "for restaurant in restaurants:\n",
    "    #main page 불러오기\n",
    "    driver.get('https://m.naver.com/')\n",
    "    time.sleep(1)\n",
    "    name=restaurant\n",
    "    # 검색창에 검색어 입력하기\n",
    "    driver.find_element_by_xpath(\"//input[@id='MM_SEARCH_FAKE']\").click() #fake 해제 시킴 (성공)\n",
    "    time.sleep(1)\n",
    "    search_box = driver.find_element_by_css_selector(\"input.sch_inp\") #진짜 검색창\n",
    "\n",
    "\n",
    "    search_box.send_keys(jeju+name)  #jeju가 앞인지 뒤인지 파악해보기 + 식당\n",
    "    time.sleep(2.0)\n",
    "    \n",
    "    # 검색버튼 누르기\n",
    "    search_box.send_keys(Keys.ENTER)\n",
    "    time.sleep(1.5)\n",
    "    # 식당이름 클릭\n",
    "    try:\n",
    "        driver.find_element_by_xpath(\"//a[@class='_1_hm2']\").click()\n",
    "        time.sleep(1.5)\n",
    "    except:\n",
    "        try:\n",
    "            driver.find_element_by_xpath(\"//span[@class='es3Ot']\").click() #식당 리스트가 여러개일경우 가장위에것 클릭\n",
    "            time.sleep(1.5)\n",
    "        except:\n",
    "            driver.find_element_by_xpath(\"//span[@class='_2EZQu']\").click() #식당 리스트가 여러개일경우 가장위에것 클릭\n",
    "            time.sleep(1.5)\n",
    "    # 방문자리뷰 클릭\n",
    "    driver.find_element_by_xpath(\"//span[@class='_1Y6hi']\").click()\n",
    "    time.sleep(1.5)\n",
    "    \n",
    "    #별 평점\n",
    "    star_score=driver.find_element_by_css_selector(\"div.hRJcF\")\n",
    "    star_score=star_score.text.split(\"/\")[0]\n",
    "    star_score\n",
    "    \n",
    "    #별 참여 개수\n",
    "    star_count=driver.find_element_by_css_selector(\"div._1XXGh\").text.split(\"명\")[0].split(\"(\")[1]\n",
    "    star_count\n",
    "    \n",
    "    #리뷰 \"더보기 클릭\"\n",
    "    last_height = driver.execute_script(\"return document.body.scrollHeight\")\n",
    "    while True:\n",
    "        try:\n",
    "            #스크롤 맨밑으로 내리기\n",
    "            driver.execute_script(\"window.scrollTo(0, document.body.scrollHeight);\")\n",
    "            time.sleep(SCROLL_PAUSE_TIME) #1.5초 지연\n",
    "            driver.find_element_by_xpath(\"//a[@class='_3iTUo']\").click() #더보기 클릭\n",
    "        except:\n",
    "             #종료 조건 (더보기 클릭이 더이상 되지않을때 종료)\n",
    "            new_height = driver.execute_script(\"return document.body.scrollHeight\")\n",
    "            if new_height == last_height:\n",
    "                break\n",
    "        last_height = new_height\n",
    "        \n",
    "    #모든 리뷰 추출\n",
    "    reviews = driver.find_elements_by_css_selector(\"div.PVBo8 > a > span.WoYOw\")\n",
    "    #리뷰 개수\n",
    "    review_count=len(reviews) \n",
    "    \n",
    "    review_data = []\n",
    "    for review in reviews:\n",
    "        review_data.append(review.text)\n",
    "    \n",
    "    temp_data={'name':name, \n",
    "            'star_score':star_score, \n",
    "            'star_count':star_count, \n",
    "            'review_count':review_count,\n",
    "            'review_data':review_data}\n",
    "\n",
    "    data.append(temp_data)\n",
    "#crawling finished\n",
    "naver_review=pd.DataFrame(data)\n",
    "naver_review.to_csv(\"naver_review_crawling.csv\", index=False) #저장\n"
   ]
  },
  {
   "cell_type": "markdown",
   "metadata": {},
   "source": [
    "___\n",
    "### 연습코드"
   ]
  },
  {
   "cell_type": "code",
   "execution_count": null,
   "metadata": {},
   "outputs": [],
   "source": [
    "에구 저도 해봐야 할 것 같아요 ㅠㅠ ",
    "def crawling(self): ",
    "코드가 쭈욱 나오고~~ ",
    "json.loads(data.text, encoding='utf-8') ",
    "self.data['컬럼명\"] ",
    "이런식으로 추출하거든요\n",
    "                                                                                                        \n",
    "self.get_json_value(\"컬럼명\")"
   ]
  },
  {
   "cell_type": "code",
   "execution_count": null,
   "metadata": {},
   "outputs": [],
   "source": [
    "self.get_json_value(\"컬럼명\") ",
    "이런식도 가능하고요 ",
    "json 예를 찾아보는게 좋을것 같아요 ㅠㅠ ",
    "동적페이지는 사실 ajax 를 따로 공부해야하는데\\ ",
    "우리 과정하고는 별개라서"
   ]
  },
  {
   "cell_type": "code",
   "execution_count": 84,
   "metadata": {},
   "outputs": [
    {
     "name": "stdout",
     "output_type": "stream",
     "text": [
      "[{'num': 0}, {'num': 1}, {'num': 2}]\n",
      "{'num': 1}\n",
      "1\n",
      "3\n",
      "{'fruit': 'banana'}\n"
     ]
    }
   ],
   "source": [
    "# 동적페이지 예제\n",
    "import json\n",
    "\n",
    "jsonString = \"\"\"{\n",
    "    \"number\":[{\"num\":0},{\"num\":1},{\"num\":2}],\n",
    "    \"fruits\":[{\"fruit\":\"apple\"},{\"fruit\":\"banana\"},{\"fruit\":\"pear\"}]\n",
    "}\"\"\"\n",
    "\n",
    "jsonObj = json.loads(jsonString)\n",
    "\n",
    "print(jsonObj.get(\"number\"))\n",
    "print(jsonObj.get(\"number\")[1])\n",
    "print(jsonObj.get(\"number\")[1].get(\"num\"))\n",
    "print(jsonObj.get(\"number\")[1].get(\"num\") + jsonObj.get(\"number\")[2].get(\"num\"))\n",
    "print(jsonObj.get(\"fruits\")[1])"
   ]
  },
  {
   "cell_type": "code",
   "execution_count": null,
   "metadata": {},
   "outputs": [],
   "source": [
    "elif '블로그 리뷰' in info:\n",
    "    headers2={\n",
    "        \"Referer\":\"https://store.naver.com/restaurants/detail?\",\n",
    "        \"User-Agent\":\"Mozilla/5.0 (Windows NT 10.0; Win64; x64) AppleWebKit/537.36 (KHTML, like Gecko) Chrome/73.0.3683.103 Safari/537.36\"\n",
    "    }\n",
    "\n",
    "    params2 = {\n",
    "        \"exclude\":\"\",\n",
    "        \"businessId\":place_a_id,\n",
    "        \"category\":\"restaurant\",\n",
    "        \"start\": 1,\n",
    "        \"display\": 50\n",
    "    }\n",
    "\n",
    "    naver_blog_url = \"https://store.naver.com/sogum/api/fsasReviews\"\n",
    "    res = requests.get(naver_blog_url,headers=headers2, params=params2)\n",
    "    blog_dict = json.loads(res.text)\n",
    "    print('--블로그 리뷰 : ',len(blog_dict['items']))"
   ]
  },
  {
   "cell_type": "code",
   "execution_count": null,
   "metadata": {},
   "outputs": [],
   "source": [
    "html = driver.page_source\n",
    "soup = BeautifulSoup(html,'lxml')\n",
    "\n",
    "content = soup.select('ul:nth-child(1) > div > li > div > div.C7I1f > div.C4VMK > span')[0].text\n",
    "narration = re.findall(\"[가-힣ㄱ-ㅎ\\D]+\\s+[^#]+\", content)\n",
    "\n",
    "tags = re.findall(\"#[\\w,가-힣ㄱ-ㅎ]+\",content)\n",
    "comments = soup.select('ul:nth-child(n+2) > div > li > div > div.C7I1f > div.C4VMK > span')\n",
    "# comments\n",
    "# temp_comments=[]\n",
    "# for comment in comments:\n",
    "#     temp_comments.append(comment.text)\n",
    "# temp_comments\n",
    "# content\n",
    "narration"
   ]
  },
  {
   "cell_type": "code",
   "execution_count": null,
   "metadata": {},
   "outputs": [],
   "source": [
    "def get_content(driver):\n",
    "    html = driver.page_source\n",
    "    soup = BeautifulSoup(html,'lxml')\n",
    "    try:\n",
    "        content = soup.select('div.C4VMK>span')[0].text\n",
    "    except:\n",
    "        content =''\n",
    "    #설명만 가져오기\n",
    "    try:\n",
    "        narration = re.findall(\"[가-힣ㄱ-ㅎ\\D]+\\s+[^#]+\", content)\n",
    "    except:\n",
    "        narration = ''\n",
    "    #해시태그만 가져오기\n",
    "    try:\n",
    "        tags = re.findall(\"#[\\w,가-힣ㄱ-ㅎ]+\",content)\n",
    "    except:\n",
    "        tags=''\n",
    "    \n",
    "    #작성일자 가져오기\n",
    "    try:\n",
    "        date=soup.select(\"time._1o9PC.Nzb55\")[0]['datetime'][:10]\n",
    "    except:\n",
    "        date =''\n",
    "    try:\n",
    "        place = soup.select('div.M30cS')[0].text # 위치정보를 알려주는 코드\n",
    "    except:\n",
    "        place=''\n",
    "    #댓글 가져오기 (감성분석 사용)\n",
    "    temp_comments=[]\n",
    "    try:\n",
    "        comments = soup.select('ul:nth-child(n+2) > div > li > div > div.C7I1f > div.C4VMK > span')\n",
    "        for comment in comments:\n",
    "            temp_comments.append(comment.text)\n",
    "    except:\n",
    "        comments = ''\n",
    "#     data =[tags,date,place]\n",
    "#     data={'tags':tags,'date':[date],'place':[place]}\n",
    "    data={'narration':narration,'tags':tags,'date':date,'place':place,'comments':temp_comments}\n",
    "\n",
    "    return data\n",
    "get_content(driver) #감성분석할때 제외할 것 \"\\xa0\""
   ]
  },
  {
   "cell_type": "code",
   "execution_count": null,
   "metadata": {},
   "outputs": [],
   "source": [
    "def moveNext(driver):\n",
    "    try:\n",
    "        right=driver.find_element_by_css_selector(\"a.coreSpriteRightPaginationArrow\")\n",
    "        right.click()\n",
    "        time.sleep( random.uniform(2,7))\n",
    "    except: \n",
    "        driver.close()\n",
    "moveNext(driver)\n",
    "\n"
   ]
  },
  {
   "cell_type": "code",
   "execution_count": null,
   "metadata": {},
   "outputs": [],
   "source": [
    "try:\n",
    "    results=[]\n",
    "    for i in tqdm(range(10000)):\n",
    "        results.append(get_content(driver))\n",
    "        right=driver.find_element_by_css_selector(\"a.coreSpriteRightPaginationArrow\")\n",
    "        right.click()\n",
    "        time.sleep( random.uniform(2,7))\n",
    "except:\n",
    "    insta = pd.DataFrame(results)\n",
    "    insta.to_csv(\"naver_jeju.csv\",encoding='utf-8', index = False)\n",
    "driver.close()"
   ]
  }
 ],
 "metadata": {
  "kernelspec": {
   "display_name": "Python 3",
   "language": "python",
   "name": "python3"
  },
  "language_info": {
   "codemirror_mode": {
    "name": "ipython",
    "version": 3
   },
   "file_extension": ".py",
   "mimetype": "text/x-python",
   "name": "python",
   "nbconvert_exporter": "python",
   "pygments_lexer": "ipython3",
   "version": "3.8.3"
  }
 },
 "nbformat": 4,
 "nbformat_minor": 4
}
