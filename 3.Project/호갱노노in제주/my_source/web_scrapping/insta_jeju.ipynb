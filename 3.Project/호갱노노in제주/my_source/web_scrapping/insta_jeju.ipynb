{
 "cells": [
  {
   "cell_type": "code",
   "execution_count": 1,
   "metadata": {},
   "outputs": [],
   "source": [
    "from selenium import webdriver\n",
    "from bs4 import BeautifulSoup\n",
    "from urllib.request import Request, urlopen\n",
    "import time\n",
    "import re\n",
    "import pandas as pd\n",
    "from tqdm.notebook import tqdm\n",
    "import random"
   ]
  },
  {
   "cell_type": "markdown",
   "metadata": {},
   "source": [
    "### safari driver 실행하는법\n",
    "browser = webdriver.Safari(executable_path = '/usr/bin/safaridriver')    \n",
    "browser.get('https://www.google.com')\n",
    "time.sleep(10)\n"
   ]
  },
  {
   "cell_type": "markdown",
   "metadata": {},
   "source": [
    "browser.quit()"
   ]
  },
  {
   "cell_type": "markdown",
   "metadata": {},
   "source": [
    "driver = webdriver.Safari(executable_path = '/usr/bin/safaridriver') "
   ]
  },
  {
   "cell_type": "code",
   "execution_count": 3,
   "metadata": {},
   "outputs": [],
   "source": [
    "driver = webdriver.Chrome(\"/Users/jinwon-kim/Developer/chromedriver\")"
   ]
  },
  {
   "cell_type": "code",
   "execution_count": 4,
   "metadata": {},
   "outputs": [],
   "source": [
    "driver.get('https://www.instagram.com/')\n",
    "time.sleep(2)"
   ]
  },
  {
   "cell_type": "code",
   "execution_count": 5,
   "metadata": {},
   "outputs": [],
   "source": [
    "def insta_searching(word):\n",
    "    url=\"https://www.instagram.com/explore/tags/\"+word\n",
    "    return url\n",
    "word=\"제주도맛집\"\n",
    "url=insta_searching(word)\n",
    "url\n",
    "driver.get(url)"
   ]
  },
  {
   "cell_type": "code",
   "execution_count": 6,
   "metadata": {},
   "outputs": [],
   "source": [
    "def select_first(driver):\n",
    "    first=driver.find_element_by_css_selector(\"div._9AhH0\")\n",
    "    first.click()\n",
    "    time.sleep(3) \n",
    "select_first(driver)"
   ]
  },
  {
   "cell_type": "markdown",
   "metadata": {},
   "source": [
    "html = driver.page_source\n",
    "soup = BeautifulSoup(html,'lxml')\n",
    "try:\n",
    "    content = soup.select('div.C4VMK>span')[0].text\n",
    "except:\n",
    "    content =''\n",
    "tags = re.findall(\"#[\\w,가-힣ㄱ-ㅎ]+\",content)\n",
    "comments = soup.select('ul:nth-child(n+2) > div > li > div > div.C7I1f > div.C4VMK > span')\n",
    "# comments\n",
    "temp_comments=[]\n",
    "for comment in comments:\n",
    "    temp_comments.append(comment.text)\n",
    "temp_comments"
   ]
  },
  {
   "cell_type": "raw",
   "metadata": {},
   "source": [
    "html = driver.page_source\n",
    "soup = BeautifulSoup(html,'lxml')\n",
    "\n",
    "content = soup.select('ul:nth-child(1) > div > li > div > div.C7I1f > div.C4VMK > span')[0].text\n",
    "narration = re.findall(\"[가-힣ㄱ-ㅎ\\D]+\\s+[^#]+\", content)\n",
    "\n",
    "tags = re.findall(\"#[\\w,가-힣ㄱ-ㅎ]+\",content)\n",
    "comments = soup.select('ul:nth-child(n+2) > div > li > div > div.C7I1f > div.C4VMK > span')\n",
    "# comments\n",
    "# temp_comments=[]\n",
    "# for comment in comments:\n",
    "#     temp_comments.append(comment.text)\n",
    "# temp_comments\n",
    "# content\n",
    "narration"
   ]
  },
  {
   "cell_type": "code",
   "execution_count": 178,
   "metadata": {
    "scrolled": true
   },
   "outputs": [
    {
     "data": {
      "text/plain": [
       "{'narration': ['이국적인  제주바다와  연인들을위한식당 \"제주하복\\'\\'.식당인지 분위기좋은 카페인지  헷갈리는  분위기..😆😆😂 정말말도안되는 분위기🤩🤩🤩🤩.. 제주에서  이런  오션뷰 전복전문점은 단언컨대 \\'\\'제주하복\\'\\'말고는  없습니다..<코로나19로부터  더욱더 안전하게 1인 1트레이  식사😷😷😷>. 인피니티 전복전문음식점  제주 [하복]이  드디어  open  합니다  정상영업중입니다 [연중무휴] 09:30~20:30last order 19:30☎️070 4543 2720제주시 애월읍 애월북서길 56'],\n",
       " 'tags': ['#제주도맛집',\n",
       "  '#애월맛집',\n",
       "  '#제주전복',\n",
       "  '#제주하복',\n",
       "  '#하이엔드제주',\n",
       "  '#제주맛집',\n",
       "  '#서귀포맛집',\n",
       "  '#애월맛집추천',\n",
       "  '#한림맛집',\n",
       "  '#한라산',\n",
       "  '#제주전복맛집',\n",
       "  '#제주카페',\n",
       "  '#하복',\n",
       "  '#제주맛집추천',\n",
       "  '#제주공항근처맛집',\n",
       "  '#제주공항맛집',\n",
       "  '#모슬포맛집',\n",
       "  '#성산맛집',\n",
       "  '#제주전복죽',\n",
       "  '#제주물회'],\n",
       " 'date': '2020-10-14',\n",
       " 'place': '',\n",
       " 'comments': ['선팔완료~ 소통해여^^',\n",
       "  '제주도가면 가볼곳이 또 생겼네요 🙊',\n",
       "  '제주도에 이렇게 멋진곳이 있다니 환상입니다',\n",
       "  '우리 소통해요 제 피드도 놀러와주세요~~♥',\n",
       "  '♥ 백개!!^^',\n",
       "  '사진들이 다 이쁘네용:)',\n",
       "  '사진에 반해버렸어연♥♥',\n",
       "  '방가워요!! 소통 가능할까여:)',\n",
       "  '좋은 사진 보고가요~~ 자주올게요!! 자주만나용~‼️',\n",
       "  '인친하구 싶어용^^',\n",
       "  '잘보구 갑니당 댓글 남기구 가연♥♥',\n",
       "  '인친하고 싶어 선팔하고 갑니다~~♥']}"
      ]
     },
     "execution_count": 178,
     "metadata": {},
     "output_type": "execute_result"
    }
   ],
   "source": [
    "def get_content(driver):\n",
    "    html = driver.page_source\n",
    "    soup = BeautifulSoup(html,'lxml')\n",
    "    try:\n",
    "        content = soup.select('div.C4VMK>span')[0].text\n",
    "    except:\n",
    "        content =''\n",
    "    #설명만 가져오기\n",
    "    try:\n",
    "        narration = re.findall(\"[가-힣ㄱ-ㅎ\\D]+\\s+[^#]+\", content)\n",
    "    except:\n",
    "        narration = ''\n",
    "    #해시태그만 가져오기\n",
    "    try:\n",
    "        tags = re.findall(\"#[\\w,가-힣ㄱ-ㅎ]+\",content)\n",
    "    except:\n",
    "        tags=''\n",
    "    \n",
    "    #작성일자 가져오기\n",
    "    try:\n",
    "        date=soup.select(\"time._1o9PC.Nzb55\")[0]['datetime'][:10]\n",
    "    except:\n",
    "        date =''\n",
    "    try:\n",
    "        place = soup.select('div.M30cS')[0].text # 위치정보를 알려주는 코드\n",
    "    except:\n",
    "        place=''\n",
    "    #댓글 가져오기 (감성분석 사용)\n",
    "    temp_comments=[]\n",
    "    try:\n",
    "        comments = soup.select('ul:nth-child(n+2) > div > li > div > div.C7I1f > div.C4VMK > span')\n",
    "        for comment in comments:\n",
    "            temp_comments.append(comment.text)\n",
    "    except:\n",
    "        comments = ''\n",
    "#     data =[tags,date,place]\n",
    "#     data={'tags':tags,'date':[date],'place':[place]}\n",
    "    data={'narration':narration,'tags':tags,'date':date,'place':place,'comments':temp_comments}\n",
    "\n",
    "    return data\n",
    "get_content(driver) #감성분석할때 제외할 것 \"\\xa0\""
   ]
  },
  {
   "cell_type": "code",
   "execution_count": 179,
   "metadata": {},
   "outputs": [],
   "source": [
    "result=[]"
   ]
  },
  {
   "cell_type": "code",
   "execution_count": 182,
   "metadata": {
    "scrolled": true
   },
   "outputs": [
    {
     "data": {
      "text/plain": [
       "[{'narration': ['이국적인  제주바다와  연인들을위한식당 \"제주하복\\'\\'.식당인지 분위기좋은 카페인지  헷갈리는  분위기..😆😆😂 정말말도안되는 분위기🤩🤩🤩🤩.. 제주에서  이런  오션뷰 전복전문점은 단언컨대 \\'\\'제주하복\\'\\'말고는  없습니다..<코로나19로부터  더욱더 안전하게 1인 1트레이  식사😷😷😷>. 인피니티 전복전문음식점  제주 [하복]이  드디어  open  합니다  정상영업중입니다 [연중무휴] 09:30~20:30last order 19:30☎️070 4543 2720제주시 애월읍 애월북서길 56'],\n",
       "  'tags': ['#제주도맛집',\n",
       "   '#애월맛집',\n",
       "   '#제주전복',\n",
       "   '#제주하복',\n",
       "   '#하이엔드제주',\n",
       "   '#제주맛집',\n",
       "   '#서귀포맛집',\n",
       "   '#애월맛집추천',\n",
       "   '#한림맛집',\n",
       "   '#한라산',\n",
       "   '#제주전복맛집',\n",
       "   '#제주카페',\n",
       "   '#하복',\n",
       "   '#제주맛집추천',\n",
       "   '#제주공항근처맛집',\n",
       "   '#제주공항맛집',\n",
       "   '#모슬포맛집',\n",
       "   '#성산맛집',\n",
       "   '#제주전복죽',\n",
       "   '#제주물회'],\n",
       "  'date': '2020-10-14',\n",
       "  'place': '',\n",
       "  'comments': ['선팔완료~ 소통해여^^',\n",
       "   '제주도가면 가볼곳이 또 생겼네요 🙊',\n",
       "   '제주도에 이렇게 멋진곳이 있다니 환상입니다',\n",
       "   '우리 소통해요 제 피드도 놀러와주세요~~♥',\n",
       "   '♥ 백개!!^^',\n",
       "   '사진들이 다 이쁘네용:)',\n",
       "   '사진에 반해버렸어연♥♥',\n",
       "   '방가워요!! 소통 가능할까여:)',\n",
       "   '좋은 사진 보고가요~~ 자주올게요!! 자주만나용~‼️',\n",
       "   '인친하구 싶어용^^',\n",
       "   '잘보구 갑니당 댓글 남기구 가연♥♥',\n",
       "   '인친하고 싶어 선팔하고 갑니다~~♥']},\n",
       " {'narration': ['가을제주 가을하미😍😍제법 선선해진 제주 가을날씨에요 제가 제일 좋아하는 계절이기도해요 제주의 가을은 볼거리 먹을거리 즐기거리가 가득해요 곳곳에 자라난 억새,갈대 해질녘 가을선셋 조금 더 있으면 나오기 시작하는 대방어 무엇보다도 가을에 가장 맛있는 갈치!! 제주여행은 언제나 즐겁지만 애월하미에 오시면 그 즐거움은 배가 될거라고 생각돼요 지금 여행중이시거나 계획중이신 제주여행자분들 꼭 애월하미에 오셔서 행복한 시간 특별한 추억 남기고 가세요!!!..........'],\n",
       "  'tags': ['#제주도비올때좋은곳',\n",
       "   '#제주도1등오션뷰',\n",
       "   '#제주가을에가볼맛한곳',\n",
       "   '#애월맛집',\n",
       "   '#제주맛집',\n",
       "   '#애월읍맛집',\n",
       "   '#제주도맛집',\n",
       "   '#애월갈치맛집',\n",
       "   '#제주갈치맛집',\n",
       "   '#애월횟집',\n",
       "   '#제주횟집',\n",
       "   '#제주도민추천',\n",
       "   '#제주도민맛집',\n",
       "   '#애월통갈치조림',\n",
       "   '#애월갈치조림맛집',\n",
       "   '#제주도갈치조림맛집',\n",
       "   '#애월하미'],\n",
       "  'date': '2020-10-15',\n",
       "  'place': '애월하미',\n",
       "  'comments': ['분위기 너무 좋네요 뷰도 좋고👍',\n",
       "   '우와 풍경이 너무너무 멋지네요',\n",
       "   '분위기 좋네요',\n",
       "   '풍경 좋아요',\n",
       "   '너무 멋져요!!! 여기서ㅜ데이트 하고싶네요 ❤️ 뷰맛집😍',\n",
       "   '우와~~ 뷰진짜 좋아요~ 정말 분위기있게 데이트 딱 좋을거 같아요~',\n",
       "   '꼭 바다위에 떠 있는거 같아요^^',\n",
       "   '분위기가 너무 좋네여.👍',\n",
       "   '우아 진짜 분위기.너무 좋네요',\n",
       "   '분위너무 좋아요~~가보고싶어요~~~~',\n",
       "   '다음달에 제주도 여행을 가는데~~꼭 갈거에요♡',\n",
       "   '진짜 외쿡같아요 ㅎㅎ분위기 넘 좋네요']}]"
      ]
     },
     "execution_count": 182,
     "metadata": {},
     "output_type": "execute_result"
    }
   ],
   "source": [
    "result.append(get_content(driver))\n",
    "result"
   ]
  },
  {
   "cell_type": "code",
   "execution_count": 183,
   "metadata": {},
   "outputs": [
    {
     "data": {
      "text/html": [
       "<div>\n",
       "<style scoped>\n",
       "    .dataframe tbody tr th:only-of-type {\n",
       "        vertical-align: middle;\n",
       "    }\n",
       "\n",
       "    .dataframe tbody tr th {\n",
       "        vertical-align: top;\n",
       "    }\n",
       "\n",
       "    .dataframe thead th {\n",
       "        text-align: right;\n",
       "    }\n",
       "</style>\n",
       "<table border=\"1\" class=\"dataframe\">\n",
       "  <thead>\n",
       "    <tr style=\"text-align: right;\">\n",
       "      <th></th>\n",
       "      <th>narration</th>\n",
       "      <th>tags</th>\n",
       "      <th>date</th>\n",
       "      <th>place</th>\n",
       "      <th>comments</th>\n",
       "    </tr>\n",
       "  </thead>\n",
       "  <tbody>\n",
       "    <tr>\n",
       "      <th>0</th>\n",
       "      <td>[이국적인  제주바다와  연인들을위한식당 \"제주하복''.식당인지 분위기좋은 카페인지...</td>\n",
       "      <td>[#제주도맛집, #애월맛집, #제주전복, #제주하복, #하이엔드제주, #제주맛집, ...</td>\n",
       "      <td>2020-10-14</td>\n",
       "      <td></td>\n",
       "      <td>[선팔완료~ 소통해여^^, 제주도가면 가볼곳이 또 생겼네요 🙊, 제주도에 이렇게 멋...</td>\n",
       "    </tr>\n",
       "    <tr>\n",
       "      <th>1</th>\n",
       "      <td>[가을제주 가을하미😍😍제법 선선해진 제주 가을날씨에요 제가 제일 좋아하는 계절이기도...</td>\n",
       "      <td>[#제주도비올때좋은곳, #제주도1등오션뷰, #제주가을에가볼맛한곳, #애월맛집, #제...</td>\n",
       "      <td>2020-10-15</td>\n",
       "      <td>애월하미</td>\n",
       "      <td>[분위기 너무 좋네요 뷰도 좋고👍, 우와 풍경이 너무너무 멋지네요, 분위기 좋네요,...</td>\n",
       "    </tr>\n",
       "  </tbody>\n",
       "</table>\n",
       "</div>"
      ],
      "text/plain": [
       "                                           narration  \\\n",
       "0  [이국적인  제주바다와  연인들을위한식당 \"제주하복''.식당인지 분위기좋은 카페인지...   \n",
       "1  [가을제주 가을하미😍😍제법 선선해진 제주 가을날씨에요 제가 제일 좋아하는 계절이기도...   \n",
       "\n",
       "                                                tags        date place  \\\n",
       "0  [#제주도맛집, #애월맛집, #제주전복, #제주하복, #하이엔드제주, #제주맛집, ...  2020-10-14         \n",
       "1  [#제주도비올때좋은곳, #제주도1등오션뷰, #제주가을에가볼맛한곳, #애월맛집, #제...  2020-10-15  애월하미   \n",
       "\n",
       "                                            comments  \n",
       "0  [선팔완료~ 소통해여^^, 제주도가면 가볼곳이 또 생겼네요 🙊, 제주도에 이렇게 멋...  \n",
       "1  [분위기 너무 좋네요 뷰도 좋고👍, 우와 풍경이 너무너무 멋지네요, 분위기 좋네요,...  "
      ]
     },
     "execution_count": 183,
     "metadata": {},
     "output_type": "execute_result"
    }
   ],
   "source": [
    "pd.DataFrame(result)"
   ]
  },
  {
   "cell_type": "code",
   "execution_count": 175,
   "metadata": {},
   "outputs": [],
   "source": [
    "def moveNext(driver):\n",
    "    try:\n",
    "        right=driver.find_element_by_css_selector(\"a.coreSpriteRightPaginationArrow\")\n",
    "        right.click()\n",
    "        time.sleep( random.uniform(2,7))\n",
    "    except: \n",
    "        driver.close()\n",
    "moveNext(driver)\n"
   ]
  },
  {
   "cell_type": "code",
   "execution_count": 157,
   "metadata": {},
   "outputs": [
    {
     "ename": "NameError",
     "evalue": "name 'data' is not defined",
     "output_type": "error",
     "traceback": [
      "\u001b[0;31m---------------------------------------------------------------------------\u001b[0m",
      "\u001b[0;31mNameError\u001b[0m                                 Traceback (most recent call last)",
      "\u001b[0;32m<ipython-input-157-c5d84736ba45>\u001b[0m in \u001b[0;36m<module>\u001b[0;34m\u001b[0m\n\u001b[0;32m----> 1\u001b[0;31m \u001b[0mdata\u001b[0m\u001b[0;34m\u001b[0m\u001b[0;34m\u001b[0m\u001b[0m\n\u001b[0m",
      "\u001b[0;31mNameError\u001b[0m: name 'data' is not defined"
     ]
    }
   ],
   "source": []
  },
  {
   "cell_type": "code",
   "execution_count": 193,
   "metadata": {},
   "outputs": [
    {
     "ename": "InvalidSessionIdException",
     "evalue": "Message: invalid session id\n",
     "output_type": "error",
     "traceback": [
      "\u001b[0;31m---------------------------------------------------------------------------\u001b[0m",
      "\u001b[0;31mInvalidSessionIdException\u001b[0m                 Traceback (most recent call last)",
      "\u001b[0;32m<ipython-input-193-50597fbc4d77>\u001b[0m in \u001b[0;36m<module>\u001b[0;34m\u001b[0m\n\u001b[1;32m      9\u001b[0m \u001b[0minsta\u001b[0m \u001b[0;34m=\u001b[0m \u001b[0mpd\u001b[0m\u001b[0;34m.\u001b[0m\u001b[0mDataFrame\u001b[0m\u001b[0;34m(\u001b[0m\u001b[0mresults\u001b[0m\u001b[0;34m)\u001b[0m\u001b[0;34m\u001b[0m\u001b[0;34m\u001b[0m\u001b[0m\n\u001b[1;32m     10\u001b[0m \u001b[0minsta\u001b[0m\u001b[0;34m.\u001b[0m\u001b[0mto_csv\u001b[0m\u001b[0;34m(\u001b[0m\u001b[0;34m\"insta_jeju.csv\"\u001b[0m\u001b[0;34m,\u001b[0m\u001b[0mencoding\u001b[0m\u001b[0;34m=\u001b[0m\u001b[0;34m'utf-8'\u001b[0m\u001b[0;34m,\u001b[0m \u001b[0mindex\u001b[0m \u001b[0;34m=\u001b[0m \u001b[0;32mFalse\u001b[0m\u001b[0;34m)\u001b[0m\u001b[0;34m\u001b[0m\u001b[0;34m\u001b[0m\u001b[0m\n\u001b[0;32m---> 11\u001b[0;31m \u001b[0mdriver\u001b[0m\u001b[0;34m.\u001b[0m\u001b[0mclose\u001b[0m\u001b[0;34m(\u001b[0m\u001b[0;34m)\u001b[0m\u001b[0;34m\u001b[0m\u001b[0;34m\u001b[0m\u001b[0m\n\u001b[0m",
      "\u001b[0;32m~/Developer/anaconda3/lib/python3.8/site-packages/selenium/webdriver/remote/webdriver.py\u001b[0m in \u001b[0;36mclose\u001b[0;34m(self)\u001b[0m\n\u001b[1;32m    686\u001b[0m             \u001b[0mdriver\u001b[0m\u001b[0;34m.\u001b[0m\u001b[0mclose\u001b[0m\u001b[0;34m(\u001b[0m\u001b[0;34m)\u001b[0m\u001b[0;34m\u001b[0m\u001b[0;34m\u001b[0m\u001b[0m\n\u001b[1;32m    687\u001b[0m         \"\"\"\n\u001b[0;32m--> 688\u001b[0;31m         \u001b[0mself\u001b[0m\u001b[0;34m.\u001b[0m\u001b[0mexecute\u001b[0m\u001b[0;34m(\u001b[0m\u001b[0mCommand\u001b[0m\u001b[0;34m.\u001b[0m\u001b[0mCLOSE\u001b[0m\u001b[0;34m)\u001b[0m\u001b[0;34m\u001b[0m\u001b[0;34m\u001b[0m\u001b[0m\n\u001b[0m\u001b[1;32m    689\u001b[0m \u001b[0;34m\u001b[0m\u001b[0m\n\u001b[1;32m    690\u001b[0m     \u001b[0;32mdef\u001b[0m \u001b[0mquit\u001b[0m\u001b[0;34m(\u001b[0m\u001b[0mself\u001b[0m\u001b[0;34m)\u001b[0m\u001b[0;34m:\u001b[0m\u001b[0;34m\u001b[0m\u001b[0;34m\u001b[0m\u001b[0m\n",
      "\u001b[0;32m~/Developer/anaconda3/lib/python3.8/site-packages/selenium/webdriver/remote/webdriver.py\u001b[0m in \u001b[0;36mexecute\u001b[0;34m(self, driver_command, params)\u001b[0m\n\u001b[1;32m    319\u001b[0m         \u001b[0mresponse\u001b[0m \u001b[0;34m=\u001b[0m \u001b[0mself\u001b[0m\u001b[0;34m.\u001b[0m\u001b[0mcommand_executor\u001b[0m\u001b[0;34m.\u001b[0m\u001b[0mexecute\u001b[0m\u001b[0;34m(\u001b[0m\u001b[0mdriver_command\u001b[0m\u001b[0;34m,\u001b[0m \u001b[0mparams\u001b[0m\u001b[0;34m)\u001b[0m\u001b[0;34m\u001b[0m\u001b[0;34m\u001b[0m\u001b[0m\n\u001b[1;32m    320\u001b[0m         \u001b[0;32mif\u001b[0m \u001b[0mresponse\u001b[0m\u001b[0;34m:\u001b[0m\u001b[0;34m\u001b[0m\u001b[0;34m\u001b[0m\u001b[0m\n\u001b[0;32m--> 321\u001b[0;31m             \u001b[0mself\u001b[0m\u001b[0;34m.\u001b[0m\u001b[0merror_handler\u001b[0m\u001b[0;34m.\u001b[0m\u001b[0mcheck_response\u001b[0m\u001b[0;34m(\u001b[0m\u001b[0mresponse\u001b[0m\u001b[0;34m)\u001b[0m\u001b[0;34m\u001b[0m\u001b[0;34m\u001b[0m\u001b[0m\n\u001b[0m\u001b[1;32m    322\u001b[0m             response['value'] = self._unwrap_value(\n\u001b[1;32m    323\u001b[0m                 response.get('value', None))\n",
      "\u001b[0;32m~/Developer/anaconda3/lib/python3.8/site-packages/selenium/webdriver/remote/errorhandler.py\u001b[0m in \u001b[0;36mcheck_response\u001b[0;34m(self, response)\u001b[0m\n\u001b[1;32m    240\u001b[0m                 \u001b[0malert_text\u001b[0m \u001b[0;34m=\u001b[0m \u001b[0mvalue\u001b[0m\u001b[0;34m[\u001b[0m\u001b[0;34m'alert'\u001b[0m\u001b[0;34m]\u001b[0m\u001b[0;34m.\u001b[0m\u001b[0mget\u001b[0m\u001b[0;34m(\u001b[0m\u001b[0;34m'text'\u001b[0m\u001b[0;34m)\u001b[0m\u001b[0;34m\u001b[0m\u001b[0;34m\u001b[0m\u001b[0m\n\u001b[1;32m    241\u001b[0m             \u001b[0;32mraise\u001b[0m \u001b[0mexception_class\u001b[0m\u001b[0;34m(\u001b[0m\u001b[0mmessage\u001b[0m\u001b[0;34m,\u001b[0m \u001b[0mscreen\u001b[0m\u001b[0;34m,\u001b[0m \u001b[0mstacktrace\u001b[0m\u001b[0;34m,\u001b[0m \u001b[0malert_text\u001b[0m\u001b[0;34m)\u001b[0m\u001b[0;34m\u001b[0m\u001b[0;34m\u001b[0m\u001b[0m\n\u001b[0;32m--> 242\u001b[0;31m         \u001b[0;32mraise\u001b[0m \u001b[0mexception_class\u001b[0m\u001b[0;34m(\u001b[0m\u001b[0mmessage\u001b[0m\u001b[0;34m,\u001b[0m \u001b[0mscreen\u001b[0m\u001b[0;34m,\u001b[0m \u001b[0mstacktrace\u001b[0m\u001b[0;34m)\u001b[0m\u001b[0;34m\u001b[0m\u001b[0;34m\u001b[0m\u001b[0m\n\u001b[0m\u001b[1;32m    243\u001b[0m \u001b[0;34m\u001b[0m\u001b[0m\n\u001b[1;32m    244\u001b[0m     \u001b[0;32mdef\u001b[0m \u001b[0m_value_or_default\u001b[0m\u001b[0;34m(\u001b[0m\u001b[0mself\u001b[0m\u001b[0;34m,\u001b[0m \u001b[0mobj\u001b[0m\u001b[0;34m,\u001b[0m \u001b[0mkey\u001b[0m\u001b[0;34m,\u001b[0m \u001b[0mdefault\u001b[0m\u001b[0;34m)\u001b[0m\u001b[0;34m:\u001b[0m\u001b[0;34m\u001b[0m\u001b[0;34m\u001b[0m\u001b[0m\n",
      "\u001b[0;31mInvalidSessionIdException\u001b[0m: Message: invalid session id\n"
     ]
    }
   ],
   "source": [
    "try:\n",
    "    results=[]\n",
    "    for i in tqdm(range(10000)):\n",
    "        results.append(get_content(driver))\n",
    "        right=driver.find_element_by_css_selector(\"a.coreSpriteRightPaginationArrow\")\n",
    "        right.click()\n",
    "        time.sleep( random.uniform(2,7))\n",
    "except:\n",
    "    insta = pd.DataFrame(results)\n",
    "    insta.to_csv(\"insta_jeju.csv\",encoding='utf-8', index = False)\n",
    "driver.close()"
   ]
  },
  {
   "cell_type": "code",
   "execution_count": 195,
   "metadata": {
    "scrolled": true
   },
   "outputs": [
    {
     "data": {
      "text/html": [
       "<div>\n",
       "<style scoped>\n",
       "    .dataframe tbody tr th:only-of-type {\n",
       "        vertical-align: middle;\n",
       "    }\n",
       "\n",
       "    .dataframe tbody tr th {\n",
       "        vertical-align: top;\n",
       "    }\n",
       "\n",
       "    .dataframe thead th {\n",
       "        text-align: right;\n",
       "    }\n",
       "</style>\n",
       "<table border=\"1\" class=\"dataframe\">\n",
       "  <thead>\n",
       "    <tr style=\"text-align: right;\">\n",
       "      <th></th>\n",
       "      <th>narration</th>\n",
       "      <th>tags</th>\n",
       "      <th>date</th>\n",
       "      <th>place</th>\n",
       "      <th>comments</th>\n",
       "    </tr>\n",
       "  </thead>\n",
       "  <tbody>\n",
       "    <tr>\n",
       "      <th>0</th>\n",
       "      <td>['제주 유일 성산일출봉근처에 위치한 고기국수 맛집산도롱맨도롱🍜입안가득 퍼지는 갈비...</td>\n",
       "      <td>['#제주도맛집', '#제주맛집', '#제주도고기국수', '#성산맛집', '#광치기...</td>\n",
       "      <td>2020-10-14</td>\n",
       "      <td>NaN</td>\n",
       "      <td>['사진이 정말 느낌있네요~^^', '식당이 름 졸귀 ㅋㅋㅋ❤️ 맛잇겟다', '제주...</td>\n",
       "    </tr>\n",
       "    <tr>\n",
       "      <th>1</th>\n",
       "      <td>['(광고)지만 진심으로 추천해주고싶은 맛집정보!⠀하와이에 온 것 같은~😍뷰가 대~...</td>\n",
       "      <td>['#성산일출봉맛집', '#성산맛집', '#우도맛집', '#성산밥집', '#성산카페...</td>\n",
       "      <td>2020-10-14</td>\n",
       "      <td>NaN</td>\n",
       "      <td>['좋은하루는 오늘부터시작', '제 피드에도 놀러오세요~ 선팔 했어여^^', '태그...</td>\n",
       "    </tr>\n",
       "    <tr>\n",
       "      <th>2</th>\n",
       "      <td>['가을제주 가을하미😍😍제법 선선해진 제주 가을날씨에요 제가 제일 좋아하는 계절이기...</td>\n",
       "      <td>['#제주도비올때좋은곳', '#제주도1등오션뷰', '#제주가을에가볼맛한곳', '#애...</td>\n",
       "      <td>2020-10-15</td>\n",
       "      <td>애월하미</td>\n",
       "      <td>['분위기 너무 좋네요 뷰도 좋고👍', '우와 풍경이 너무너무 멋지네요', '분위기...</td>\n",
       "    </tr>\n",
       "    <tr>\n",
       "      <th>3</th>\n",
       "      <td>['광고★제주혼밥♥월정리해변을 혼자 걸을때!배가 출출해지고는 있고식당에 들어가기는 ...</td>\n",
       "      <td>['#제주도맛집', '#제주맛집', '#제주혼밥', '#제주도혼밥', '#월정리꺼멍...</td>\n",
       "      <td>2020-10-14</td>\n",
       "      <td>NaN</td>\n",
       "      <td>['맛있어오~~~~~🤗🤗🤗🤗🤗🤗', '음식 맛있어 보여요 😊', '잘보구가용~~소통...</td>\n",
       "    </tr>\n",
       "    <tr>\n",
       "      <th>4</th>\n",
       "      <td>['✨제주\\xa0해산물\\xa0요리는\\xa0역시\\xa0해월정👍이게\\xa0진짜\\xa0찐...</td>\n",
       "      <td>['#제주도맛집', '#제주맛집', '#중문맛집', '#제주중문맛집', '#서귀포맛...</td>\n",
       "      <td>2020-10-14</td>\n",
       "      <td>NaN</td>\n",
       "      <td>['전복이 너무맛있어보이잖아용', '보기만해도 진해보여요 먹으러 꼭 가볼래요 ㅎㅎ'...</td>\n",
       "    </tr>\n",
       "    <tr>\n",
       "      <th>...</th>\n",
       "      <td>...</td>\n",
       "      <td>...</td>\n",
       "      <td>...</td>\n",
       "      <td>...</td>\n",
       "      <td>...</td>\n",
       "    </tr>\n",
       "    <tr>\n",
       "      <th>3715</th>\n",
       "      <td>[]</td>\n",
       "      <td>[]</td>\n",
       "      <td>NaN</td>\n",
       "      <td>NaN</td>\n",
       "      <td>[]</td>\n",
       "    </tr>\n",
       "    <tr>\n",
       "      <th>3716</th>\n",
       "      <td>[]</td>\n",
       "      <td>[]</td>\n",
       "      <td>NaN</td>\n",
       "      <td>NaN</td>\n",
       "      <td>[]</td>\n",
       "    </tr>\n",
       "    <tr>\n",
       "      <th>3717</th>\n",
       "      <td>[]</td>\n",
       "      <td>[]</td>\n",
       "      <td>NaN</td>\n",
       "      <td>NaN</td>\n",
       "      <td>[]</td>\n",
       "    </tr>\n",
       "    <tr>\n",
       "      <th>3718</th>\n",
       "      <td>[]</td>\n",
       "      <td>[]</td>\n",
       "      <td>NaN</td>\n",
       "      <td>NaN</td>\n",
       "      <td>[]</td>\n",
       "    </tr>\n",
       "    <tr>\n",
       "      <th>3719</th>\n",
       "      <td>[]</td>\n",
       "      <td>[]</td>\n",
       "      <td>NaN</td>\n",
       "      <td>NaN</td>\n",
       "      <td>[]</td>\n",
       "    </tr>\n",
       "  </tbody>\n",
       "</table>\n",
       "<p>3720 rows × 5 columns</p>\n",
       "</div>"
      ],
      "text/plain": [
       "                                              narration  \\\n",
       "0     ['제주 유일 성산일출봉근처에 위치한 고기국수 맛집산도롱맨도롱🍜입안가득 퍼지는 갈비...   \n",
       "1     ['(광고)지만 진심으로 추천해주고싶은 맛집정보!⠀하와이에 온 것 같은~😍뷰가 대~...   \n",
       "2     ['가을제주 가을하미😍😍제법 선선해진 제주 가을날씨에요 제가 제일 좋아하는 계절이기...   \n",
       "3     ['광고★제주혼밥♥월정리해변을 혼자 걸을때!배가 출출해지고는 있고식당에 들어가기는 ...   \n",
       "4     ['✨제주\\xa0해산물\\xa0요리는\\xa0역시\\xa0해월정👍이게\\xa0진짜\\xa0찐...   \n",
       "...                                                 ...   \n",
       "3715                                                 []   \n",
       "3716                                                 []   \n",
       "3717                                                 []   \n",
       "3718                                                 []   \n",
       "3719                                                 []   \n",
       "\n",
       "                                                   tags        date place  \\\n",
       "0     ['#제주도맛집', '#제주맛집', '#제주도고기국수', '#성산맛집', '#광치기...  2020-10-14   NaN   \n",
       "1     ['#성산일출봉맛집', '#성산맛집', '#우도맛집', '#성산밥집', '#성산카페...  2020-10-14   NaN   \n",
       "2     ['#제주도비올때좋은곳', '#제주도1등오션뷰', '#제주가을에가볼맛한곳', '#애...  2020-10-15  애월하미   \n",
       "3     ['#제주도맛집', '#제주맛집', '#제주혼밥', '#제주도혼밥', '#월정리꺼멍...  2020-10-14   NaN   \n",
       "4     ['#제주도맛집', '#제주맛집', '#중문맛집', '#제주중문맛집', '#서귀포맛...  2020-10-14   NaN   \n",
       "...                                                 ...         ...   ...   \n",
       "3715                                                 []         NaN   NaN   \n",
       "3716                                                 []         NaN   NaN   \n",
       "3717                                                 []         NaN   NaN   \n",
       "3718                                                 []         NaN   NaN   \n",
       "3719                                                 []         NaN   NaN   \n",
       "\n",
       "                                               comments  \n",
       "0     ['사진이 정말 느낌있네요~^^', '식당이 름 졸귀 ㅋㅋㅋ❤️ 맛잇겟다', '제주...  \n",
       "1     ['좋은하루는 오늘부터시작', '제 피드에도 놀러오세요~ 선팔 했어여^^', '태그...  \n",
       "2     ['분위기 너무 좋네요 뷰도 좋고👍', '우와 풍경이 너무너무 멋지네요', '분위기...  \n",
       "3     ['맛있어오~~~~~🤗🤗🤗🤗🤗🤗', '음식 맛있어 보여요 😊', '잘보구가용~~소통...  \n",
       "4     ['전복이 너무맛있어보이잖아용', '보기만해도 진해보여요 먹으러 꼭 가볼래요 ㅎㅎ'...  \n",
       "...                                                 ...  \n",
       "3715                                                 []  \n",
       "3716                                                 []  \n",
       "3717                                                 []  \n",
       "3718                                                 []  \n",
       "3719                                                 []  \n",
       "\n",
       "[3720 rows x 5 columns]"
      ]
     },
     "execution_count": 195,
     "metadata": {},
     "output_type": "execute_result"
    }
   ],
   "source": [
    "insta = pd.read_csv('insta_jeju.csv')\n",
    "insta"
   ]
  },
  {
   "cell_type": "code",
   "execution_count": 196,
   "metadata": {},
   "outputs": [
    {
     "data": {
      "text/plain": [
       "narration       0\n",
       "tags            0\n",
       "date           39\n",
       "place        2071\n",
       "comments        0\n",
       "dtype: int64"
      ]
     },
     "execution_count": 196,
     "metadata": {},
     "output_type": "execute_result"
    }
   ],
   "source": [
    "insta.isnull().sum()"
   ]
  },
  {
   "cell_type": "code",
   "execution_count": 199,
   "metadata": {},
   "outputs": [],
   "source": [
    "# tag에 # 없애기\n",
    "''.join(insta.tags).replace('#','')"
   ]
  },
  {
   "cell_type": "code",
   "execution_count": 201,
   "metadata": {},
   "outputs": [],
   "source": [
    "insta.to_csv(\"insta_jeju.csv\",encoding='utf-8', index = False)"
   ]
  },
  {
   "cell_type": "code",
   "execution_count": null,
   "metadata": {},
   "outputs": [],
   "source": []
  },
  {
   "cell_type": "code",
   "execution_count": 88,
   "metadata": {},
   "outputs": [
    {
     "data": {
      "text/html": [
       "<div>\n",
       "<style scoped>\n",
       "    .dataframe tbody tr th:only-of-type {\n",
       "        vertical-align: middle;\n",
       "    }\n",
       "\n",
       "    .dataframe tbody tr th {\n",
       "        vertical-align: top;\n",
       "    }\n",
       "\n",
       "    .dataframe thead th {\n",
       "        text-align: right;\n",
       "    }\n",
       "</style>\n",
       "<table border=\"1\" class=\"dataframe\">\n",
       "  <thead>\n",
       "    <tr style=\"text-align: right;\">\n",
       "      <th></th>\n",
       "      <th>tags</th>\n",
       "      <th>date</th>\n",
       "      <th>place</th>\n",
       "    </tr>\n",
       "  </thead>\n",
       "  <tbody>\n",
       "    <tr>\n",
       "      <th>10</th>\n",
       "      <td>['#제주패스', '#제주맛집', '#제주도흑돼지마...</td>\n",
       "      <td>2020-10-07</td>\n",
       "      <td>환상의 섬 Jeju Island</td>\n",
       "    </tr>\n",
       "    <tr>\n",
       "      <th>15</th>\n",
       "      <td>['#우도', '#비양도', '#제주도']</td>\n",
       "      <td>2020-10-07</td>\n",
       "      <td>우도 비양도</td>\n",
       "    </tr>\n",
       "    <tr>\n",
       "      <th>18</th>\n",
       "      <td>['#마녀상회', '#제주산돼지고기', '#흑돼지그...</td>\n",
       "      <td>2020-10-07</td>\n",
       "      <td>마녀상회</td>\n",
       "    </tr>\n",
       "    <tr>\n",
       "      <th>19</th>\n",
       "      <td>['#마녀상회', '#제주산돼지고기', '#흑돼지그...</td>\n",
       "      <td>2020-10-07</td>\n",
       "      <td>마녀상회</td>\n",
       "    </tr>\n",
       "    <tr>\n",
       "      <th>25</th>\n",
       "      <td>[]</td>\n",
       "      <td>2020-10-07</td>\n",
       "      <td>제주도</td>\n",
       "    </tr>\n",
       "    <tr>\n",
       "      <th>...</th>\n",
       "      <td>...</td>\n",
       "      <td>...</td>\n",
       "      <td>...</td>\n",
       "    </tr>\n",
       "    <tr>\n",
       "      <th>350</th>\n",
       "      <td>['#한라진칼국수']</td>\n",
       "      <td>2020-10-05</td>\n",
       "      <td>한라진칼국수</td>\n",
       "    </tr>\n",
       "    <tr>\n",
       "      <th>352</th>\n",
       "      <td>['#맛집인증', '#제주도맛집추천', '#제주맛집인증', '#인생맛집', '#제주...</td>\n",
       "      <td>2020-10-05</td>\n",
       "      <td>논짓물식당</td>\n",
       "    </tr>\n",
       "    <tr>\n",
       "      <th>367</th>\n",
       "      <td>['#자연스러운식당', '#올레시장맛집', '#중문맛집추천', '#제주핫플레이스',...</td>\n",
       "      <td>2020-10-05</td>\n",
       "      <td>자연스러운식당</td>\n",
       "    </tr>\n",
       "    <tr>\n",
       "      <th>377</th>\n",
       "      <td>[]</td>\n",
       "      <td>2020-10-05</td>\n",
       "      <td>중문조림식당</td>\n",
       "    </tr>\n",
       "    <tr>\n",
       "      <th>391</th>\n",
       "      <td>['#애월찜', '#애월맛집', '#제주맛집', '...</td>\n",
       "      <td>2020-10-05</td>\n",
       "      <td>애월해안도로</td>\n",
       "    </tr>\n",
       "  </tbody>\n",
       "</table>\n",
       "<p>83 rows × 3 columns</p>\n",
       "</div>"
      ],
      "text/plain": [
       "                                                  tags        date  \\\n",
       "10   ['#제주패스', '#제주맛집', '#제주도흑돼지마...  2020-10-07   \n",
       "15                             ['#우도', '#비양도', '#제주도']  2020-10-07   \n",
       "18   ['#마녀상회', '#제주산돼지고기', '#흑돼지그...  2020-10-07   \n",
       "19   ['#마녀상회', '#제주산돼지고기', '#흑돼지그...  2020-10-07   \n",
       "25                                                  []  2020-10-07   \n",
       "..                                                 ...         ...   \n",
       "350                                        ['#한라진칼국수']  2020-10-05   \n",
       "352  ['#맛집인증', '#제주도맛집추천', '#제주맛집인증', '#인생맛집', '#제주...  2020-10-05   \n",
       "367  ['#자연스러운식당', '#올레시장맛집', '#중문맛집추천', '#제주핫플레이스',...  2020-10-05   \n",
       "377                                                 []  2020-10-05   \n",
       "391  ['#애월찜', '#애월맛집', '#제주맛집', '...  2020-10-05   \n",
       "\n",
       "                 place  \n",
       "10   환상의 섬 Jeju Island  \n",
       "15              우도 비양도  \n",
       "18                마녀상회  \n",
       "19                마녀상회  \n",
       "25                 제주도  \n",
       "..                 ...  \n",
       "350             한라진칼국수  \n",
       "352              논짓물식당  \n",
       "367            자연스러운식당  \n",
       "377             중문조림식당  \n",
       "391             애월해안도로  \n",
       "\n",
       "[83 rows x 3 columns]"
      ]
     },
     "execution_count": 88,
     "metadata": {},
     "output_type": "execute_result"
    }
   ],
   "source": [
    "insta[insta['place'].isnull() == False]"
   ]
  },
  {
   "cell_type": "markdown",
   "metadata": {},
   "source": [
    "다이닝코드에서 검색한 맛집 상호가 narration에 포함될경우 match컬럼을 만들어서 1로표시 그다음 0인 컬럼은 지우기"
   ]
  },
  {
   "cell_type": "code",
   "execution_count": null,
   "metadata": {},
   "outputs": [],
   "source": []
  },
  {
   "cell_type": "code",
   "execution_count": null,
   "metadata": {},
   "outputs": [],
   "source": []
  }
 ],
 "metadata": {
  "kernelspec": {
   "display_name": "Python 3",
   "language": "python",
   "name": "python3"
  },
  "language_info": {
   "codemirror_mode": {
    "name": "ipython",
    "version": 3
   },
   "file_extension": ".py",
   "mimetype": "text/x-python",
   "name": "python",
   "nbconvert_exporter": "python",
   "pygments_lexer": "ipython3",
   "version": "3.8.3"
  }
 },
 "nbformat": 4,
 "nbformat_minor": 4
}
