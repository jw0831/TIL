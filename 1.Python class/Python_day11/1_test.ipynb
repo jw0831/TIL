{
 "metadata": {
  "language_info": {
   "codemirror_mode": {
    "name": "ipython",
    "version": 3
   },
   "file_extension": ".py",
   "mimetype": "text/x-python",
   "name": "python",
   "nbconvert_exporter": "python",
   "pygments_lexer": "ipython3",
   "version": 3
  },
  "orig_nbformat": 2,
  "kernelspec": {
   "name": "python_defaultSpec_1595809078420",
   "display_name": "Python 3.7.8 64-bit"
  }
 },
 "nbformat": 4,
 "nbformat_minor": 2,
 "cells": [
  {
   "cell_type": "code",
   "execution_count": 52,
   "metadata": {
    "tags": []
   },
   "outputs": [
    {
     "output_type": "stream",
     "name": "stdout",
     "text": "Hello, Python\nH\ne\nHel\nllo, Python\nHb\nTrue\nmy name is 홍길동, my weight is 30\nmy name is 30, my weight is 이순신\n['Oh my god'] <class 'list'>\n['s']\na b"
    }
   ],
   "source": [
    "s = 'Hello, Python'\n",
    "print(s)\n",
    "#Idexing\n",
    "print(s[0])\n",
    "#Slicing\n",
    "print(s[1:2])\n",
    "#   0  1  2  3  4  5\n",
    "#    H  e  l  l  o\n",
    "# -5 -4 -3 -2 -1\n",
    "print(s[:3])\n",
    "print(s[2:])\n",
    "#s[0] = 'a' 이건 안된다\n",
    "print(s[0] + 'b')\n",
    "#deleting(x)\n",
    "print('e' in s)\n",
    "\n",
    "#Formatting\n",
    "str6 = \"my name is %s, my weight is %d\" % ('홍길동', 30)\n",
    "print(str6)\n",
    "str2 = \"my name is {1}, my weight is {0}\".format('이순신',30) #안에 숫자를 넣어서 순서 변경가능\n",
    "print(str2)\n",
    "\n",
    "## 항상 경로는 (\"c:\\\\\"\") 역 슬레시 는 두번!!\n",
    "\n",
    "\n",
    "# list 안에서는 변환가능\n",
    "a = ['Oh my god']\n",
    "print(a, type(a))\n",
    "a[0] = 's'\n",
    "print(a)\n",
    "print(\"a\", end = \" \")\n",
    "print(\"b\", end = \" \")"
   ]
  },
  {
   "cell_type": "code",
   "execution_count": 51,
   "metadata": {
    "tags": []
   },
   "outputs": [
    {
     "output_type": "stream",
     "name": "stdout",
     "text": "Hello, \nPython\n"
    }
   ],
   "source": [
    "s2 = \"Hello, \\nPython\"\n",
    "print(s2)"
   ]
  },
  {
   "cell_type": "code",
   "execution_count": 50,
   "metadata": {
    "tags": []
   },
   "outputs": [
    {
     "output_type": "stream",
     "name": "stdout",
     "text": "thwas was test\nthis is testtest\nthis is testtest2\ntest0\n"
    }
   ],
   "source": [
    "str3 = \"this is test\"\n",
    "str4 = str3.replace(\"is\", \"was\")\n",
    "str5 = str4.replace(\"\\n\", \"\")\n",
    "print(str5)\n",
    "print(str3 + \"test\")\n",
    "print(str3.__add__(\"test2\"))\n",
    "\"test2\" #리터럴 구조\n",
    "print(\"test2\".replace(\"2\", \"0\"))\n"
   ]
  },
  {
   "cell_type": "code",
   "execution_count": 1,
   "metadata": {
    "tags": []
   },
   "outputs": [
    {
     "output_type": "stream",
     "name": "stdout",
     "text": "입력한 날짜의 10년 후 ==>2030년12월23일\n"
    }
   ],
   "source": [
    "#위에 변수명을 str로 지정해서 'str' object is not callable이 나오는거임.. 고치고 restart ipython kernel 하면 된다!\n",
    "# https://docs.python.org/ko/3.7/library/stdtypes.html?highlight=split#str.split\n",
    "ss = input(\"날짜(연/월/일) 입력 =>\")\n",
    "ssList = ss.split('/')\n",
    "# print(ssList, type(ssList[0]))\n",
    "# print(int(ssList[0]) + 10)\n",
    "# print(ssList[0], type(ssList[0]))\n",
    "print(\"입력한 날짜의 10년 후 ==>\", end='')\n",
    "print(str(int(ssList[0]) + 10) + \"년\", end='')\n",
    "print(ssList[1] + \"월\", end ='')\n",
    "print(ssList[2]+ \"일\")"
   ]
  },
  {
   "cell_type": "code",
   "execution_count": 7,
   "metadata": {
    "tags": []
   },
   "outputs": [
    {
     "output_type": "stream",
     "name": "stdout",
     "text": "[2019, 12] <class 'list'>\n[2019, 12] <class 'list'>\n[2019, 12] <class 'list'>\n[2019, 12] <class 'list'>\n"
    }
   ],
   "source": [
    "# 함수명에 대입하기 문자열로 구성된 리스트를 숫자로 변환할 수 있다.\n",
    "before = ['2019','12']\n",
    "\n",
    "l = list(map(int, before))\n",
    "print(l, type(l))\n",
    "#위 아래 int 위치 차이\n",
    "def myfunc(a):\n",
    "    return int(a)\n",
    "l2 = list(map(myfunc, before))\n",
    "print(l2, type(l2))\n",
    "#람다식 으로 변환\n",
    "myfunc2 = lambda x : int(x) #선언하지 않고 한방에 \n",
    "l3 = list(map(myfunc2, before))\n",
    "print(l3, type(l3))\n",
    "#더 한방에\n",
    "l4 = list(map(lambda x: int(x), before))\n",
    "print(l4, type(l4))"
   ]
  },
  {
   "cell_type": "code",
   "execution_count": null,
   "metadata": {},
   "outputs": [],
   "source": []
  }
 ]
}