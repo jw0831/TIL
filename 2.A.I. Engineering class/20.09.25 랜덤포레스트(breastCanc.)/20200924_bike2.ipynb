{
 "cells": [
  {
   "cell_type": "code",
   "execution_count": 1,
   "metadata": {},
   "outputs": [
    {
     "data": {
      "text/plain": [
       "'\\n의사결정트리:오버피팅->가지치기=>부족한 알고리즘\\n랜덤포레스트:의사결정트리의 한계를 극복하기 위한 알고리즘\\n나무 생성? 배깅\\nEX) 학습 데이터 1000개(행), 25개(속성) -> 임의로 100개의 데이터 선택(31번 반복) => 트리(31개) 구성\\n->트리 작성시 사용될 피처(features)들을 제한 -> 나무에 대한 다양성\\n=>속성 몇개? \"전체 속성 개수(25개)의 제곱근이 가장 좋다\" -> 5개를 속성 개수로 사용\\n\\n*중요 옵션*\\nn_estimators:트리의 개수(기본:100), 크게 할수록 좋음(시간은 오래 걸림)\\nmin_samples_split:노드를 분할하기 위한 최소한의 데이터수(과적합을 제어),\\n작게 설정할수록 분할 노드가 많아지므로 과적합이 증가할 수 있음.\\nmax_depth:트리의 최대 깊이 (기본:None, 완전하게 클래스값이 결정될때까지 분할)\\n또는 데이터 개수가 min_samples_split보다 작아질때까지 분할\\nmin_samples_leaf:리프노드(터미널노드)가 되기 위해 필요로하는 최소한의 샘플 데이터수.\\n일반적으로 작게설정\\n=> 최적의 랜덤포레스트 퍼러미터를 설정하는게 중요!!!(과거(현재)에는 수동)->\\nGridSearchCV를 사용해서 랜덤포레스트 하이퍼 퍼러미터 튜닝\\n\\n\\n5  * 5  *10 *  3=750\\nGridSearchCV 설정 예)\\nmyparam={\\nn_estimators:[5, 10, 30, 50, 100, 200],\\nmin_samples_split:[3, 5, ...]\\n...\\n}\\n\\ncolab 사용 추천(무료)\\n\\n\\n\\nAI:1940대~(튜링머신)\\n<-----------머신러닝--------------->\\n신경망(단일퍼셉트론->멀티퍼셉트론)/DT/... -> 랜덤포레스트/SVM -> 딥러닝(깊은신경망)\\n\\n\\n'"
      ]
     },
     "execution_count": 1,
     "metadata": {},
     "output_type": "execute_result"
    }
   ],
   "source": [
    "\"\"\"\n",
    "의사결정트리:오버피팅->가지치기=>부족한 알고리즘\n",
    "랜덤포레스트:의사결정트리의 한계를 극복하기 위한 알고리즘\n",
    "나무 생성? 배깅\n",
    "EX) 학습 데이터 1000개(행), 25개(속성) -> 임의로 100개의 데이터 선택(31번 반복) => 트리(31개) 구성\n",
    "->트리 작성시 사용될 피처(features)들을 제한 -> 나무에 대한 다양성\n",
    "=>속성 몇개? \"전체 속성 개수(25개)의 제곱근이 가장 좋다\" -> 5개를 속성 개수로 사용\n",
    "\n",
    "*중요 옵션*\n",
    "n_estimators:트리의 개수(기본:100), 크게 할수록 좋음(시간은 오래 걸림)\n",
    "min_samples_split:노드를 분할하기 위한 최소한의 데이터수(과적합을 제어),\n",
    "작게 설정할수록 분할 노드가 많아지므로 과적합이 증가할 수 있음.\n",
    "max_depth:트리의 최대 깊이 (기본:None, 완전하게 클래스값이 결정될때까지 분할)\n",
    "또는 데이터 개수가 min_samples_split보다 작아질때까지 분할\n",
    "min_samples_leaf:리프노드(터미널노드)가 되기 위해 필요로하는 최소한의 샘플 데이터수.\n",
    "일반적으로 작게설정\n",
    "=> 최적의 랜덤포레스트 퍼러미터를 설정하는게 중요!!!(과거(현재)에는 수동)->\n",
    "GridSearchCV를 사용해서 랜덤포레스트 하이퍼 퍼러미터 튜닝\n",
    "\n",
    "\n",
    "5  * 5  *10 *  3=750\n",
    "GridSearchCV 설정 예)\n",
    "myparam={\n",
    "n_estimators:[5, 10, 30, 50, 100, 200],\n",
    "min_samples_split:[3, 5, ...]\n",
    "...\n",
    "}\n",
    "\n",
    "colab 사용 추천(무료)\n",
    "\n",
    "\n",
    "\n",
    "AI:1940대~(튜링머신)\n",
    "<-----------머신러닝--------------->\n",
    "신경망(단일퍼셉트론->멀티퍼셉트론)/DT/... -> 랜덤포레스트/SVM -> 딥러닝(깊은신경망)\n",
    "\n",
    "\n",
    "\"\"\""
   ]
  },
  {
   "cell_type": "code",
   "execution_count": 158,
   "metadata": {},
   "outputs": [],
   "source": [
    "import pandas as pd\n",
    "import numpy as np\n",
    "import matplotlib.pyplot as plt\n",
    "import seaborn as sns"
   ]
  },
  {
   "cell_type": "code",
   "execution_count": 159,
   "metadata": {},
   "outputs": [],
   "source": [
    "train=pd.read_csv(\"train.csv\", parse_dates=['datetime'])\n",
    "#train.info()\n",
    "test=pd.read_csv(\"test.csv\", parse_dates=['datetime'])\n",
    "#test.info()\n",
    "#print(train['datetime'])\n",
    "train['year']=train['datetime'].dt.year\n",
    "train['month']=train['datetime'].dt.month\n",
    "train['day']=train['datetime'].dt.day\n",
    "train['hour']=train['datetime'].dt.hour\n",
    "train['minute']=train['datetime'].dt.minute\n",
    "train['second']=train['datetime'].dt.second\n",
    "train['dayofweek']=train['datetime'].dt.dayofweek\n",
    "\n",
    "test['year']=test['datetime'].dt.year\n",
    "test['month']=test['datetime'].dt.month\n",
    "test['day']=test['datetime'].dt.day\n",
    "test['hour']=test['datetime'].dt.hour\n",
    "test['minute']=test['datetime'].dt.minute\n",
    "test['second']=test['datetime'].dt.second\n",
    "test['dayofweek']=test['datetime'].dt.dayofweek"
   ]
  },
  {
   "cell_type": "code",
   "execution_count": 160,
   "metadata": {},
   "outputs": [
    {
     "data": {
      "text/plain": [
       "(10886, 19)"
      ]
     },
     "execution_count": 160,
     "metadata": {},
     "output_type": "execute_result"
    }
   ],
   "source": [
    "test.shape #(6493, 16)\n",
    "train.shape #(10886, 19)\n"
   ]
  },
  {
   "cell_type": "code",
   "execution_count": 161,
   "metadata": {},
   "outputs": [],
   "source": [
    "#1. 퀴즈\n",
    "#풍속(windspeed)의 0값을 풍속의 평균값으로 모두 대체하라\n",
    "#=train['windspeed'].mean()\n",
    "#train.loc[train['windspeed']==0]['windspeed']=train['windspeed'].mean()\n",
    "#train.loc[train['windspeed']==0, 'windspeed']=train['windspeed'].mean()\n",
    "\n",
    "#좋은 방법이 아님"
   ]
  },
  {
   "cell_type": "code",
   "execution_count": 162,
   "metadata": {},
   "outputs": [
    {
     "name": "stdout",
     "output_type": "stream",
     "text": [
      "(1313, 19)\n"
     ]
    }
   ],
   "source": [
    "#머신러닝(랜덤포레스트)를 이용한 풍속 0 값을 대체\n",
    "#풍속 0, not 0으로 분류\n",
    "trainWind0=train.loc[train.windspeed==0]\n",
    "trainWindNot0=train.loc[train.windspeed!=0]\n",
    "print(trainWind0.shape) #1313,19\n",
    "#print(trainWindNot0)"
   ]
  },
  {
   "cell_type": "code",
   "execution_count": 163,
   "metadata": {},
   "outputs": [],
   "source": [
    "from sklearn.ensemble import RandomForestClassifier"
   ]
  },
  {
   "cell_type": "code",
   "execution_count": 164,
   "metadata": {},
   "outputs": [
    {
     "data": {
      "text/plain": [
       "Index(['datetime', 'season', 'holiday', 'workingday', 'weather', 'temp',\n",
       "       'atemp', 'humidity', 'windspeed', 'casual', 'registered', 'count',\n",
       "       'year', 'month', 'day', 'hour', 'minute', 'second', 'dayofweek'],\n",
       "      dtype='object')"
      ]
     },
     "execution_count": 164,
     "metadata": {},
     "output_type": "execute_result"
    }
   ],
   "source": [
    "train.columns"
   ]
  },
  {
   "cell_type": "code",
   "execution_count": 165,
   "metadata": {},
   "outputs": [],
   "source": [
    "def predictWindSpeed(data):\n",
    "    #data의 windspeed열 값 0을 랜덤포레스트 기반 예측값으로 대체\n",
    "    dataWind0=data.loc[data['windspeed']==0]\n",
    "    dataWindNot0=data.loc[data['windspeed']!=0]\n",
    "    \n",
    "    #입력데이터() -> 랜덤포레스트 모델 -> 출력데이터(windspeed)\n",
    "    #풍속을 예측하는데 사용될 변수(입력)를 선택\n",
    "    wCol=['season','weather', 'temp', 'atemp','humidity','year','month']\n",
    "    \n",
    "    #회귀모델\n",
    "    #풍속예측함수 = w1*season+w2*weather+...+w7*month+b    \n",
    "    \n",
    "    #출력 데이터 타입이 str이어야 함.\n",
    "    dataWindNot0['windspeed']=dataWindNot0['windspeed'].astype('str')\n",
    "    \n",
    "    #랜덤포레스트 분류기\n",
    "    rfModelWind=RandomForestClassifier()\n",
    "    \n",
    "    #wind not 0 데이터로 학습(fit)을 시켜서 모델을 만든 후, wind 0 데이터를 모델에\n",
    "    #입력하면 예상되는 풍속이 출력된다   \n",
    "    #모델링(학습데이터)\n",
    "    rfModelWind.fit(dataWindNot0[wCol], dataWindNot0['windspeed'])\n",
    "    \n",
    "    #모델(rfModelWind)을 이용하여 풍속이 0인 데이터에 대한 풍속을 예측(predict)하자.\n",
    "    wind0Values=rfModelWind.predict(dataWind0[wCol])\n",
    "    \n",
    "    predictWind0=dataWind0\n",
    "    predictWindNot0=dataWindNot0\n",
    "    \n",
    "    #풍속 0을 예측된 값으로 변경\n",
    "    predictWind0['windspeed']=wind0Values\n",
    "    \n",
    "    #풍속이 0이 아닌 데이터프레임에 예측된 값이 저장된 데이터프레임을 합침\n",
    "    data=predictWindNot0.append(predictWind0)\n",
    "    \n",
    "    ################누락#################\n",
    "    #타입 변경 안했음 -> 변경!!!\n",
    "    data['windspeed']=data['windspeed'].astype('float')\n",
    "    \n",
    "    data.reset_index(inplace=True)\n",
    "    data.drop('index', inplace=True, axis=1)\n",
    "    return data\n",
    "    "
   ]
  },
  {
   "cell_type": "code",
   "execution_count": 166,
   "metadata": {},
   "outputs": [
    {
     "name": "stderr",
     "output_type": "stream",
     "text": [
      "<ipython-input-165-99d6381bea3e>:14: SettingWithCopyWarning: \n",
      "A value is trying to be set on a copy of a slice from a DataFrame.\n",
      "Try using .loc[row_indexer,col_indexer] = value instead\n",
      "\n",
      "See the caveats in the documentation: https://pandas.pydata.org/pandas-docs/stable/user_guide/indexing.html#returning-a-view-versus-a-copy\n",
      "  dataWindNot0['windspeed']=dataWindNot0['windspeed'].astype('str')\n",
      "<ipython-input-165-99d6381bea3e>:31: SettingWithCopyWarning: \n",
      "A value is trying to be set on a copy of a slice from a DataFrame.\n",
      "Try using .loc[row_indexer,col_indexer] = value instead\n",
      "\n",
      "See the caveats in the documentation: https://pandas.pydata.org/pandas-docs/stable/user_guide/indexing.html#returning-a-view-versus-a-copy\n",
      "  predictWind0['windspeed']=wind0Values\n"
     ]
    }
   ],
   "source": [
    "train=predictWindSpeed(train)\n",
    "#test=predictWindSpeed(test)"
   ]
  },
  {
   "cell_type": "code",
   "execution_count": 167,
   "metadata": {},
   "outputs": [
    {
     "name": "stdout",
     "output_type": "stream",
     "text": [
      "Empty DataFrame\n",
      "Columns: [datetime, season, holiday, workingday, weather, temp, atemp, humidity, windspeed, casual, registered, count, year, month, day, hour, minute, second, dayofweek]\n",
      "Index: []\n",
      "                datetime  season  holiday  workingday  weather   temp   atemp  \\\n",
      "1    2011-01-20 01:00:00       1        0           1        1  10.66  13.635   \n",
      "2    2011-01-20 02:00:00       1        0           1        1  10.66  13.635   \n",
      "12   2011-01-20 12:00:00       1        0           1        2  12.30  16.665   \n",
      "60   2011-01-22 13:00:00       1        0           0        1   3.28   8.335   \n",
      "62   2011-01-22 15:00:00       1        0           0        1   4.92   7.575   \n",
      "...                  ...     ...      ...         ...      ...    ...     ...   \n",
      "6433 2012-12-29 12:00:00       1        0           0        3   8.20  12.120   \n",
      "6434 2012-12-29 13:00:00       1        0           0        3   8.20  12.120   \n",
      "6436 2012-12-29 15:00:00       1        0           0        2   9.84  12.120   \n",
      "6444 2012-12-29 23:00:00       1        0           0        2  10.66  12.120   \n",
      "6464 2012-12-30 19:00:00       1        0           0        1  13.94  18.180   \n",
      "\n",
      "      humidity  windspeed  year  month  day  hour  minute  second  dayofweek  \n",
      "1           56        0.0  2011      1   20     1       0       0          3  \n",
      "2           56        0.0  2011      1   20     2       0       0          3  \n",
      "12          42        0.0  2011      1   20    12       0       0          3  \n",
      "60          35        0.0  2011      1   22    13       0       0          5  \n",
      "62          28        0.0  2011      1   22    15       0       0          5  \n",
      "...        ...        ...   ...    ...  ...   ...     ...     ...        ...  \n",
      "6433       100        0.0  2012     12   29    12       0       0          5  \n",
      "6434       100        0.0  2012     12   29    13       0       0          5  \n",
      "6436        87        0.0  2012     12   29    15       0       0          5  \n",
      "6444        60        0.0  2012     12   29    23       0       0          5  \n",
      "6464        61        0.0  2012     12   30    19       0       0          6  \n",
      "\n",
      "[867 rows x 16 columns]\n"
     ]
    }
   ],
   "source": [
    "print(train[train.windspeed==0])\n",
    "print(test[test.windspeed==0])\n"
   ]
  },
  {
   "cell_type": "code",
   "execution_count": 168,
   "metadata": {},
   "outputs": [
    {
     "data": {
      "text/plain": [
       "count    10886.000000\n",
       "mean        14.010535\n",
       "std          7.041554\n",
       "min          6.003200\n",
       "25%          8.998100\n",
       "50%         12.998000\n",
       "75%         19.001200\n",
       "max         56.996900\n",
       "Name: windspeed, dtype: float64"
      ]
     },
     "execution_count": 168,
     "metadata": {},
     "output_type": "execute_result"
    }
   ],
   "source": [
    "train['windspeed'].describe()"
   ]
  },
  {
   "cell_type": "code",
   "execution_count": 169,
   "metadata": {},
   "outputs": [
    {
     "name": "stdout",
     "output_type": "stream",
     "text": [
      "<class 'pandas.core.frame.DataFrame'>\n",
      "RangeIndex: 10886 entries, 0 to 10885\n",
      "Data columns (total 19 columns):\n",
      " #   Column      Non-Null Count  Dtype         \n",
      "---  ------      --------------  -----         \n",
      " 0   datetime    10886 non-null  datetime64[ns]\n",
      " 1   season      10886 non-null  int64         \n",
      " 2   holiday     10886 non-null  int64         \n",
      " 3   workingday  10886 non-null  int64         \n",
      " 4   weather     10886 non-null  int64         \n",
      " 5   temp        10886 non-null  float64       \n",
      " 6   atemp       10886 non-null  float64       \n",
      " 7   humidity    10886 non-null  int64         \n",
      " 8   windspeed   10886 non-null  float64       \n",
      " 9   casual      10886 non-null  int64         \n",
      " 10  registered  10886 non-null  int64         \n",
      " 11  count       10886 non-null  int64         \n",
      " 12  year        10886 non-null  int64         \n",
      " 13  month       10886 non-null  int64         \n",
      " 14  day         10886 non-null  int64         \n",
      " 15  hour        10886 non-null  int64         \n",
      " 16  minute      10886 non-null  int64         \n",
      " 17  second      10886 non-null  int64         \n",
      " 18  dayofweek   10886 non-null  int64         \n",
      "dtypes: datetime64[ns](1), float64(3), int64(15)\n",
      "memory usage: 1.6 MB\n"
     ]
    }
   ],
   "source": [
    "train.info()"
   ]
  },
  {
   "cell_type": "code",
   "execution_count": 170,
   "metadata": {},
   "outputs": [],
   "source": [
    "#연속형 변수 -> 범주형 변수\n",
    "category_fn=['season','holiday','workingday','weather',\n",
    "            'year', 'month', 'hour', 'dayofweek']"
   ]
  },
  {
   "cell_type": "code",
   "execution_count": 171,
   "metadata": {},
   "outputs": [],
   "source": [
    "for v in category_fn:\n",
    "    train[v]=train[v].astype('category')\n",
    "    test[v]=test[v].astype('category')"
   ]
  },
  {
   "cell_type": "code",
   "execution_count": 172,
   "metadata": {
    "scrolled": true
   },
   "outputs": [
    {
     "name": "stdout",
     "output_type": "stream",
     "text": [
      "<class 'pandas.core.frame.DataFrame'>\n",
      "RangeIndex: 10886 entries, 0 to 10885\n",
      "Data columns (total 19 columns):\n",
      " #   Column      Non-Null Count  Dtype         \n",
      "---  ------      --------------  -----         \n",
      " 0   datetime    10886 non-null  datetime64[ns]\n",
      " 1   season      10886 non-null  category      \n",
      " 2   holiday     10886 non-null  category      \n",
      " 3   workingday  10886 non-null  category      \n",
      " 4   weather     10886 non-null  category      \n",
      " 5   temp        10886 non-null  float64       \n",
      " 6   atemp       10886 non-null  float64       \n",
      " 7   humidity    10886 non-null  int64         \n",
      " 8   windspeed   10886 non-null  float64       \n",
      " 9   casual      10886 non-null  int64         \n",
      " 10  registered  10886 non-null  int64         \n",
      " 11  count       10886 non-null  int64         \n",
      " 12  year        10886 non-null  category      \n",
      " 13  month       10886 non-null  category      \n",
      " 14  day         10886 non-null  int64         \n",
      " 15  hour        10886 non-null  category      \n",
      " 16  minute      10886 non-null  int64         \n",
      " 17  second      10886 non-null  int64         \n",
      " 18  dayofweek   10886 non-null  category      \n",
      "dtypes: category(8), datetime64[ns](1), float64(3), int64(7)\n",
      "memory usage: 1022.9 KB\n",
      "<class 'pandas.core.frame.DataFrame'>\n",
      "RangeIndex: 6493 entries, 0 to 6492\n",
      "Data columns (total 16 columns):\n",
      " #   Column      Non-Null Count  Dtype         \n",
      "---  ------      --------------  -----         \n",
      " 0   datetime    6493 non-null   datetime64[ns]\n",
      " 1   season      6493 non-null   category      \n",
      " 2   holiday     6493 non-null   category      \n",
      " 3   workingday  6493 non-null   category      \n",
      " 4   weather     6493 non-null   category      \n",
      " 5   temp        6493 non-null   float64       \n",
      " 6   atemp       6493 non-null   float64       \n",
      " 7   humidity    6493 non-null   int64         \n",
      " 8   windspeed   6493 non-null   float64       \n",
      " 9   year        6493 non-null   category      \n",
      " 10  month       6493 non-null   category      \n",
      " 11  day         6493 non-null   int64         \n",
      " 12  hour        6493 non-null   category      \n",
      " 13  minute      6493 non-null   int64         \n",
      " 14  second      6493 non-null   int64         \n",
      " 15  dayofweek   6493 non-null   category      \n",
      "dtypes: category(8), datetime64[ns](1), float64(3), int64(4)\n",
      "memory usage: 458.9 KB\n"
     ]
    }
   ],
   "source": [
    "train.info()\n",
    "test.info()"
   ]
  },
  {
   "cell_type": "code",
   "execution_count": 173,
   "metadata": {},
   "outputs": [],
   "source": [
    "from sklearn.metrics import make_scorer"
   ]
  },
  {
   "cell_type": "code",
   "execution_count": 174,
   "metadata": {},
   "outputs": [],
   "source": [
    "def rmsle(pv, av): #예측값, 실제값\n",
    "    #넘파이 배열로 변환\n",
    "    pv=np.array(pv)\n",
    "    av=np.array(av)\n",
    "    \n",
    "    #예측값과 실제값에 1을 더하고 로그를 씌운다\n",
    "    log_predict=np.log(pv+1)\n",
    "    log_actual=np.log(av+1)\n",
    "    \n",
    "    res=log_predict-log_actual\n",
    "    res=np.square(res)\n",
    "    \n",
    "    mean_res=res.mean()\n",
    "    score=np.sqrt(mean_res)\n",
    "    return score  \n",
    "    "
   ]
  },
  {
   "cell_type": "code",
   "execution_count": 175,
   "metadata": {},
   "outputs": [
    {
     "data": {
      "text/plain": [
       "make_scorer(rmsle)"
      ]
     },
     "execution_count": 175,
     "metadata": {},
     "output_type": "execute_result"
    }
   ],
   "source": [
    "rmsle_scorer=make_scorer(rmsle)\n",
    "rmsle_scorer"
   ]
  },
  {
   "cell_type": "code",
   "execution_count": null,
   "metadata": {},
   "outputs": [],
   "source": [
    "score=cross_val_score(model, xTrain, yTrain, cv=kfold, scoring=rmsle_scorer)\n",
    "score\n",
    "score.mean() #0.32\n",
    "\n",
    "# xTrain이 model에 들어가면 예측결과가 나옴(pv) ->rmsle함수에 전달\n",
    "# yTrain(av) -> rmsle함수에 전달\n",
    "# => score 리턴\n",
    "# 위 과정이 10번 반복(kfold=10), score 10번 리턴\n",
    "\n"
   ]
  },
  {
   "cell_type": "code",
   "execution_count": null,
   "metadata": {},
   "outputs": [],
   "source": []
  },
  {
   "cell_type": "code",
   "execution_count": null,
   "metadata": {},
   "outputs": [],
   "source": []
  },
  {
   "cell_type": "code",
   "execution_count": null,
   "metadata": {},
   "outputs": [],
   "source": []
  },
  {
   "cell_type": "code",
   "execution_count": null,
   "metadata": {},
   "outputs": [],
   "source": []
  },
  {
   "cell_type": "code",
   "execution_count": null,
   "metadata": {},
   "outputs": [],
   "source": []
  },
  {
   "cell_type": "code",
   "execution_count": 176,
   "metadata": {},
   "outputs": [
    {
     "data": {
      "text/plain": [
       "'\\n\\n데이터 100건 -> 70건(트레이닝)=>모델, 30건(테스트)\\n\\n교차검증? 모델의 일반화 성능을 측정하기 위해, \\n데이터를 여러 겹(fold)으로 나누고, 트레이닝/테스트 용으로 나뉘어진 폴드를 \\n다양하게 적용하여 모델을 학습하고, 평가\\n\\n100건 데이터, 4겹(fold, 1겹당 25건 데이터), \\n첫번째 fold(테스트용, 25건), 두번째~네번째 fold(트레이닝용, 25*3=75건) : 정확도\\n두번째 fold(테스트용, 25건), 첫번째, 세,네번째 fold(트레이닝용, 25*3=75건) : 정확도\\n세번째 fold(테스트용, 25건), 첫,두번째, 네번째 fold(트레이닝용, 25*3=75건) : 정확도\\n네번째 fold(테스트용, 25건), 첫~세번째 fold(트레이닝용, 25*3=75건) :정확도\\n\\n정확도의 평균(최종 모델 정확도)\\n\\nkfold 교차검증\\n'"
      ]
     },
     "execution_count": 176,
     "metadata": {},
     "output_type": "execute_result"
    }
   ],
   "source": [
    "\"\"\"\n",
    "\n",
    "데이터 100건 -> 70건(트레이닝)=>모델, 30건(테스트)\n",
    "\n",
    "교차검증? 모델의 일반화 성능을 측정하기 위해, \n",
    "데이터를 여러 겹(fold)으로 나누고, 트레이닝/테스트 용으로 나뉘어진 폴드를 \n",
    "다양하게 적용하여 모델을 학습하고, 평가\n",
    "\n",
    "100건 데이터, 4겹(fold, 1겹당 25건 데이터), \n",
    "첫번째 fold(테스트용, 25건), 두번째~네번째 fold(트레이닝용, 25*3=75건) : 정확도\n",
    "두번째 fold(테스트용, 25건), 첫번째, 세,네번째 fold(트레이닝용, 25*3=75건) : 정확도\n",
    "세번째 fold(테스트용, 25건), 첫,두번째, 네번째 fold(트레이닝용, 25*3=75건) : 정확도\n",
    "네번째 fold(테스트용, 25건), 첫~세번째 fold(트레이닝용, 25*3=75건) :정확도\n",
    "\n",
    "정확도의 평균(최종 모델 정확도)\n",
    "\n",
    "kfold 교차검증\n",
    "\"\"\""
   ]
  },
  {
   "cell_type": "code",
   "execution_count": 177,
   "metadata": {},
   "outputs": [],
   "source": [
    "from sklearn.model_selection import KFold\n",
    "from sklearn.model_selection import cross_val_score"
   ]
  },
  {
   "cell_type": "code",
   "execution_count": 178,
   "metadata": {},
   "outputs": [],
   "source": [
    "kfold=KFold(n_splits=10, shuffle=True, random_state=42)"
   ]
  },
  {
   "cell_type": "code",
   "execution_count": 179,
   "metadata": {},
   "outputs": [],
   "source": [
    "from sklearn.ensemble import RandomForestRegressor"
   ]
  },
  {
   "cell_type": "code",
   "execution_count": 180,
   "metadata": {},
   "outputs": [],
   "source": [
    "model=RandomForestRegressor(n_estimators=100,\n",
    "                     n_jobs=-1,\n",
    "                     random_state=42)"
   ]
  },
  {
   "cell_type": "code",
   "execution_count": 181,
   "metadata": {},
   "outputs": [],
   "source": [
    "fn=['season','holiday','workingday','weather',\n",
    "            'year', 'hour', 'dayofweek', 'temp', 'atemp',\n",
    "'humidity', 'windspeed' ]"
   ]
  },
  {
   "cell_type": "code",
   "execution_count": 182,
   "metadata": {},
   "outputs": [
    {
     "data": {
      "text/plain": [
       "(10886, 11)"
      ]
     },
     "execution_count": 182,
     "metadata": {},
     "output_type": "execute_result"
    }
   ],
   "source": [
    "xTrain=train[fn]\n",
    "xTrain.shape #(10886, 12)"
   ]
  },
  {
   "cell_type": "code",
   "execution_count": 183,
   "metadata": {},
   "outputs": [
    {
     "data": {
      "text/plain": [
       "(6493, 11)"
      ]
     },
     "execution_count": 183,
     "metadata": {},
     "output_type": "execute_result"
    }
   ],
   "source": [
    "xTest=test[fn]\n",
    "xTest.shape#(6493,12)"
   ]
  },
  {
   "cell_type": "code",
   "execution_count": 184,
   "metadata": {},
   "outputs": [
    {
     "data": {
      "text/plain": [
       "(10886,)"
      ]
     },
     "execution_count": 184,
     "metadata": {},
     "output_type": "execute_result"
    }
   ],
   "source": [
    "yTrain=train['count']\n",
    "yTrain.shape #(10886,)"
   ]
  },
  {
   "cell_type": "code",
   "execution_count": 185,
   "metadata": {},
   "outputs": [
    {
     "data": {
      "text/plain": [
       "RandomForestRegressor(n_jobs=-1, random_state=42)"
      ]
     },
     "execution_count": 185,
     "metadata": {},
     "output_type": "execute_result"
    }
   ],
   "source": [
    "model.fit(xTrain, yTrain)"
   ]
  },
  {
   "cell_type": "code",
   "execution_count": 186,
   "metadata": {},
   "outputs": [
    {
     "data": {
      "text/plain": [
       "array([ 12.52      ,   5.09      ,   3.71      , ...,  98.29      ,\n",
       "       103.72333333,  46.22      ])"
      ]
     },
     "execution_count": 186,
     "metadata": {},
     "output_type": "execute_result"
    }
   ],
   "source": [
    "pred=model.predict(xTest)\n",
    "pred"
   ]
  },
  {
   "cell_type": "code",
   "execution_count": 187,
   "metadata": {},
   "outputs": [
    {
     "data": {
      "text/plain": [
       "0.33111632569822946"
      ]
     },
     "execution_count": 187,
     "metadata": {},
     "output_type": "execute_result"
    }
   ],
   "source": [
    "score=cross_val_score(model, xTrain, yTrain, cv=kfold, scoring=rmsle_scorer)\n",
    "score\n",
    "score.mean() #0.32"
   ]
  },
  {
   "cell_type": "code",
   "execution_count": 188,
   "metadata": {},
   "outputs": [],
   "source": [
    "bikesubmit=pd.read_csv('sampleSubmission.csv')\n",
    "bikesubmit\n",
    "bikesubmit['count']=pred\n",
    "bikesubmit\n",
    "\n",
    "bikesubmit.to_csv(\"bikesubmit.csv\", index=False)"
   ]
  },
  {
   "cell_type": "code",
   "execution_count": null,
   "metadata": {},
   "outputs": [],
   "source": []
  },
  {
   "cell_type": "code",
   "execution_count": null,
   "metadata": {},
   "outputs": [],
   "source": []
  },
  {
   "cell_type": "code",
   "execution_count": 70,
   "metadata": {},
   "outputs": [
    {
     "data": {
      "text/plain": [
       "\"\\nfor dataset in train_test:\\n    dataset.windspeed.replace(0,dataset.windspeed.mean(),inplace=True)\\n        \\ntrain['windspeed'][train.windspeed == 0] = train.windspeed.mean()\\n\\ntrain['windspeed']=train['windspeed'].replace(0, np.nan)\\ntrain['windspeed']=train['windspeed'].fillna(train['windspeed'].mean())\\n\""
      ]
     },
     "execution_count": 70,
     "metadata": {},
     "output_type": "execute_result"
    }
   ],
   "source": [
    "\"\"\"\n",
    "for dataset in train_test:\n",
    "    dataset.windspeed.replace(0,dataset.windspeed.mean(),inplace=True)\n",
    "        \n",
    "train['windspeed'][train.windspeed == 0] = train.windspeed.mean()\n",
    "\n",
    "train['windspeed']=train['windspeed'].replace(0, np.nan)\n",
    "train['windspeed']=train['windspeed'].fillna(train['windspeed'].mean())\n",
    "\"\"\""
   ]
  },
  {
   "cell_type": "code",
   "execution_count": null,
   "metadata": {},
   "outputs": [],
   "source": []
  },
  {
   "cell_type": "code",
   "execution_count": null,
   "metadata": {},
   "outputs": [],
   "source": []
  },
  {
   "cell_type": "code",
   "execution_count": null,
   "metadata": {},
   "outputs": [],
   "source": []
  },
  {
   "cell_type": "code",
   "execution_count": null,
   "metadata": {},
   "outputs": [],
   "source": []
  },
  {
   "cell_type": "code",
   "execution_count": null,
   "metadata": {},
   "outputs": [],
   "source": []
  },
  {
   "cell_type": "code",
   "execution_count": null,
   "metadata": {},
   "outputs": [],
   "source": []
  },
  {
   "cell_type": "code",
   "execution_count": null,
   "metadata": {},
   "outputs": [],
   "source": []
  },
  {
   "cell_type": "code",
   "execution_count": null,
   "metadata": {},
   "outputs": [],
   "source": []
  }
 ],
 "metadata": {
  "kernelspec": {
   "display_name": "Python 3",
   "language": "python",
   "name": "python3"
  },
  "language_info": {
   "codemirror_mode": {
    "name": "ipython",
    "version": 3
   },
   "file_extension": ".py",
   "mimetype": "text/x-python",
   "name": "python",
   "nbconvert_exporter": "python",
   "pygments_lexer": "ipython3",
   "version": "3.8.3"
  }
 },
 "nbformat": 4,
 "nbformat_minor": 4
}
