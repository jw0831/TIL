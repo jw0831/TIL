{
 "cells": [
  {
   "cell_type": "markdown",
   "metadata": {},
   "source": [
    "# 3.1 프로야구 선수의 다음 해 연봉 예측하기\n",
    "- 회귀 분석\n",
    "    - 독립번수 (X) 와 종속변수(Y) 간의 관계를 찾아내는 것."
   ]
  },
  {
   "cell_type": "code",
   "execution_count": 28,
   "metadata": {},
   "outputs": [],
   "source": [
    "# 파이썬 시각화 패키지 불러오기\n",
    "import matplotlib.pyplot as plt\n",
    "%matplotlib inline\n",
    "\n",
    "\n",
    "# 사용자 운영체제 확인\n",
    "import platform\n",
    "platform.system()\n",
    "\n",
    "\n",
    "# 운영체제별 한글 폰트 설정\n",
    "if platform.system() == 'Darwin': # Mac 환경 폰트 설정\n",
    "    plt.rc('font', family='AppleGothic')\n",
    "elif platform.system() == 'Windows': # Windows 환경 폰트 설정\n",
    "    plt.rc('font', family='Malgun Gothic')\n",
    "\n",
    "plt.rc('axes', unicode_minus=False) # 마이너스 폰트 설정\n",
    "\n",
    "\n",
    "# 글씨 선명하게 출력하는 설정\n",
    "%config InlineBackend.figure_format = 'retina'\n",
    "\n",
    "import pandas as pd\n",
    "import numpy as np"
   ]
  },
  {
   "cell_type": "code",
   "execution_count": 29,
   "metadata": {},
   "outputs": [],
   "source": [
    "picher_file_path = \"python-data-analysis/data/picher_stats_2017.csv\"\n",
    "batter_file_path = \"python-data-analysis/data/batter_stats_2017.csv\"\n",
    "picher = pd.read_csv(picher_file_path)\n",
    "batter = pd.read_csv(batter_file_path)"
   ]
  },
  {
   "cell_type": "code",
   "execution_count": 4,
   "metadata": {},
   "outputs": [
    {
     "data": {
      "text/plain": [
       "Index(['선수명', '팀명', '승', '패', '세', '홀드', '블론', '경기', '선발', '이닝', '삼진/9',\n",
       "       '볼넷/9', '홈런/9', 'BABIP', 'LOB%', 'ERA', 'RA9-WAR', 'FIP', 'kFIP', 'WAR',\n",
       "       '연봉(2018)', '연봉(2017)'],\n",
       "      dtype='object')"
      ]
     },
     "execution_count": 4,
     "metadata": {},
     "output_type": "execute_result"
    }
   ],
   "source": [
    "picher.columns"
   ]
  },
  {
   "cell_type": "code",
   "execution_count": 5,
   "metadata": {},
   "outputs": [
    {
     "data": {
      "text/plain": [
       "Index(['선수명', '팀명', '경기', '타석', '타수', '안타', '홈런', '득점', '타점', '볼넷', '삼진', '도루',\n",
       "       'BABIP', '타율', '출루율', '장타율', 'OPS', 'wOBA', 'WAR', '연봉(2018)',\n",
       "       '연봉(2017)'],\n",
       "      dtype='object')"
      ]
     },
     "execution_count": 5,
     "metadata": {},
     "output_type": "execute_result"
    }
   ],
   "source": [
    "batter.columns"
   ]
  },
  {
   "cell_type": "code",
   "execution_count": 6,
   "metadata": {},
   "outputs": [
    {
     "data": {
      "text/html": [
       "<div>\n",
       "<style scoped>\n",
       "    .dataframe tbody tr th:only-of-type {\n",
       "        vertical-align: middle;\n",
       "    }\n",
       "\n",
       "    .dataframe tbody tr th {\n",
       "        vertical-align: top;\n",
       "    }\n",
       "\n",
       "    .dataframe thead th {\n",
       "        text-align: right;\n",
       "    }\n",
       "</style>\n",
       "<table border=\"1\" class=\"dataframe\">\n",
       "  <thead>\n",
       "    <tr style=\"text-align: right;\">\n",
       "      <th></th>\n",
       "      <th>선수명</th>\n",
       "      <th>팀명</th>\n",
       "      <th>승</th>\n",
       "      <th>패</th>\n",
       "      <th>세</th>\n",
       "      <th>홀드</th>\n",
       "      <th>블론</th>\n",
       "      <th>경기</th>\n",
       "      <th>선발</th>\n",
       "      <th>이닝</th>\n",
       "      <th>...</th>\n",
       "      <th>홈런/9</th>\n",
       "      <th>BABIP</th>\n",
       "      <th>LOB%</th>\n",
       "      <th>ERA</th>\n",
       "      <th>RA9-WAR</th>\n",
       "      <th>FIP</th>\n",
       "      <th>kFIP</th>\n",
       "      <th>WAR</th>\n",
       "      <th>연봉(2018)</th>\n",
       "      <th>연봉(2017)</th>\n",
       "    </tr>\n",
       "  </thead>\n",
       "  <tbody>\n",
       "    <tr>\n",
       "      <th>0</th>\n",
       "      <td>켈리</td>\n",
       "      <td>SK</td>\n",
       "      <td>16</td>\n",
       "      <td>7</td>\n",
       "      <td>0</td>\n",
       "      <td>0</td>\n",
       "      <td>0</td>\n",
       "      <td>30</td>\n",
       "      <td>30</td>\n",
       "      <td>190.0</td>\n",
       "      <td>...</td>\n",
       "      <td>0.76</td>\n",
       "      <td>0.342</td>\n",
       "      <td>73.7</td>\n",
       "      <td>3.60</td>\n",
       "      <td>6.91</td>\n",
       "      <td>3.69</td>\n",
       "      <td>3.44</td>\n",
       "      <td>6.62</td>\n",
       "      <td>140000</td>\n",
       "      <td>85000</td>\n",
       "    </tr>\n",
       "    <tr>\n",
       "      <th>1</th>\n",
       "      <td>소사</td>\n",
       "      <td>LG</td>\n",
       "      <td>11</td>\n",
       "      <td>11</td>\n",
       "      <td>1</td>\n",
       "      <td>0</td>\n",
       "      <td>0</td>\n",
       "      <td>30</td>\n",
       "      <td>29</td>\n",
       "      <td>185.1</td>\n",
       "      <td>...</td>\n",
       "      <td>0.53</td>\n",
       "      <td>0.319</td>\n",
       "      <td>67.1</td>\n",
       "      <td>3.88</td>\n",
       "      <td>6.80</td>\n",
       "      <td>3.52</td>\n",
       "      <td>3.41</td>\n",
       "      <td>6.08</td>\n",
       "      <td>120000</td>\n",
       "      <td>50000</td>\n",
       "    </tr>\n",
       "    <tr>\n",
       "      <th>2</th>\n",
       "      <td>양현종</td>\n",
       "      <td>KIA</td>\n",
       "      <td>20</td>\n",
       "      <td>6</td>\n",
       "      <td>0</td>\n",
       "      <td>0</td>\n",
       "      <td>0</td>\n",
       "      <td>31</td>\n",
       "      <td>31</td>\n",
       "      <td>193.1</td>\n",
       "      <td>...</td>\n",
       "      <td>0.79</td>\n",
       "      <td>0.332</td>\n",
       "      <td>72.1</td>\n",
       "      <td>3.44</td>\n",
       "      <td>6.54</td>\n",
       "      <td>3.94</td>\n",
       "      <td>3.82</td>\n",
       "      <td>5.64</td>\n",
       "      <td>230000</td>\n",
       "      <td>150000</td>\n",
       "    </tr>\n",
       "    <tr>\n",
       "      <th>3</th>\n",
       "      <td>차우찬</td>\n",
       "      <td>LG</td>\n",
       "      <td>10</td>\n",
       "      <td>7</td>\n",
       "      <td>0</td>\n",
       "      <td>0</td>\n",
       "      <td>0</td>\n",
       "      <td>28</td>\n",
       "      <td>28</td>\n",
       "      <td>175.2</td>\n",
       "      <td>...</td>\n",
       "      <td>1.02</td>\n",
       "      <td>0.298</td>\n",
       "      <td>75.0</td>\n",
       "      <td>3.43</td>\n",
       "      <td>6.11</td>\n",
       "      <td>4.20</td>\n",
       "      <td>4.03</td>\n",
       "      <td>4.63</td>\n",
       "      <td>100000</td>\n",
       "      <td>100000</td>\n",
       "    </tr>\n",
       "    <tr>\n",
       "      <th>4</th>\n",
       "      <td>레일리</td>\n",
       "      <td>롯데</td>\n",
       "      <td>13</td>\n",
       "      <td>7</td>\n",
       "      <td>0</td>\n",
       "      <td>0</td>\n",
       "      <td>0</td>\n",
       "      <td>30</td>\n",
       "      <td>30</td>\n",
       "      <td>187.1</td>\n",
       "      <td>...</td>\n",
       "      <td>0.91</td>\n",
       "      <td>0.323</td>\n",
       "      <td>74.1</td>\n",
       "      <td>3.80</td>\n",
       "      <td>6.13</td>\n",
       "      <td>4.36</td>\n",
       "      <td>4.31</td>\n",
       "      <td>4.38</td>\n",
       "      <td>111000</td>\n",
       "      <td>85000</td>\n",
       "    </tr>\n",
       "  </tbody>\n",
       "</table>\n",
       "<p>5 rows × 22 columns</p>\n",
       "</div>"
      ],
      "text/plain": [
       "   선수명   팀명   승   패  세  홀드  블론  경기  선발     이닝  ...  홈런/9  BABIP  LOB%   ERA  \\\n",
       "0   켈리   SK  16   7  0   0   0  30  30  190.0  ...  0.76  0.342  73.7  3.60   \n",
       "1   소사   LG  11  11  1   0   0  30  29  185.1  ...  0.53  0.319  67.1  3.88   \n",
       "2  양현종  KIA  20   6  0   0   0  31  31  193.1  ...  0.79  0.332  72.1  3.44   \n",
       "3  차우찬   LG  10   7  0   0   0  28  28  175.2  ...  1.02  0.298  75.0  3.43   \n",
       "4  레일리   롯데  13   7  0   0   0  30  30  187.1  ...  0.91  0.323  74.1  3.80   \n",
       "\n",
       "   RA9-WAR   FIP  kFIP   WAR  연봉(2018)  연봉(2017)  \n",
       "0     6.91  3.69  3.44  6.62    140000     85000  \n",
       "1     6.80  3.52  3.41  6.08    120000     50000  \n",
       "2     6.54  3.94  3.82  5.64    230000    150000  \n",
       "3     6.11  4.20  4.03  4.63    100000    100000  \n",
       "4     6.13  4.36  4.31  4.38    111000     85000  \n",
       "\n",
       "[5 rows x 22 columns]"
      ]
     },
     "execution_count": 6,
     "metadata": {},
     "output_type": "execute_result"
    }
   ],
   "source": [
    "picher.head()"
   ]
  },
  {
   "cell_type": "code",
   "execution_count": 7,
   "metadata": {},
   "outputs": [
    {
     "data": {
      "text/plain": [
       "(152, 22)"
      ]
     },
     "execution_count": 7,
     "metadata": {},
     "output_type": "execute_result"
    }
   ],
   "source": [
    "picher.shape"
   ]
  },
  {
   "cell_type": "code",
   "execution_count": 8,
   "metadata": {},
   "outputs": [
    {
     "data": {
      "text/plain": [
       "count       152.000000\n",
       "mean      18932.236842\n",
       "std       30940.732924\n",
       "min        2700.000000\n",
       "25%        4000.000000\n",
       "50%        7550.000000\n",
       "75%       18500.000000\n",
       "max      230000.000000\n",
       "Name: 연봉(2018), dtype: float64"
      ]
     },
     "execution_count": 8,
     "metadata": {},
     "output_type": "execute_result"
    }
   ],
   "source": [
    "picher['연봉(2018)'].describe()"
   ]
  },
  {
   "cell_type": "code",
   "execution_count": 19,
   "metadata": {},
   "outputs": [
    {
     "data": {
      "text/plain": [
       "<matplotlib.axes._subplots.AxesSubplot at 0x7ffc9eea5430>"
      ]
     },
     "execution_count": 19,
     "metadata": {},
     "output_type": "execute_result"
    },
    {
     "data": {
      "image/png": "[encoded data removed]",
      "text/plain": [
       "<Figure size 432x288 with 1 Axes>"
      ]
     },
     "metadata": {
      "needs_background": "light"
     },
     "output_type": "display_data"
    }
   ],
   "source": [
    "picher['연봉(2018)'].hist(bins=100) #2018년 연봉 분포를 출력 <- 단위는 만원"
   ]
  },
  {
   "cell_type": "code",
   "execution_count": 30,
   "metadata": {},
   "outputs": [
    {
     "data": {
      "text/plain": [
       "<matplotlib.axes._subplots.AxesSubplot at 0x7ffcbdd8a2b0>"
      ]
     },
     "execution_count": 30,
     "metadata": {},
     "output_type": "execute_result"
    },
    {
     "data": {
      "image/png": "[encoded data removed]",
      "text/plain": [
       "<Figure size 432x288 with 1 Axes>"
      ]
     },
     "metadata": {
      "image/png": {
       "height": 248,
       "width": 397
      },
      "needs_background": "light"
     },
     "output_type": "display_data"
    }
   ],
   "source": [
    "picher.boxplot(column=['연봉(2018)']) #연봉의 상자 그림을 출력"
   ]
  },
  {
   "cell_type": "markdown",
   "metadata": {},
   "source": [
    "연봉의 일반적인 범주를 파악할 수 있다.  \n",
    "수십억대 연봉을 받는 프로 선수는 별로 많지 않으며, 5억원 미만의 연봉이 일반적인 것으로 보인다."
   ]
  },
  {
   "cell_type": "code",
   "execution_count": 31,
   "metadata": {},
   "outputs": [
    {
     "data": {
      "text/plain": [
       "Index(['선수명', '팀명', '승', '패', '세', '홀드', '블론', '경기', '선발', '이닝', '삼진/9',\n",
       "       '볼넷/9', '홈런/9', 'BABIP', 'LOB%', 'ERA', 'RA9-WAR', 'FIP', 'kFIP', 'WAR',\n",
       "       '연봉(2018)', '연봉(2017)'],\n",
       "      dtype='object')"
      ]
     },
     "execution_count": 31,
     "metadata": {},
     "output_type": "execute_result"
    }
   ],
   "source": [
    "picher.columns"
   ]
  },
  {
   "cell_type": "code",
   "execution_count": 32,
   "metadata": {},
   "outputs": [],
   "source": [
    "# 회귀분석에 사용할 피처 살펴보기\n",
    "# 그래프로 표현할수 없는 범주형 피처를 제외한 수치형 피처의 분포 시각화\n",
    "picher_features_df = picher[['승','패','세','홀드','블론','경기','선발','이닝','삼진/9',\n",
    "                             '볼넷/9','홈런/9','BABIP','LOB%', 'ERA', 'RA9-WAR', 'FIP', \n",
    "                             'kFIP', 'WAR', '연봉(2018)', '연봉(2017)']]"
   ]
  },
  {
   "cell_type": "code",
   "execution_count": 36,
   "metadata": {},
   "outputs": [
    {
     "data": {
      "image/png": "[encoded data removed]",
      "text/plain": [
       "<Figure size 1440x1152 with 20 Axes>"
      ]
     },
     "metadata": {
      "image/png": {
       "height": 736,
       "width": 1162
      },
      "needs_background": "light"
     },
     "output_type": "display_data"
    }
   ],
   "source": [
    "# 피처 각각에 대한 히스토그램을 출력\n",
    "def plot_hist_each_column(df):\n",
    "    plt.rcParams['figure.figsize'] = [20, 16]\n",
    "    fig = plt.figure(1)\n",
    "    # df의 열 개수 만큼의 subplot을 출력\n",
    "    for i in range(len(df.columns)):\n",
    "        ax = fig.add_subplot(5,5, i+1)\n",
    "        plt.hist(df[df.columns[i]],bins=50)\n",
    "        ax.set_title(df.columns[i])\n",
    "    plt.show()\n",
    "    \n",
    "plot_hist_each_column(picher_features_df)"
   ]
  },
  {
   "cell_type": "markdown",
   "metadata": {},
   "source": [
    "각 피처간의 단위가 다른것을 확인..  피처의 정규화 혹은 스케일링이 되어있지 않은 상태  \n",
    "이상치가 있는 데이터는 딱히 없어보여서 표준화의 필요성은 못느낌."
   ]
  },
  {
   "cell_type": "markdown",
   "metadata": {},
   "source": [
    "# 투수의 연봉 예측하기"
   ]
  },
  {
   "cell_type": "code",
   "execution_count": 37,
   "metadata": {},
   "outputs": [],
   "source": [
    "# 피처 스케일링\n",
    "# 표준화 방법 사용 : 정규분포에서의 z-값을 구하는 과정과 통일\n",
    "# 판다스 형태로 정의된 데이터를 출력할 때 scientific-notation이 아닌 float 모양으로 출력되게 해줍니다.\n",
    "pd.options.mode.chained_assignment = None\n",
    "\n",
    "# 피처 각각에 대한 스케일링을 수행하는 함수를 정의합니다.\n",
    "def standard_scaling(df, scale_columns):\n",
    "    for col in scale_columns:\n",
    "        series_mean = df[col].mean()\n",
    "        series_std = df[col].std()\n",
    "        df[col] = df[col].apply(lambda x: (x-series_mean)/series_std)\n",
    "    return df"
   ]
  },
  {
   "cell_type": "code",
   "execution_count": 46,
   "metadata": {},
   "outputs": [],
   "source": [
    "scale_columns=['승','패','세','홀드','블론','경기','선발','이닝','삼진/9',\n",
    "               '볼넷/9','홈런/9','BABIP','LOB%', 'ERA', 'RA9-WAR', 'FIP', \n",
    "               'kFIP', 'WAR', '연봉(2018)', '연봉(2017)']\n",
    "picher_df = standard_scaling(picher, scale_columns) # 오리지널 범주형 데이터 포함 수치형 데이터들을 변환해서 새로운 프레임으로..!"
   ]
  },
  {
   "cell_type": "code",
   "execution_count": 47,
   "metadata": {},
   "outputs": [
    {
     "data": {
      "text/html": [
       "<div>\n",
       "<style scoped>\n",
       "    .dataframe tbody tr th:only-of-type {\n",
       "        vertical-align: middle;\n",
       "    }\n",
       "\n",
       "    .dataframe tbody tr th {\n",
       "        vertical-align: top;\n",
       "    }\n",
       "\n",
       "    .dataframe thead th {\n",
       "        text-align: right;\n",
       "    }\n",
       "</style>\n",
       "<table border=\"1\" class=\"dataframe\">\n",
       "  <thead>\n",
       "    <tr style=\"text-align: right;\">\n",
       "      <th></th>\n",
       "      <th>선수명</th>\n",
       "      <th>팀명</th>\n",
       "      <th>승</th>\n",
       "      <th>패</th>\n",
       "      <th>세</th>\n",
       "      <th>홀드</th>\n",
       "      <th>블론</th>\n",
       "      <th>경기</th>\n",
       "      <th>선발</th>\n",
       "      <th>이닝</th>\n",
       "      <th>...</th>\n",
       "      <th>홈런/9</th>\n",
       "      <th>BABIP</th>\n",
       "      <th>LOB%</th>\n",
       "      <th>ERA</th>\n",
       "      <th>RA9-WAR</th>\n",
       "      <th>FIP</th>\n",
       "      <th>kFIP</th>\n",
       "      <th>WAR</th>\n",
       "      <th>y</th>\n",
       "      <th>연봉(2017)</th>\n",
       "    </tr>\n",
       "  </thead>\n",
       "  <tbody>\n",
       "    <tr>\n",
       "      <th>0</th>\n",
       "      <td>켈리</td>\n",
       "      <td>SK</td>\n",
       "      <td>3.313623</td>\n",
       "      <td>1.227145</td>\n",
       "      <td>-0.306452</td>\n",
       "      <td>-0.585705</td>\n",
       "      <td>-0.543592</td>\n",
       "      <td>0.059433</td>\n",
       "      <td>2.452068</td>\n",
       "      <td>2.645175</td>\n",
       "      <td>...</td>\n",
       "      <td>-0.442382</td>\n",
       "      <td>0.016783</td>\n",
       "      <td>0.446615</td>\n",
       "      <td>-0.587056</td>\n",
       "      <td>3.174630</td>\n",
       "      <td>-0.971030</td>\n",
       "      <td>-1.058125</td>\n",
       "      <td>4.503142</td>\n",
       "      <td>3.912893</td>\n",
       "      <td>2.734705</td>\n",
       "    </tr>\n",
       "    <tr>\n",
       "      <th>1</th>\n",
       "      <td>소사</td>\n",
       "      <td>LG</td>\n",
       "      <td>2.019505</td>\n",
       "      <td>2.504721</td>\n",
       "      <td>-0.098502</td>\n",
       "      <td>-0.585705</td>\n",
       "      <td>-0.543592</td>\n",
       "      <td>0.059433</td>\n",
       "      <td>2.349505</td>\n",
       "      <td>2.547755</td>\n",
       "      <td>...</td>\n",
       "      <td>-0.668521</td>\n",
       "      <td>-0.241686</td>\n",
       "      <td>-0.122764</td>\n",
       "      <td>-0.519855</td>\n",
       "      <td>3.114968</td>\n",
       "      <td>-1.061888</td>\n",
       "      <td>-1.073265</td>\n",
       "      <td>4.094734</td>\n",
       "      <td>3.266495</td>\n",
       "      <td>1.337303</td>\n",
       "    </tr>\n",
       "    <tr>\n",
       "      <th>2</th>\n",
       "      <td>양현종</td>\n",
       "      <td>KIA</td>\n",
       "      <td>4.348918</td>\n",
       "      <td>0.907751</td>\n",
       "      <td>-0.306452</td>\n",
       "      <td>-0.585705</td>\n",
       "      <td>-0.543592</td>\n",
       "      <td>0.111056</td>\n",
       "      <td>2.554632</td>\n",
       "      <td>2.706808</td>\n",
       "      <td>...</td>\n",
       "      <td>-0.412886</td>\n",
       "      <td>-0.095595</td>\n",
       "      <td>0.308584</td>\n",
       "      <td>-0.625456</td>\n",
       "      <td>2.973948</td>\n",
       "      <td>-0.837415</td>\n",
       "      <td>-0.866361</td>\n",
       "      <td>3.761956</td>\n",
       "      <td>6.821679</td>\n",
       "      <td>5.329881</td>\n",
       "    </tr>\n",
       "    <tr>\n",
       "      <th>3</th>\n",
       "      <td>차우찬</td>\n",
       "      <td>LG</td>\n",
       "      <td>1.760682</td>\n",
       "      <td>1.227145</td>\n",
       "      <td>-0.306452</td>\n",
       "      <td>-0.585705</td>\n",
       "      <td>-0.543592</td>\n",
       "      <td>-0.043811</td>\n",
       "      <td>2.246942</td>\n",
       "      <td>2.350927</td>\n",
       "      <td>...</td>\n",
       "      <td>-0.186746</td>\n",
       "      <td>-0.477680</td>\n",
       "      <td>0.558765</td>\n",
       "      <td>-0.627856</td>\n",
       "      <td>2.740722</td>\n",
       "      <td>-0.698455</td>\n",
       "      <td>-0.760385</td>\n",
       "      <td>2.998081</td>\n",
       "      <td>2.620098</td>\n",
       "      <td>3.333592</td>\n",
       "    </tr>\n",
       "    <tr>\n",
       "      <th>4</th>\n",
       "      <td>레일리</td>\n",
       "      <td>롯데</td>\n",
       "      <td>2.537153</td>\n",
       "      <td>1.227145</td>\n",
       "      <td>-0.306452</td>\n",
       "      <td>-0.585705</td>\n",
       "      <td>-0.543592</td>\n",
       "      <td>0.059433</td>\n",
       "      <td>2.452068</td>\n",
       "      <td>2.587518</td>\n",
       "      <td>...</td>\n",
       "      <td>-0.294900</td>\n",
       "      <td>-0.196735</td>\n",
       "      <td>0.481122</td>\n",
       "      <td>-0.539055</td>\n",
       "      <td>2.751570</td>\n",
       "      <td>-0.612941</td>\n",
       "      <td>-0.619085</td>\n",
       "      <td>2.809003</td>\n",
       "      <td>2.975617</td>\n",
       "      <td>2.734705</td>\n",
       "    </tr>\n",
       "  </tbody>\n",
       "</table>\n",
       "<p>5 rows × 22 columns</p>\n",
       "</div>"
      ],
      "text/plain": [
       "   선수명   팀명         승         패         세        홀드        블론        경기  \\\n",
       "0   켈리   SK  3.313623  1.227145 -0.306452 -0.585705 -0.543592  0.059433   \n",
       "1   소사   LG  2.019505  2.504721 -0.098502 -0.585705 -0.543592  0.059433   \n",
       "2  양현종  KIA  4.348918  0.907751 -0.306452 -0.585705 -0.543592  0.111056   \n",
       "3  차우찬   LG  1.760682  1.227145 -0.306452 -0.585705 -0.543592 -0.043811   \n",
       "4  레일리   롯데  2.537153  1.227145 -0.306452 -0.585705 -0.543592  0.059433   \n",
       "\n",
       "         선발        이닝  ...      홈런/9     BABIP      LOB%       ERA   RA9-WAR  \\\n",
       "0  2.452068  2.645175  ... -0.442382  0.016783  0.446615 -0.587056  3.174630   \n",
       "1  2.349505  2.547755  ... -0.668521 -0.241686 -0.122764 -0.519855  3.114968   \n",
       "2  2.554632  2.706808  ... -0.412886 -0.095595  0.308584 -0.625456  2.973948   \n",
       "3  2.246942  2.350927  ... -0.186746 -0.477680  0.558765 -0.627856  2.740722   \n",
       "4  2.452068  2.587518  ... -0.294900 -0.196735  0.481122 -0.539055  2.751570   \n",
       "\n",
       "        FIP      kFIP       WAR         y  연봉(2017)  \n",
       "0 -0.971030 -1.058125  4.503142  3.912893  2.734705  \n",
       "1 -1.061888 -1.073265  4.094734  3.266495  1.337303  \n",
       "2 -0.837415 -0.866361  3.761956  6.821679  5.329881  \n",
       "3 -0.698455 -0.760385  2.998081  2.620098  3.333592  \n",
       "4 -0.612941 -0.619085  2.809003  2.975617  2.734705  \n",
       "\n",
       "[5 rows x 22 columns]"
      ]
     },
     "execution_count": 47,
     "metadata": {},
     "output_type": "execute_result"
    }
   ],
   "source": [
    "picher_df = picher_df.rename(columns={'연봉(2018)':'y'}) #종속변수 (y)\n",
    "picher_df.head(5)"
   ]
  },
  {
   "cell_type": "code",
   "execution_count": 48,
   "metadata": {},
   "outputs": [
    {
     "data": {
      "text/html": [
       "<div>\n",
       "<style scoped>\n",
       "    .dataframe tbody tr th:only-of-type {\n",
       "        vertical-align: middle;\n",
       "    }\n",
       "\n",
       "    .dataframe tbody tr th {\n",
       "        vertical-align: top;\n",
       "    }\n",
       "\n",
       "    .dataframe thead th {\n",
       "        text-align: right;\n",
       "    }\n",
       "</style>\n",
       "<table border=\"1\" class=\"dataframe\">\n",
       "  <thead>\n",
       "    <tr style=\"text-align: right;\">\n",
       "      <th></th>\n",
       "      <th>선수명</th>\n",
       "      <th>승</th>\n",
       "      <th>패</th>\n",
       "      <th>세</th>\n",
       "      <th>홀드</th>\n",
       "      <th>블론</th>\n",
       "      <th>경기</th>\n",
       "      <th>선발</th>\n",
       "      <th>이닝</th>\n",
       "      <th>삼진/9</th>\n",
       "      <th>...</th>\n",
       "      <th>연봉(2017)</th>\n",
       "      <th>KIA</th>\n",
       "      <th>KT</th>\n",
       "      <th>LG</th>\n",
       "      <th>NC</th>\n",
       "      <th>SK</th>\n",
       "      <th>두산</th>\n",
       "      <th>롯데</th>\n",
       "      <th>삼성</th>\n",
       "      <th>한화</th>\n",
       "    </tr>\n",
       "  </thead>\n",
       "  <tbody>\n",
       "    <tr>\n",
       "      <th>0</th>\n",
       "      <td>켈리</td>\n",
       "      <td>3.313623</td>\n",
       "      <td>1.227145</td>\n",
       "      <td>-0.306452</td>\n",
       "      <td>-0.585705</td>\n",
       "      <td>-0.543592</td>\n",
       "      <td>0.059433</td>\n",
       "      <td>2.452068</td>\n",
       "      <td>2.645175</td>\n",
       "      <td>0.672099</td>\n",
       "      <td>...</td>\n",
       "      <td>2.734705</td>\n",
       "      <td>0</td>\n",
       "      <td>0</td>\n",
       "      <td>0</td>\n",
       "      <td>0</td>\n",
       "      <td>1</td>\n",
       "      <td>0</td>\n",
       "      <td>0</td>\n",
       "      <td>0</td>\n",
       "      <td>0</td>\n",
       "    </tr>\n",
       "    <tr>\n",
       "      <th>1</th>\n",
       "      <td>소사</td>\n",
       "      <td>2.019505</td>\n",
       "      <td>2.504721</td>\n",
       "      <td>-0.098502</td>\n",
       "      <td>-0.585705</td>\n",
       "      <td>-0.543592</td>\n",
       "      <td>0.059433</td>\n",
       "      <td>2.349505</td>\n",
       "      <td>2.547755</td>\n",
       "      <td>0.134531</td>\n",
       "      <td>...</td>\n",
       "      <td>1.337303</td>\n",
       "      <td>0</td>\n",
       "      <td>0</td>\n",
       "      <td>1</td>\n",
       "      <td>0</td>\n",
       "      <td>0</td>\n",
       "      <td>0</td>\n",
       "      <td>0</td>\n",
       "      <td>0</td>\n",
       "      <td>0</td>\n",
       "    </tr>\n",
       "    <tr>\n",
       "      <th>2</th>\n",
       "      <td>양현종</td>\n",
       "      <td>4.348918</td>\n",
       "      <td>0.907751</td>\n",
       "      <td>-0.306452</td>\n",
       "      <td>-0.585705</td>\n",
       "      <td>-0.543592</td>\n",
       "      <td>0.111056</td>\n",
       "      <td>2.554632</td>\n",
       "      <td>2.706808</td>\n",
       "      <td>0.109775</td>\n",
       "      <td>...</td>\n",
       "      <td>5.329881</td>\n",
       "      <td>1</td>\n",
       "      <td>0</td>\n",
       "      <td>0</td>\n",
       "      <td>0</td>\n",
       "      <td>0</td>\n",
       "      <td>0</td>\n",
       "      <td>0</td>\n",
       "      <td>0</td>\n",
       "      <td>0</td>\n",
       "    </tr>\n",
       "    <tr>\n",
       "      <th>3</th>\n",
       "      <td>차우찬</td>\n",
       "      <td>1.760682</td>\n",
       "      <td>1.227145</td>\n",
       "      <td>-0.306452</td>\n",
       "      <td>-0.585705</td>\n",
       "      <td>-0.543592</td>\n",
       "      <td>-0.043811</td>\n",
       "      <td>2.246942</td>\n",
       "      <td>2.350927</td>\n",
       "      <td>0.350266</td>\n",
       "      <td>...</td>\n",
       "      <td>3.333592</td>\n",
       "      <td>0</td>\n",
       "      <td>0</td>\n",
       "      <td>1</td>\n",
       "      <td>0</td>\n",
       "      <td>0</td>\n",
       "      <td>0</td>\n",
       "      <td>0</td>\n",
       "      <td>0</td>\n",
       "      <td>0</td>\n",
       "    </tr>\n",
       "    <tr>\n",
       "      <th>4</th>\n",
       "      <td>레일리</td>\n",
       "      <td>2.537153</td>\n",
       "      <td>1.227145</td>\n",
       "      <td>-0.306452</td>\n",
       "      <td>-0.585705</td>\n",
       "      <td>-0.543592</td>\n",
       "      <td>0.059433</td>\n",
       "      <td>2.452068</td>\n",
       "      <td>2.587518</td>\n",
       "      <td>0.155751</td>\n",
       "      <td>...</td>\n",
       "      <td>2.734705</td>\n",
       "      <td>0</td>\n",
       "      <td>0</td>\n",
       "      <td>0</td>\n",
       "      <td>0</td>\n",
       "      <td>0</td>\n",
       "      <td>0</td>\n",
       "      <td>1</td>\n",
       "      <td>0</td>\n",
       "      <td>0</td>\n",
       "    </tr>\n",
       "  </tbody>\n",
       "</table>\n",
       "<p>5 rows × 30 columns</p>\n",
       "</div>"
      ],
      "text/plain": [
       "   선수명         승         패         세        홀드        블론        경기        선발  \\\n",
       "0   켈리  3.313623  1.227145 -0.306452 -0.585705 -0.543592  0.059433  2.452068   \n",
       "1   소사  2.019505  2.504721 -0.098502 -0.585705 -0.543592  0.059433  2.349505   \n",
       "2  양현종  4.348918  0.907751 -0.306452 -0.585705 -0.543592  0.111056  2.554632   \n",
       "3  차우찬  1.760682  1.227145 -0.306452 -0.585705 -0.543592 -0.043811  2.246942   \n",
       "4  레일리  2.537153  1.227145 -0.306452 -0.585705 -0.543592  0.059433  2.452068   \n",
       "\n",
       "         이닝      삼진/9  ...  연봉(2017)  KIA  KT  LG  NC  SK  두산  롯데  삼성  한화  \n",
       "0  2.645175  0.672099  ...  2.734705    0   0   0   0   1   0   0   0   0  \n",
       "1  2.547755  0.134531  ...  1.337303    0   0   1   0   0   0   0   0   0  \n",
       "2  2.706808  0.109775  ...  5.329881    1   0   0   0   0   0   0   0   0  \n",
       "3  2.350927  0.350266  ...  3.333592    0   0   1   0   0   0   0   0   0  \n",
       "4  2.587518  0.155751  ...  2.734705    0   0   0   0   0   0   1   0   0  \n",
       "\n",
       "[5 rows x 30 columns]"
      ]
     },
     "execution_count": 48,
     "metadata": {},
     "output_type": "execute_result"
    }
   ],
   "source": [
    "#범주형 피처들은 원-핫 인코딩을 통해서 정규화 진행 함수: get_dummies()\n",
    "#팀명 피처를 원-핫 인코딩으로 변환\n",
    "team_encoding = pd.get_dummies(picher_df['팀명'])\n",
    "picher_df = picher_df.drop('팀명', axis=1)\n",
    "picher_df = picher_df.join(team_encoding)\n",
    "picher_df.head()"
   ]
  },
  {
   "cell_type": "markdown",
   "metadata": {},
   "source": [
    "### 학습 데이터셋, 테스트 데이터셋 으로 데이터를 분리\n",
    "- train_test_split() 함수 사용"
   ]
  },
  {
   "cell_type": "code",
   "execution_count": 50,
   "metadata": {},
   "outputs": [],
   "source": [
    "from sklearn import linear_model\n",
    "from sklearn.model_selection import train_test_split\n",
    "from sklearn.metrics import mean_squared_error\n",
    "from math import sqrt"
   ]
  },
  {
   "cell_type": "code",
   "execution_count": 51,
   "metadata": {},
   "outputs": [],
   "source": [
    "# 학습 데이터와 테스트 데이터로 분리합니다.\n",
    "X = picher_df[picher_df.columns.difference(['선수명', 'y'])] #선수명과, y를 제외한 모든 컬럼\n",
    "y = picher_df['y']\n",
    "X_train, X_test, y_train, y_test = train_test_split(X, y, test_size = 0.2, random_state=19) #random_state =seed "
   ]
  },
  {
   "cell_type": "code",
   "execution_count": 53,
   "metadata": {},
   "outputs": [
    {
     "name": "stdout",
     "output_type": "stream",
     "text": [
      "[-0.04786627 -0.01346728 -3.04246951 -0.05044684  0.05080696 -0.02414453\n",
      " -0.0444572  -0.01692096  0.12795775  0.02903539  0.3320053   2.51036516\n",
      " -0.07867911 -0.02883312  0.01454106  0.2460238   0.04107999 -0.09083678\n",
      "  0.17442938 -0.15504813 -0.00810251  0.0076283   0.6182979   0.027602\n",
      "  0.04206816  0.11679881 -0.03022142  0.58643087]\n"
     ]
    }
   ],
   "source": [
    "#회귀 분석 계수를 학습 (회귀 모델 학습)\n",
    "lr = linear_model.LinearRegression()\n",
    "model = lr.fit(X_train, y_train)\n",
    "\n",
    "#학습된 계수를 출력\n",
    "print(lr.coef_)"
   ]
  },
  {
   "cell_type": "markdown",
   "metadata": {},
   "source": [
    "### 예측 모델 평가하기\n",
    "- 회귀 분석은 statsmodel 라이브러리의 OLS 클래스로도 실행이 가능.\n",
    "- OLS 클래스의 summary() 함수를 사용하면 다음의 실행 결과 처럼 계수에 대한 자세한 분석 내용을 살펴볼 수 있다.\n",
    "- [OLS: 최소제곱 Ordinary Least Square](https://m.blog.naver.com/PostView.nhn?blogId=leerider&logNo=100189143577&proxyReferer=https:%2F%2Fwww.google.com%2F)\n"
   ]
  },
  {
   "cell_type": "code",
   "execution_count": 56,
   "metadata": {},
   "outputs": [
    {
     "name": "stderr",
     "output_type": "stream",
     "text": [
      "<frozen importlib._bootstrap>:219: RuntimeWarning: numpy.ufunc size changed, may indicate binary incompatibility. Expected 192 from C header, got 216 from PyObject\n"
     ]
    },
    {
     "data": {
      "text/html": [
       "<table class=\"simpletable\">\n",
       "<caption>OLS Regression Results</caption>\n",
       "<tr>\n",
       "  <th>Dep. Variable:</th>            <td>y</td>        <th>  R-squared:         </th> <td>   0.928</td>\n",
       "</tr>\n",
       "<tr>\n",
       "  <th>Model:</th>                   <td>OLS</td>       <th>  Adj. R-squared:    </th> <td>   0.907</td>\n",
       "</tr>\n",
       "<tr>\n",
       "  <th>Method:</th>             <td>Least Squares</td>  <th>  F-statistic:       </th> <td>   44.19</td>\n",
       "</tr>\n",
       "<tr>\n",
       "  <th>Date:</th>             <td>Tue, 27 Oct 2020</td> <th>  Prob (F-statistic):</th> <td>7.70e-42</td>\n",
       "</tr>\n",
       "<tr>\n",
       "  <th>Time:</th>                 <td>01:24:38</td>     <th>  Log-Likelihood:    </th> <td>  3.3433</td>\n",
       "</tr>\n",
       "<tr>\n",
       "  <th>No. Observations:</th>      <td>   121</td>      <th>  AIC:               </th> <td>   49.31</td>\n",
       "</tr>\n",
       "<tr>\n",
       "  <th>Df Residuals:</th>          <td>    93</td>      <th>  BIC:               </th> <td>   127.6</td>\n",
       "</tr>\n",
       "<tr>\n",
       "  <th>Df Model:</th>              <td>    27</td>      <th>                     </th>     <td> </td>   \n",
       "</tr>\n",
       "<tr>\n",
       "  <th>Covariance Type:</th>      <td>nonrobust</td>    <th>                     </th>     <td> </td>   \n",
       "</tr>\n",
       "</table>\n",
       "<table class=\"simpletable\">\n",
       "<tr>\n",
       "      <td></td>        <th>coef</th>     <th>std err</th>      <th>t</th>      <th>P>|t|</th>  <th>[0.025</th>    <th>0.975]</th>  \n",
       "</tr>\n",
       "<tr>\n",
       "  <th>const</th>    <td>   -0.0085</td> <td>    0.023</td> <td>   -0.376</td> <td> 0.708</td> <td>   -0.053</td> <td>    0.036</td>\n",
       "</tr>\n",
       "<tr>\n",
       "  <th>BABIP</th>    <td>   -0.0479</td> <td>    0.042</td> <td>   -1.145</td> <td> 0.255</td> <td>   -0.131</td> <td>    0.035</td>\n",
       "</tr>\n",
       "<tr>\n",
       "  <th>ERA</th>      <td>   -0.0135</td> <td>    0.075</td> <td>   -0.179</td> <td> 0.858</td> <td>   -0.163</td> <td>    0.136</td>\n",
       "</tr>\n",
       "<tr>\n",
       "  <th>FIP</th>      <td>   -3.0425</td> <td>    3.048</td> <td>   -0.998</td> <td> 0.321</td> <td>   -9.094</td> <td>    3.009</td>\n",
       "</tr>\n",
       "<tr>\n",
       "  <th>KIA</th>      <td>   -0.0514</td> <td>    0.072</td> <td>   -0.716</td> <td> 0.476</td> <td>   -0.194</td> <td>    0.091</td>\n",
       "</tr>\n",
       "<tr>\n",
       "  <th>KT</th>       <td>    0.0499</td> <td>    0.069</td> <td>    0.723</td> <td> 0.471</td> <td>   -0.087</td> <td>    0.187</td>\n",
       "</tr>\n",
       "<tr>\n",
       "  <th>LG</th>       <td>   -0.0251</td> <td>    0.078</td> <td>   -0.323</td> <td> 0.747</td> <td>   -0.179</td> <td>    0.129</td>\n",
       "</tr>\n",
       "<tr>\n",
       "  <th>LOB%</th>     <td>   -0.0445</td> <td>    0.051</td> <td>   -0.879</td> <td> 0.382</td> <td>   -0.145</td> <td>    0.056</td>\n",
       "</tr>\n",
       "<tr>\n",
       "  <th>NC</th>       <td>   -0.0179</td> <td>    0.086</td> <td>   -0.208</td> <td> 0.836</td> <td>   -0.189</td> <td>    0.153</td>\n",
       "</tr>\n",
       "<tr>\n",
       "  <th>RA9-WAR</th>  <td>    0.1280</td> <td>    0.095</td> <td>    1.351</td> <td> 0.180</td> <td>   -0.060</td> <td>    0.316</td>\n",
       "</tr>\n",
       "<tr>\n",
       "  <th>SK</th>       <td>    0.0281</td> <td>    0.073</td> <td>    0.387</td> <td> 0.699</td> <td>   -0.116</td> <td>    0.172</td>\n",
       "</tr>\n",
       "<tr>\n",
       "  <th>WAR</th>      <td>    0.3320</td> <td>    0.082</td> <td>    4.057</td> <td> 0.000</td> <td>    0.169</td> <td>    0.495</td>\n",
       "</tr>\n",
       "<tr>\n",
       "  <th>kFIP</th>     <td>    2.5104</td> <td>    2.570</td> <td>    0.977</td> <td> 0.331</td> <td>   -2.594</td> <td>    7.615</td>\n",
       "</tr>\n",
       "<tr>\n",
       "  <th>경기</th>       <td>   -0.0787</td> <td>    0.095</td> <td>   -0.824</td> <td> 0.412</td> <td>   -0.268</td> <td>    0.111</td>\n",
       "</tr>\n",
       "<tr>\n",
       "  <th>두산</th>       <td>   -0.0298</td> <td>    0.084</td> <td>   -0.356</td> <td> 0.723</td> <td>   -0.196</td> <td>    0.136</td>\n",
       "</tr>\n",
       "<tr>\n",
       "  <th>롯데</th>       <td>    0.0136</td> <td>    0.083</td> <td>    0.164</td> <td> 0.870</td> <td>   -0.151</td> <td>    0.178</td>\n",
       "</tr>\n",
       "<tr>\n",
       "  <th>볼넷/9</th>     <td>    0.2460</td> <td>    0.203</td> <td>    1.213</td> <td> 0.228</td> <td>   -0.157</td> <td>    0.649</td>\n",
       "</tr>\n",
       "<tr>\n",
       "  <th>블론</th>       <td>    0.0411</td> <td>    0.040</td> <td>    1.023</td> <td> 0.309</td> <td>   -0.039</td> <td>    0.121</td>\n",
       "</tr>\n",
       "<tr>\n",
       "  <th>삼성</th>       <td>   -0.0918</td> <td>    0.080</td> <td>   -1.144</td> <td> 0.256</td> <td>   -0.251</td> <td>    0.068</td>\n",
       "</tr>\n",
       "<tr>\n",
       "  <th>삼진/9</th>     <td>    0.1744</td> <td>    0.235</td> <td>    0.741</td> <td> 0.461</td> <td>   -0.293</td> <td>    0.642</td>\n",
       "</tr>\n",
       "<tr>\n",
       "  <th>선발</th>       <td>   -0.1550</td> <td>    0.177</td> <td>   -0.874</td> <td> 0.384</td> <td>   -0.507</td> <td>    0.197</td>\n",
       "</tr>\n",
       "<tr>\n",
       "  <th>세</th>        <td>   -0.0081</td> <td>    0.042</td> <td>   -0.194</td> <td> 0.847</td> <td>   -0.091</td> <td>    0.075</td>\n",
       "</tr>\n",
       "<tr>\n",
       "  <th>승</th>        <td>    0.0076</td> <td>    0.072</td> <td>    0.107</td> <td> 0.915</td> <td>   -0.135</td> <td>    0.150</td>\n",
       "</tr>\n",
       "<tr>\n",
       "  <th>연봉(2017)</th> <td>    0.6183</td> <td>    0.041</td> <td>   15.055</td> <td> 0.000</td> <td>    0.537</td> <td>    0.700</td>\n",
       "</tr>\n",
       "<tr>\n",
       "  <th>이닝</th>       <td>    0.0276</td> <td>    0.214</td> <td>    0.129</td> <td> 0.898</td> <td>   -0.398</td> <td>    0.453</td>\n",
       "</tr>\n",
       "<tr>\n",
       "  <th>패</th>        <td>    0.0421</td> <td>    0.063</td> <td>    0.672</td> <td> 0.503</td> <td>   -0.082</td> <td>    0.166</td>\n",
       "</tr>\n",
       "<tr>\n",
       "  <th>한화</th>       <td>    0.1159</td> <td>    0.071</td> <td>    1.641</td> <td> 0.104</td> <td>   -0.024</td> <td>    0.256</td>\n",
       "</tr>\n",
       "<tr>\n",
       "  <th>홀드</th>       <td>   -0.0302</td> <td>    0.053</td> <td>   -0.571</td> <td> 0.569</td> <td>   -0.135</td> <td>    0.075</td>\n",
       "</tr>\n",
       "<tr>\n",
       "  <th>홈런/9</th>     <td>    0.5864</td> <td>    0.542</td> <td>    1.082</td> <td> 0.282</td> <td>   -0.490</td> <td>    1.663</td>\n",
       "</tr>\n",
       "</table>\n",
       "<table class=\"simpletable\">\n",
       "<tr>\n",
       "  <th>Omnibus:</th>       <td>28.069</td> <th>  Durbin-Watson:     </th> <td>   2.025</td>\n",
       "</tr>\n",
       "<tr>\n",
       "  <th>Prob(Omnibus):</th> <td> 0.000</td> <th>  Jarque-Bera (JB):  </th> <td> 194.274</td>\n",
       "</tr>\n",
       "<tr>\n",
       "  <th>Skew:</th>          <td>-0.405</td> <th>  Prob(JB):          </th> <td>6.52e-43</td>\n",
       "</tr>\n",
       "<tr>\n",
       "  <th>Kurtosis:</th>      <td> 9.155</td> <th>  Cond. No.          </th> <td>3.45e+16</td>\n",
       "</tr>\n",
       "</table><br/><br/>Warnings:<br/>[1] Standard Errors assume that the covariance matrix of the errors is correctly specified.<br/>[2] The smallest eigenvalue is 6.67e-31. This might indicate that there are<br/>strong multicollinearity problems or that the design matrix is singular."
      ],
      "text/plain": [
       "<class 'statsmodels.iolib.summary.Summary'>\n",
       "\"\"\"\n",
       "                            OLS Regression Results                            \n",
       "==============================================================================\n",
       "Dep. Variable:                      y   R-squared:                       0.928\n",
       "Model:                            OLS   Adj. R-squared:                  0.907\n",
       "Method:                 Least Squares   F-statistic:                     44.19\n",
       "Date:                Tue, 27 Oct 2020   Prob (F-statistic):           7.70e-42\n",
       "Time:                        01:24:38   Log-Likelihood:                 3.3433\n",
       "No. Observations:                 121   AIC:                             49.31\n",
       "Df Residuals:                      93   BIC:                             127.6\n",
       "Df Model:                          27                                         \n",
       "Covariance Type:            nonrobust                                         \n",
       "==============================================================================\n",
       "                 coef    std err          t      P>|t|      [0.025      0.975]\n",
       "------------------------------------------------------------------------------\n",
       "const         -0.0085      0.023     -0.376      0.708      -0.053       0.036\n",
       "BABIP         -0.0479      0.042     -1.145      0.255      -0.131       0.035\n",
       "ERA           -0.0135      0.075     -0.179      0.858      -0.163       0.136\n",
       "FIP           -3.0425      3.048     -0.998      0.321      -9.094       3.009\n",
       "KIA           -0.0514      0.072     -0.716      0.476      -0.194       0.091\n",
       "KT             0.0499      0.069      0.723      0.471      -0.087       0.187\n",
       "LG            -0.0251      0.078     -0.323      0.747      -0.179       0.129\n",
       "LOB%          -0.0445      0.051     -0.879      0.382      -0.145       0.056\n",
       "NC            -0.0179      0.086     -0.208      0.836      -0.189       0.153\n",
       "RA9-WAR        0.1280      0.095      1.351      0.180      -0.060       0.316\n",
       "SK             0.0281      0.073      0.387      0.699      -0.116       0.172\n",
       "WAR            0.3320      0.082      4.057      0.000       0.169       0.495\n",
       "kFIP           2.5104      2.570      0.977      0.331      -2.594       7.615\n",
       "경기            -0.0787      0.095     -0.824      0.412      -0.268       0.111\n",
       "두산            -0.0298      0.084     -0.356      0.723      -0.196       0.136\n",
       "롯데             0.0136      0.083      0.164      0.870      -0.151       0.178\n",
       "볼넷/9           0.2460      0.203      1.213      0.228      -0.157       0.649\n",
       "블론             0.0411      0.040      1.023      0.309      -0.039       0.121\n",
       "삼성            -0.0918      0.080     -1.144      0.256      -0.251       0.068\n",
       "삼진/9           0.1744      0.235      0.741      0.461      -0.293       0.642\n",
       "선발            -0.1550      0.177     -0.874      0.384      -0.507       0.197\n",
       "세             -0.0081      0.042     -0.194      0.847      -0.091       0.075\n",
       "승              0.0076      0.072      0.107      0.915      -0.135       0.150\n",
       "연봉(2017)       0.6183      0.041     15.055      0.000       0.537       0.700\n",
       "이닝             0.0276      0.214      0.129      0.898      -0.398       0.453\n",
       "패              0.0421      0.063      0.672      0.503      -0.082       0.166\n",
       "한화             0.1159      0.071      1.641      0.104      -0.024       0.256\n",
       "홀드            -0.0302      0.053     -0.571      0.569      -0.135       0.075\n",
       "홈런/9           0.5864      0.542      1.082      0.282      -0.490       1.663\n",
       "==============================================================================\n",
       "Omnibus:                       28.069   Durbin-Watson:                   2.025\n",
       "Prob(Omnibus):                  0.000   Jarque-Bera (JB):              194.274\n",
       "Skew:                          -0.405   Prob(JB):                     6.52e-43\n",
       "Kurtosis:                       9.155   Cond. No.                     3.45e+16\n",
       "==============================================================================\n",
       "\n",
       "Warnings:\n",
       "[1] Standard Errors assume that the covariance matrix of the errors is correctly specified.\n",
       "[2] The smallest eigenvalue is 6.67e-31. This might indicate that there are\n",
       "strong multicollinearity problems or that the design matrix is singular.\n",
       "\"\"\""
      ]
     },
     "execution_count": 56,
     "metadata": {},
     "output_type": "execute_result"
    }
   ],
   "source": [
    "import statsmodels.api as sm\n",
    "\n",
    "# statsmodel 라이브러리로 회귀 분석을 수행\n",
    "X_train = sm.add_constant(X_train)\n",
    "model = sm.OLS(y_train, X_train).fit()\n",
    "model.summary()"
   ]
  },
  {
   "cell_type": "markdown",
   "metadata": {},
   "source": [
    "### 이 두 점수가 1에 가까울수록 데이터를 잘 설명하는 모델이라고 할 수 있다.\n",
    "- R-squared(결정 계수):\t0.928\n",
    "- Adj. R-squared(수정 결정 계수):\t0.907  \n",
    "\n",
    "### F 통계량 (F - statistic) 수치를 살펴본다.\n",
    "- p-value 인 prob(F-statistic) 을 살펴봐야한다.\n",
    "- p-value가 0.05이하이면 F통계량이 유의미한 의미를 가진다고 결론 -> 회귀 분석이 유의미한 결과를 갖는다.\n",
    "- 표의 P>|t| 는 각 피처의 검정 통계량(t-statistic)이 얼마나 유의미한지에 대한 p-value를 나타낸다.\n",
    "- 'WAR', '연봉(2017)', '한화' 3개의 피처의 p-value가 0.05 미만으로 나타났기 때문에 회귀 분석에서 유의미한 피처들이라는 결론을 내릴 수 있다.\n",
    "- 책은 0.014이지만, 맥북은 한화에서 p-value 가 0.104가 나와서 유의미하다고 볼수가 없겠다;;"
   ]
  },
  {
   "cell_type": "markdown",
   "metadata": {},
   "source": [
    "## 어떤 피처가 가장 영향력이 강한 피처일까"
   ]
  },
  {
   "cell_type": "code",
   "execution_count": 63,
   "metadata": {},
   "outputs": [
    {
     "data": {
      "text/plain": [
       "[Text(0, 0, 'const'),\n",
       " Text(0, 0, 'BABIP'),\n",
       " Text(0, 0, 'ERA'),\n",
       " Text(0, 0, 'FIP'),\n",
       " Text(0, 0, 'KIA'),\n",
       " Text(0, 0, 'KT'),\n",
       " Text(0, 0, 'LG'),\n",
       " Text(0, 0, 'LOB%'),\n",
       " Text(0, 0, 'NC'),\n",
       " Text(0, 0, 'RA9-WAR'),\n",
       " Text(0, 0, 'SK'),\n",
       " Text(0, 0, 'WAR'),\n",
       " Text(0, 0, 'kFIP'),\n",
       " Text(0, 0, '경기'),\n",
       " Text(0, 0, '두산'),\n",
       " Text(0, 0, '롯데'),\n",
       " Text(0, 0, '볼넷/9'),\n",
       " Text(0, 0, '블론'),\n",
       " Text(0, 0, '삼성'),\n",
       " Text(0, 0, '삼진/9'),\n",
       " Text(0, 0, '선발'),\n",
       " Text(0, 0, '세'),\n",
       " Text(0, 0, '승'),\n",
       " Text(0, 0, '연봉(2017)'),\n",
       " Text(0, 0, '이닝'),\n",
       " Text(0, 0, '패'),\n",
       " Text(0, 0, '한화'),\n",
       " Text(0, 0, '홀드'),\n",
       " Text(0, 0, '홈런/9')]"
      ]
     },
     "execution_count": 63,
     "metadata": {},
     "output_type": "execute_result"
    },
    {
     "data": {
      "image/png": "[encoded data removed]",
      "text/plain": [
       "<Figure size 1440x1152 with 1 Axes>"
      ]
     },
     "metadata": {
      "image/png": {
       "height": 977,
       "width": 1162
      },
      "needs_background": "light"
     },
     "output_type": "display_data"
    }
   ],
   "source": [
    "# 회귀 게수를 리스트로 반환\n",
    "coefs = model.params.tolist()\n",
    "coefs_series = pd.Series(coefs)\n",
    "\n",
    "# 변수명을 리스트로 반환\n",
    "x_labels = model.params.index.tolist()\n",
    "\n",
    "# 회귀 계수를 출력\n",
    "ax = coefs_series.plot(kind = 'bar')\n",
    "ax.set_title('feature_coef_graph')\n",
    "ax.set_xlabel('x_features')\n",
    "ax.set_ylabel('coef')\n",
    "ax.set_xticklabels(x_labels)"
   ]
  },
  {
   "cell_type": "markdown",
   "metadata": {},
   "source": [
    "### 예측모델 평가하기 : R2 score"
   ]
  },
  {
   "cell_type": "code",
   "execution_count": 51,
   "metadata": {},
   "outputs": [],
   "source": [
    "# 학습 데이터와 테스트 데이터로 분리합니다.\n",
    "X = picher_df[picher_df.columns.difference(['선수명', 'y'])] #선수명과, y를 제외한 모든 컬럼\n",
    "y = picher_df['y']\n",
    "X_train, X_test, y_train, y_test = train_test_split(X, y, test_size = 0.2, random_state=19) #random_state =seed "
   ]
  },
  {
   "cell_type": "code",
   "execution_count": 53,
   "metadata": {},
   "outputs": [
    {
     "name": "stdout",
     "output_type": "stream",
     "text": [
      "[-0.04786627 -0.01346728 -3.04246951 -0.05044684  0.05080696 -0.02414453\n",
      " -0.0444572  -0.01692096  0.12795775  0.02903539  0.3320053   2.51036516\n",
      " -0.07867911 -0.02883312  0.01454106  0.2460238   0.04107999 -0.09083678\n",
      "  0.17442938 -0.15504813 -0.00810251  0.0076283   0.6182979   0.027602\n",
      "  0.04206816  0.11679881 -0.03022142  0.58643087]\n"
     ]
    }
   ],
   "source": [
    "#회귀 분석 계수를 학습 (회귀 모델 학습)\n",
    "lr = linear_model.LinearRegression()\n",
    "model = lr.fit(X_train, y_train)\n",
    "\n",
    "#학습된 계수를 출력\n",
    "print(lr.coef_)"
   ]
  },
  {
   "cell_type": "code",
   "execution_count": 68,
   "metadata": {},
   "outputs": [
    {
     "name": "stdout",
     "output_type": "stream",
     "text": [
      "0.9276949405576705\n",
      "0.8860171644977817\n"
     ]
    }
   ],
   "source": [
    "# 회귀 분석 모델을 평가\n",
    "print(model.score(X_train, y_train)) #train R2 score를 출력\n",
    "print(model.score(X_test, y_test)) #test R2 score를 출력"
   ]
  },
  {
   "cell_type": "markdown",
   "metadata": {},
   "source": [
    "### 예측모델 평가하기 : RMSE score"
   ]
  },
  {
   "cell_type": "code",
   "execution_count": 69,
   "metadata": {},
   "outputs": [
    {
     "name": "stdout",
     "output_type": "stream",
     "text": [
      "0.2353764114936373\n",
      "0.4625196329970635\n"
     ]
    }
   ],
   "source": [
    "# 회귀 분석 모델을 평가\n",
    "y_predictions = lr.predict(X_train)\n",
    "print(sqrt(mean_squared_error(y_train, y_predictions))) #train RMSE score를 출력\n",
    "\n",
    "y_predictions = lr.predict(X_test)\n",
    "print(sqrt(mean_squared_error(y_test, y_predictions))) #test RMSE score를 출력"
   ]
  },
  {
   "cell_type": "markdown",
   "metadata": {},
   "source": [
    "__미니퀴즈 3-1__   \n",
    "Test score는 종속변수 y가 없는 상태에서 말그대로 예측을 한것이다.\n",
    "결과적으로 test score의 점수가 높으면 좋은것이다. 하지만 위의 결과를 보았을때 값이 0에 가까울 수록 정확하다고 볼수있는데, test score의 값은 60점 정도밖에 되지 않는다. 이 두차이가 크다는 것은보아, __다중 공선성__을 살펴봐야 할것 같다."
   ]
  },
  {
   "cell_type": "code",
   "execution_count": null,
   "metadata": {},
   "outputs": [],
   "source": [
    "#pg 155"
   ]
  }
 ],
 "metadata": {
  "kernelspec": {
   "display_name": "Python 3",
   "language": "python",
   "name": "python3"
  },
  "language_info": {
   "codemirror_mode": {
    "name": "ipython",
    "version": 3
   },
   "file_extension": ".py",
   "mimetype": "text/x-python",
   "name": "python",
   "nbconvert_exporter": "python",
   "pygments_lexer": "ipython3",
   "version": "3.8.3"
  }
 },
 "nbformat": 4,
 "nbformat_minor": 4
}
