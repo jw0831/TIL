{
 "metadata": {
  "language_info": {
   "codemirror_mode": {
    "name": "ipython",
    "version": 3
   },
   "file_extension": ".py",
   "mimetype": "text/x-python",
   "name": "python",
   "nbconvert_exporter": "python",
   "pygments_lexer": "ipython3",
   "version": 3
  },
  "orig_nbformat": 2,
  "kernelspec": {
   "name": "python_defaultSpec_1595568393031",
   "display_name": "Python 3.7.8 64-bit"
  }
 },
 "nbformat": 4,
 "nbformat_minor": 2,
 "cells": [
  {
   "cell_type": "code",
   "execution_count": 2,
   "metadata": {},
   "outputs": [],
   "source": [
    "import xml.etree.ElementTree as xml\n",
    "root = xml.Element(\"employees\")\n",
    "child = xml.Element(\"employee\")\n",
    "nm = xml.SubElement(child, \"name\")\n",
    "nm.text = \"홍길동\"\n",
    "#nm.text , nm.tag\n",
    "root.append(child)\n",
    "tree = xml.ElementTree(root)\n",
    "f = open(\"c:\\\\openAPI_test\\\\employees3.xml\", \"wb\")\n",
    "tree.write(f)"
   ]
  }
 ]
}