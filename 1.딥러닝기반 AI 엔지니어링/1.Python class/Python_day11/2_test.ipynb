{
 "metadata": {
  "language_info": {
   "codemirror_mode": {
    "name": "ipython",
    "version": 3
   },
   "file_extension": ".py",
   "mimetype": "text/x-python",
   "name": "python",
   "nbconvert_exporter": "python",
   "pygments_lexer": "ipython3",
   "version": 3
  },
  "orig_nbformat": 2,
  "kernelspec": {
   "name": "python_defaultSpec_1595813429352",
   "display_name": "Python 3.7.8 64-bit"
  }
 },
 "nbformat": 4,
 "nbformat_minor": 2,
 "cells": [
  {
   "cell_type": "code",
   "execution_count": 36,
   "metadata": {
    "tags": []
   },
   "outputs": [
    {
     "output_type": "stream",
     "name": "stdout",
     "text": "이순신 10\n['이순신'] ['이순신', ' 홍길동'] [41]\n['강감찬', ' 홍길동', 10, 20, 30, 41]\n[' 홍길동', 10, 20, 30, 41]\n<built-in method values of dict object at 0x000001DCE4F55548>\n홍길동\n30\n남\ndict_keys(['이름'])\n5\n[' 홍길동', 10, 20, 30, 41, (1, '이순신', 30), (2, '홍길동', 40), (3, '권율', 40)]\n[' 홍길동', 10, 20, 30, 41, ' 홍길동', 10, 20, 30, 41]\nFalse\n"
    }
   ],
   "source": [
    "#list\n",
    "list1 = ['이순신', ' 홍길동', 10, 20,30 ,41]\n",
    "list2 = [(1, '이순신', 30), (2, '홍길동', 40), (3, '권율', 40)]\n",
    "list3 = [[1, '이순신', 30], [2, '홍길동', 40]]\n",
    "list4 = [{'이름': '홍길동'},{'나이':30},{'성별':'남'}]\n",
    "\n",
    "print(list1[0], list1[2])\n",
    "print(list1[0:1], list1[:2], list1[-1:])\n",
    "list1[0] = '강감찬'\n",
    "print(list1)\n",
    "del list1[0]\n",
    "print(list1)\n",
    "\n",
    "a = list4[0].values\n",
    "print(a)\n",
    "print(list4[0].get('이름'))\n",
    "print(list4[1].get('나이'))\n",
    "print(list4[2].get('성별'))\n",
    "print(list4[0].keys())\n",
    "\n",
    "#append 많이 사용한다.. \n",
    "#page 182,184   해보기\n",
    "\n",
    "print(len(list1))\n",
    "#concatenate\n",
    "print(list1+list2)\n",
    "print(list1 *2)\n",
    "print('홍길동' in list1)\n",
    "\n",
    "#189 list조작 함수\n",
    "# pg192 \n"
   ]
  },
  {
   "cell_type": "code",
   "execution_count": 55,
   "metadata": {
    "tags": []
   },
   "outputs": [
    {
     "output_type": "stream",
     "name": "stdout",
     "text": "3 <class 'int'>\n1 홍길동\n(1, 2) <class 'tuple'> ('이순신', '홍길동') (1,)\n5\n(1, 2, 3, '이순신', '홍길동', 10, 20, 30, 40, 50)\n('test', 'test')\n1\n2\n3\n이순신\n홍길동\n"
    }
   ],
   "source": [
    "#tuple\n",
    "tup1 = (1,2,3,'이순신', '홍길동')\n",
    "print(tup1[2], type(tup1[2]))\n",
    "tup2 = (10, 20, 30, 40, 50)\n",
    "# indexing & slicing\n",
    "print(tup1[0], tup1[-1])\n",
    "print(tup1[:2], type(tup1[:2]), tup1[3:], tup1[:1])\n",
    "#값이 하나만 있을때는 a = (2,) 변수에 콤마를 넣어줘야한다.\n",
    "#안되는경우\n",
    "#tup1[0] = 100\n",
    "#del tup1[0] #튜플 타입은 변경 불가능\n",
    "\n",
    "print(len(tup1))\n",
    "tup3 = tup1 + tup2 #concatenate\n",
    "print(tup3)\n",
    "print(('test',) *2)\n",
    "'홍길동' in tup1\n",
    "for x in tup1:\n",
    "    print(x)\n",
    "\n",
    "#literation / split 나중에 딥러닝 할때 필요\n"
   ]
  },
  {
   "cell_type": "code",
   "execution_count": 86,
   "metadata": {
    "tags": []
   },
   "outputs": [
    {
     "output_type": "stream",
     "name": "stdout",
     "text": "20\n[{'ServiceKey': 1234, 'page': 20, 'numcount': 1}, {'ServiceKey': 232, 'page': 122, 'numcount': 2}]\n[{'ServiceKey': 1234, 'page': 20, 'numcount': 1, 'count': 300}, {'ServiceKey': 232, 'page': 122, 'numcount': 2}]\n122\n1\nServiceKey\npage\nnumcount\ncount\n1234 <class 'int'>\n20 <class 'int'>\n1 <class 'int'>\n300 <class 'int'>\nServiceKey <class 'str'>\npage <class 'str'>\nnumcount <class 'str'>\ncount <class 'str'>\n1234\n20\n1\n300\n"
    }
   ],
   "source": [
    "#pg.199 딕셔너리\n",
    "data2 = [{'ServiceKey':1234, 'page':1, 'numcount':1},{'ServiceKey':232, 'page':122, 'numcount':2}]\n",
    "data2[0]['page'] = 20 #set\n",
    "print(data2[0]['page']) #get\n",
    "print(data2)\n",
    "data2[0]['count'] = 300\n",
    "print(data2)\n",
    "print(data2[1]['page'])\n",
    "print(data2[0].get('numcount'))\n",
    "for item in data2[0]:\n",
    "    print(item)\n",
    "\n",
    "for item in data2[0].values():\n",
    "    print(item, type(item))\n",
    "    \n",
    "for item in data2[0].keys():\n",
    "    print(item, type(item))\n",
    "\n",
    "for item in data2[0].keys():\n",
    "    print(data2[0][item]) #key 를 받아서 프린트\n",
    "\n",
    "\n",
    "\n",
    "\n",
    "\n"
   ]
  },
  {
   "cell_type": "code",
   "execution_count": null,
   "metadata": {},
   "outputs": [],
   "source": [
    "#pg. 202-205\n",
    "# https://docs.python.org/ko/3.7/\n",
    "\n"
   ]
  }
 ]
}