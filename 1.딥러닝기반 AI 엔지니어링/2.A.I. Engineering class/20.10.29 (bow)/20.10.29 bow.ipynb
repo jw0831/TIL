{
 "cells": [
  {
   "cell_type": "markdown",
   "metadata": {},
   "source": [
    "bow: 단어의 순서 고려 x, 단어의 빈도수를 기반으로 만든 행렬  \n",
    "1) 단어 추출 -> 단어에 대해 정수 인덱스 설정  \n",
    "2) 단어의 등장 횟수를 저장한 벡터를 생성"
   ]
  },
  {
   "cell_type": "code",
   "execution_count": 14,
   "metadata": {},
   "outputs": [],
   "source": [
    "text = \"정부가. 발표하는. 물가상승률과 소비자가 느끼는 물가상승률은 다르다.\""
   ]
  },
  {
   "cell_type": "code",
   "execution_count": 15,
   "metadata": {},
   "outputs": [],
   "source": [
    "#퀴즈1. text에서 .(마침표)을 제거"
   ]
  },
  {
   "cell_type": "code",
   "execution_count": 17,
   "metadata": {},
   "outputs": [],
   "source": [
    "import re\n",
    "token=re.sub('\\.','', text)"
   ]
  },
  {
   "cell_type": "code",
   "execution_count": 19,
   "metadata": {},
   "outputs": [],
   "source": [
    "from konlpy.tag import Okt"
   ]
  },
  {
   "cell_type": "code",
   "execution_count": 20,
   "metadata": {},
   "outputs": [],
   "source": [
    "okt=Okt()"
   ]
  },
  {
   "cell_type": "code",
   "execution_count": 22,
   "metadata": {},
   "outputs": [
    {
     "data": {
      "text/plain": [
       "['정부', '가', '발표', '하는', '물가상승률', '과', '소비자', '가', '느끼는', '물가상승률', '은', '다르다']"
      ]
     },
     "execution_count": 22,
     "metadata": {},
     "output_type": "execute_result"
    }
   ],
   "source": [
    "token=okt.morphs(token)\n",
    "token"
   ]
  },
  {
   "cell_type": "code",
   "execution_count": 35,
   "metadata": {},
   "outputs": [],
   "source": [
    "word2index={} #{단어: 인덱스번호,...}\n",
    "bow=[] #[단어빈도수, 단어빈도수,...]"
   ]
  },
  {
   "cell_type": "code",
   "execution_count": 36,
   "metadata": {},
   "outputs": [
    {
     "name": "stdout",
     "output_type": "stream",
     "text": [
      "{'정부': 0, '가': 1, '발표': 2, '하는': 3, '물가상승률': 4, '과': 5, '소비자': 6, '느끼는': 7, '은': 8, '다르다': 9}\n"
     ]
    },
    {
     "data": {
      "text/plain": [
       "[1, 2, 1, 1, 2, 1, 1, 1, 1, 1]"
      ]
     },
     "execution_count": 36,
     "metadata": {},
     "output_type": "execute_result"
    }
   ],
   "source": [
    "# 단어가 word2index에 없을 경우에만 추가\n",
    "for v in token: \n",
    "    if v not in word2index.keys():\n",
    "        word2index[v]=len(word2index)\n",
    "        bow.insert(len(word2index)-1,1)\n",
    "    else:\n",
    "        idx=word2index.get(v) #get 함수:키에 해당되는 값을 리턴\n",
    "        bow[idx]=bow[idx]+1\n",
    "print(word2index)\n",
    "bow"
   ]
  },
  {
   "cell_type": "code",
   "execution_count": 32,
   "metadata": {},
   "outputs": [],
   "source": [
    "# test = [10,20,30,40]\n",
    "# test.insert(0,1)\n",
    "# test"
   ]
  },
  {
   "cell_type": "markdown",
   "metadata": {},
   "source": [
    "전체문서(n개 문서) = {d1, d2, ... , dn}  \n",
    "단어집합(m개 단어) = {t1, t2, ... , tm}  \n",
    "xij= 문서 di에 있는 단어 tj의 출현 빈도수"
   ]
  },
  {
   "cell_type": "code",
   "execution_count": 37,
   "metadata": {},
   "outputs": [],
   "source": [
    "from sklearn.feature_extraction import DictVectorizer"
   ]
  },
  {
   "cell_type": "code",
   "execution_count": 38,
   "metadata": {},
   "outputs": [],
   "source": [
    "v=DictVectorizer(sparse=False) #True : 텍스트 데이터를 압축해서 bow 생성(메모리 효율)\n",
    "d = [{'a':1,'b':2},{'b':3,'c':1}] #[문서1, 문서2] {단어1:빈도수, 단어2:빈도수}"
   ]
  },
  {
   "cell_type": "code",
   "execution_count": 42,
   "metadata": {},
   "outputs": [
    {
     "data": {
      "text/plain": [
       "'     a   b   c\\narray([[1., 2., 0.],   문서1\\n       [0., 3., 1.]])  문서2\\n'"
      ]
     },
     "execution_count": 42,
     "metadata": {},
     "output_type": "execute_result"
    }
   ],
   "source": [
    "\"\"\"     a   b   c\n",
    "array([[1., 2., 0.],   문서1\n",
    "       [0., 3., 1.]])  문서2\n",
    "\"\"\""
   ]
  },
  {
   "cell_type": "code",
   "execution_count": 44,
   "metadata": {},
   "outputs": [
    {
     "name": "stdout",
     "output_type": "stream",
     "text": [
      "[[1. 2. 0.]\n",
      " [0. 3. 1.]]\n",
      "['a', 'b', 'c']\n"
     ]
    }
   ],
   "source": [
    "print(v.fit_transform(d)) #bow가 만들어 짐\n",
    "print(v.feature_names_)"
   ]
  },
  {
   "cell_type": "code",
   "execution_count": 46,
   "metadata": {},
   "outputs": [
    {
     "name": "stdout",
     "output_type": "stream",
     "text": [
      "[[0. 0. 5.]]\n"
     ]
    }
   ],
   "source": [
    "#bow 에 새로운 문서 데이터를 전달하여 변환\n",
    "print(v.transform({'c':5, 'd':2})) #bow에는 a,b,c단어만 존재 d는 없음\n"
   ]
  },
  {
   "cell_type": "code",
   "execution_count": 47,
   "metadata": {},
   "outputs": [],
   "source": [
    "#CountVectorizer\n",
    "#1) 문서-> 토큰 변환 2)토큰의 빈도수 3)bow 벡터 생성\n",
    "from sklearn.feature_extraction.text import CountVectorizer"
   ]
  },
  {
   "cell_type": "code",
   "execution_count": 80,
   "metadata": {},
   "outputs": [],
   "source": [
    "corpus=['This is the first document.',\n",
    "    'This is the second second document.',\n",
    "    'And the third one document.',\n",
    "    'Is this the first document?',\n",
    "    'The last document?']"
   ]
  },
  {
   "cell_type": "code",
   "execution_count": 81,
   "metadata": {},
   "outputs": [
    {
     "data": {
      "text/plain": [
       "({'this': 2, 'is': 1, 'first': 0},\n",
       " {'and', 'document', 'last', 'one', 'second', 'the', 'third'})"
      ]
     },
     "execution_count": 81,
     "metadata": {},
     "output_type": "execute_result"
    }
   ],
   "source": [
    "\n",
    "v=CountVectorizer(min_df=2, max_df=4,) #문장에서 단어의 최소 빈도수 (최소 2번 등장하면 가져오기)\n",
    "v.fit(corpus)\n",
    "v.vocabulary_, v.stop_words_"
   ]
  },
  {
   "cell_type": "code",
   "execution_count": 76,
   "metadata": {},
   "outputs": [
    {
     "data": {
      "text/plain": [
       "{'this': 3, 'the': 0, 'this the': 4, 'third': 2, 'the third': 1}"
      ]
     },
     "execution_count": 76,
     "metadata": {},
     "output_type": "execute_result"
    }
   ],
   "source": [
    "#많이 쓰이는 기능 (아래부터 읽기)\n",
    "v=CountVectorizer(ngram_range=(1,2),token_pattern=\"t\\w+\")\n",
    "v.fit(corpus)\n",
    "v.vocabulary_"
   ]
  },
  {
   "cell_type": "code",
   "execution_count": 72,
   "metadata": {},
   "outputs": [
    {
     "data": {
      "text/plain": [
       "{'this': 35,\n",
       " 'is': 7,\n",
       " 'the': 23,\n",
       " 'first': 5,\n",
       " 'document': 4,\n",
       " 'this is': 36,\n",
       " 'is the': 8,\n",
       " 'the first': 24,\n",
       " 'first document': 6,\n",
       " 'this is the': 37,\n",
       " 'is the first': 9,\n",
       " 'the first document': 25,\n",
       " 'this is the first': 38,\n",
       " 'is the first document': 10,\n",
       " 'second': 19,\n",
       " 'the second': 28,\n",
       " 'second second': 21,\n",
       " 'second document': 20,\n",
       " 'is the second': 11,\n",
       " 'the second second': 29,\n",
       " 'second second document': 22,\n",
       " 'this is the second': 39,\n",
       " 'is the second second': 12,\n",
       " 'the second second document': 30,\n",
       " 'and': 0,\n",
       " 'third': 33,\n",
       " 'one': 18,\n",
       " 'and the': 1,\n",
       " 'the third': 31,\n",
       " 'third one': 34,\n",
       " 'and the third': 2,\n",
       " 'the third one': 32,\n",
       " 'and the third one': 3,\n",
       " 'is this': 13,\n",
       " 'this the': 40,\n",
       " 'is this the': 14,\n",
       " 'this the first': 41,\n",
       " 'is this the first': 15,\n",
       " 'this the first document': 42,\n",
       " 'last': 16,\n",
       " 'the last': 26,\n",
       " 'last document': 17,\n",
       " 'the last document': 27}"
      ]
     },
     "execution_count": 72,
     "metadata": {},
     "output_type": "execute_result"
    }
   ],
   "source": [
    "# ngram_range=(n,m) 의미? 최소 n개 최대 m개의 단어들을 묶어서 1개의 단어로 취급하여 bow를 생성\n",
    "v=CountVectorizer(ngram_range=(2,2)) #최소길이 2, 최대길이 2 = 2(bi) gram\n",
    "v=CountVectorizer(ngram_range=(1,4))\n",
    "v.fit(corpus)\n",
    "v.vocabulary_\n",
    "# 2단어가 1개의 단어로 사용 : 'this is' = 하나의 단어로 보기.\n",
    "# 점 마침표 물음표가 제외된것을 확인"
   ]
  },
  {
   "cell_type": "code",
   "execution_count": 67,
   "metadata": {},
   "outputs": [
    {
     "data": {
      "text/plain": [
       "{'this': 2, 'the': 0, 'third': 1}"
      ]
     },
     "execution_count": 67,
     "metadata": {},
     "output_type": "execute_result"
    }
   ],
   "source": [
    "# Option: 테크닉!!\n",
    "v=CountVectorizer(token_pattern=\"t\\w+\") #t로 시작하는 문자\n",
    "v.fit(corpus)\n",
    "v.vocabulary_"
   ]
  },
  {
   "cell_type": "code",
   "execution_count": 62,
   "metadata": {},
   "outputs": [
    {
     "data": {
      "text/plain": [
       "{'t': 16,\n",
       " 'h': 8,\n",
       " 'i': 9,\n",
       " 's': 15,\n",
       " ' ': 0,\n",
       " 'e': 6,\n",
       " 'f': 7,\n",
       " 'r': 14,\n",
       " 'd': 5,\n",
       " 'o': 13,\n",
       " 'c': 4,\n",
       " 'u': 17,\n",
       " 'm': 11,\n",
       " 'n': 12,\n",
       " '.': 1,\n",
       " 'a': 3,\n",
       " '?': 2,\n",
       " 'l': 10}"
      ]
     },
     "execution_count": 62,
     "metadata": {},
     "output_type": "execute_result"
    }
   ],
   "source": [
    "# tip\n",
    "v=CountVectorizer(analyzer='char')\n",
    "v.fit(corpus)\n",
    "v.vocabulary_"
   ]
  },
  {
   "cell_type": "code",
   "execution_count": 60,
   "metadata": {},
   "outputs": [
    {
     "data": {
      "text/plain": [
       "{'document': 0, 'second': 1}"
      ]
     },
     "execution_count": 60,
     "metadata": {},
     "output_type": "execute_result"
    }
   ],
   "source": [
    "# Option: stop_words\n",
    "v=CountVectorizer(stop_words='english')\n",
    "v.fit(corpus)\n",
    "v.vocabulary_"
   ]
  },
  {
   "cell_type": "code",
   "execution_count": 56,
   "metadata": {},
   "outputs": [
    {
     "data": {
      "text/plain": [
       "{'first': 1, 'document': 0, 'second': 4, 'third': 5, 'one': 3, 'last': 2}"
      ]
     },
     "execution_count": 56,
     "metadata": {},
     "output_type": "execute_result"
    }
   ],
   "source": [
    "# Option: stop_words\n",
    "v=CountVectorizer(stop_words=['and','is','the','this'])\n",
    "v.fit(corpus)\n",
    "v.vocabulary_"
   ]
  },
  {
   "cell_type": "code",
   "execution_count": 61,
   "metadata": {},
   "outputs": [
    {
     "data": {
      "text/plain": [
       "{'this': 9,\n",
       " 'is': 3,\n",
       " 'the': 7,\n",
       " 'first': 2,\n",
       " 'document': 1,\n",
       " 'second': 6,\n",
       " 'and': 0,\n",
       " 'third': 8,\n",
       " 'one': 5,\n",
       " 'last': 4}"
      ]
     },
     "execution_count": 61,
     "metadata": {},
     "output_type": "execute_result"
    }
   ],
   "source": [
    "# 여기서부터 위로 읽기 ^\n",
    "v=CountVectorizer()\n",
    "v.fit(corpus)\n",
    "v.vocabulary_"
   ]
  },
  {
   "cell_type": "code",
   "execution_count": 57,
   "metadata": {},
   "outputs": [
    {
     "data": {
      "text/plain": [
       "array([[1, 1, 0, 0, 0, 0],\n",
       "       [1, 0, 0, 0, 2, 0],\n",
       "       [0, 0, 0, 1, 0, 1],\n",
       "       [1, 1, 0, 0, 0, 0],\n",
       "       [1, 0, 1, 0, 0, 0]])"
      ]
     },
     "execution_count": 57,
     "metadata": {},
     "output_type": "execute_result"
    }
   ],
   "source": [
    "v.transform(corpus).toarray()\n",
    "#2차원 배열, 첫번째행: This is the first document -> bow\n",
    "# [-,document,first,is,-,-,-,the,-,this]\n",
    "# [0, 1, 1, 1, 0, 0, 0, 1, 0, 1]"
   ]
  },
  {
   "cell_type": "code",
   "execution_count": 58,
   "metadata": {},
   "outputs": [
    {
     "data": {
      "text/plain": [
       "array([[1, 0, 0, 0, 1, 0]])"
      ]
     },
     "execution_count": 58,
     "metadata": {},
     "output_type": "execute_result"
    }
   ],
   "source": [
    "# 새로운 문서가 입력 -> bow 변환\n",
    "v.transform([\"This is the second document\"]).toarray()"
   ]
  },
  {
   "cell_type": "code",
   "execution_count": 59,
   "metadata": {},
   "outputs": [
    {
     "data": {
      "text/plain": [
       "array([[0, 0, 0, 0, 0, 0]])"
      ]
     },
     "execution_count": 59,
     "metadata": {},
     "output_type": "execute_result"
    }
   ],
   "source": [
    "v.transform([\"Something new\"]).toarray()"
   ]
  },
  {
   "cell_type": "markdown",
   "metadata": {},
   "source": [
    "# tf-idf\n",
    "- term frequency (tf)\n",
    "- inverse document frequency (idf)\n",
    "- 정보 검색, 텍스트 마이닝 및 사용자 모델링 검색에서 가중치 요소로 자주 사용됩니다. tf-idf 값은 단어가 문서에 나타나는 횟수에 비례하여 증가하고 단어를 포함하는 말뭉치의 문서 수로 오프셋됩니다. 이는 일부 단어가 일반적으로 더 자주 나타나는 사실을 조정하는 데 도움이됩니다. tf–idf는 오늘날 가장 널리 사용되는 용어 가중치 체계 중 하나입니다.\n",
    "\n",
    "https://en.wikipedia.org/wiki/Tf–idf\n",
    "\n",
    "- dtm에서는 각각의 단어에 대한 중요도가 없다.\n",
    "    - 단어 빈도수만 저장. 중요도에대한 정보는 전혀 없다.\n",
    "```\n",
    "    t1... tm\n",
    "d1  3\n",
    "d2\n",
    ".\n",
    ".\n",
    ".\n",
    "dn\n",
    "\n",
    "```\n",
    "- 단어가 얼마나 중요한지 알고 싶다.\n",
    "- tf-idf (단어빈도-역문서빈도) : dtm에 있는 각 단어들마다 중요도를 계산\n",
    "- dtm을 생성한 후, tf-idf를 생성\n",
    "\n",
    "- 주의:\n",
    "    - tf(d,t) : 문서 d에서 단어 t의 등장 횟수\n",
    "    - df(t) : 단어 t가 등장한 문서의 개수(여러 번 단어가 등장한 경우에도 1로 카운트)\n",
    "    \n",
    "    - idf(d,t): df(t)의 반비례하는 수\n",
    "    \n",
    "n: 전체 문서의 개수  \n",
    "idf(d,t) = log(n / (1+df(t))  \n",
    "  \n",
    "n / (1+df(t))  \n",
    "  \n",
    "log를 취하는 이유:  \n",
    "ex) n: 100만  \n",
    "idf(d, t) = 100만 / 1 = 100만  \n",
    "idf(d, t) = 100만 / 100 = 1만  \n",
    "idf(d, t) = 100만 / 100만 = 1  \n",
    "  \n",
    "ex) n: 100만  \n",
    "idf(d, t) = log(100만 / 1) = 6  \n",
    "idf(d, t) = log(100만 / 100) = 4  \n",
    "idf(d, t) = log(100만 / 10만) = 1  \n",
    "idf(d, t) = log(100만 / 100만) = 0  \n",
    "\n",
    "불용어가 더 많은 경우가 많다. 그러므로 로그를 씌어주지 않으면 가중치가 더 많이나와서 log를 사용하는것.  \n",
    "\n",
    "tfidf는 모든 문서에서 자주 등장하는 단어라면 중요도가 낮다고 판단,  \n",
    "특정 문서에서만 등장하는 단어라면 중요도가 높다고 판단  \n",
    "tfidf값이 낮(높)으면 -> 단어의 중요도가 낮(높)다."
   ]
  },
  {
   "cell_type": "code",
   "execution_count": 110,
   "metadata": {},
   "outputs": [],
   "source": [
    "import pandas as pd\n",
    "from math import log\n",
    "import numpy as np"
   ]
  },
  {
   "cell_type": "code",
   "execution_count": 86,
   "metadata": {},
   "outputs": [
    {
     "data": {
      "text/plain": [
       "0.28768207245178085"
      ]
     },
     "execution_count": 86,
     "metadata": {},
     "output_type": "execute_result"
    }
   ],
   "source": [
    "log(4/(2+1))"
   ]
  },
  {
   "cell_type": "code",
   "execution_count": 87,
   "metadata": {},
   "outputs": [],
   "source": [
    "#연습문제\n",
    "docs = [ # 문서 4개\n",
    "    '먹고 싶은 사과',\n",
    "    '먹고 싶은 바나나',\n",
    "    '길고 노란 바나나 바나나',\n",
    "    '저는 과일이 좋아요'\n",
    "]\n",
    "#tf(dtm), idf, tfidf'"
   ]
  },
  {
   "cell_type": "code",
   "execution_count": 89,
   "metadata": {},
   "outputs": [
    {
     "data": {
      "text/plain": [
       "{'먹고': 3,\n",
       " '싶은': 6,\n",
       " '사과': 5,\n",
       " '바나나': 4,\n",
       " '길고': 1,\n",
       " '노란': 2,\n",
       " '저는': 7,\n",
       " '과일이': 0,\n",
       " '좋아요': 8}"
      ]
     },
     "execution_count": 89,
     "metadata": {},
     "output_type": "execute_result"
    }
   ],
   "source": [
    "v=CountVectorizer()\n",
    "v.fit(docs)\n",
    "v.vocabulary_"
   ]
  },
  {
   "cell_type": "code",
   "execution_count": 164,
   "metadata": {},
   "outputs": [
    {
     "data": {
      "text/html": [
       "<div>\n",
       "<style scoped>\n",
       "    .dataframe tbody tr th:only-of-type {\n",
       "        vertical-align: middle;\n",
       "    }\n",
       "\n",
       "    .dataframe tbody tr th {\n",
       "        vertical-align: top;\n",
       "    }\n",
       "\n",
       "    .dataframe thead th {\n",
       "        text-align: right;\n",
       "    }\n",
       "</style>\n",
       "<table border=\"1\" class=\"dataframe\">\n",
       "  <thead>\n",
       "    <tr style=\"text-align: right;\">\n",
       "      <th></th>\n",
       "      <th>과일이</th>\n",
       "      <th>길고</th>\n",
       "      <th>노란</th>\n",
       "      <th>먹고</th>\n",
       "      <th>바나나</th>\n",
       "      <th>사과</th>\n",
       "      <th>싶은</th>\n",
       "      <th>저는</th>\n",
       "      <th>좋아요</th>\n",
       "    </tr>\n",
       "  </thead>\n",
       "  <tbody>\n",
       "    <tr>\n",
       "      <th>0</th>\n",
       "      <td>0</td>\n",
       "      <td>0</td>\n",
       "      <td>0</td>\n",
       "      <td>1</td>\n",
       "      <td>0</td>\n",
       "      <td>1</td>\n",
       "      <td>1</td>\n",
       "      <td>0</td>\n",
       "      <td>0</td>\n",
       "    </tr>\n",
       "    <tr>\n",
       "      <th>1</th>\n",
       "      <td>0</td>\n",
       "      <td>0</td>\n",
       "      <td>0</td>\n",
       "      <td>1</td>\n",
       "      <td>1</td>\n",
       "      <td>0</td>\n",
       "      <td>1</td>\n",
       "      <td>0</td>\n",
       "      <td>0</td>\n",
       "    </tr>\n",
       "    <tr>\n",
       "      <th>2</th>\n",
       "      <td>0</td>\n",
       "      <td>1</td>\n",
       "      <td>1</td>\n",
       "      <td>0</td>\n",
       "      <td>2</td>\n",
       "      <td>0</td>\n",
       "      <td>0</td>\n",
       "      <td>0</td>\n",
       "      <td>0</td>\n",
       "    </tr>\n",
       "    <tr>\n",
       "      <th>3</th>\n",
       "      <td>1</td>\n",
       "      <td>0</td>\n",
       "      <td>0</td>\n",
       "      <td>0</td>\n",
       "      <td>0</td>\n",
       "      <td>0</td>\n",
       "      <td>0</td>\n",
       "      <td>1</td>\n",
       "      <td>1</td>\n",
       "    </tr>\n",
       "  </tbody>\n",
       "</table>\n",
       "</div>"
      ],
      "text/plain": [
       "   과일이  길고  노란  먹고  바나나  사과  싶은  저는  좋아요\n",
       "0    0   0   0   1    0   1   1   0    0\n",
       "1    0   0   0   1    1   0   1   0    0\n",
       "2    0   1   1   0    2   0   0   0    0\n",
       "3    1   0   0   0    0   0   0   1    1"
      ]
     },
     "execution_count": 164,
     "metadata": {},
     "output_type": "execute_result"
    }
   ],
   "source": [
    "dtm=v.transform(docs).toarray()\n",
    "dtm\n",
    "df=pd.DataFrame(dtm,columns=sorted(v.vocabulary_))\n",
    "df"
   ]
  },
  {
   "cell_type": "code",
   "execution_count": 165,
   "metadata": {},
   "outputs": [
    {
     "name": "stdout",
     "output_type": "stream",
     "text": [
      "[0.6931471805599453, 0.6931471805599453, 0.6931471805599453, 0.28768207245178085, 0.28768207245178085, 0.6931471805599453, 0.28768207245178085, 0.6931471805599453, 0.6931471805599453]\n"
     ]
    }
   ],
   "source": [
    "temp_idf = []\n",
    "for n in range(dtm.shape[1]):\n",
    "    dft=np.count_nonzero(dtm[:,n])\n",
    "    idf=log(dtm.shape[0]/(1+dft))\n",
    "    temp_idf.append(idf)\n",
    "print(temp_idf)"
   ]
  },
  {
   "cell_type": "code",
   "execution_count": 166,
   "metadata": {},
   "outputs": [
    {
     "data": {
      "text/html": [
       "<div>\n",
       "<style scoped>\n",
       "    .dataframe tbody tr th:only-of-type {\n",
       "        vertical-align: middle;\n",
       "    }\n",
       "\n",
       "    .dataframe tbody tr th {\n",
       "        vertical-align: top;\n",
       "    }\n",
       "\n",
       "    .dataframe thead th {\n",
       "        text-align: right;\n",
       "    }\n",
       "</style>\n",
       "<table border=\"1\" class=\"dataframe\">\n",
       "  <thead>\n",
       "    <tr style=\"text-align: right;\">\n",
       "      <th></th>\n",
       "      <th>과일이</th>\n",
       "      <th>길고</th>\n",
       "      <th>노란</th>\n",
       "      <th>먹고</th>\n",
       "      <th>바나나</th>\n",
       "      <th>사과</th>\n",
       "      <th>싶은</th>\n",
       "      <th>저는</th>\n",
       "      <th>좋아요</th>\n",
       "    </tr>\n",
       "  </thead>\n",
       "  <tbody>\n",
       "    <tr>\n",
       "      <th>0</th>\n",
       "      <td>0.000000</td>\n",
       "      <td>0.000000</td>\n",
       "      <td>0.000000</td>\n",
       "      <td>0.287682</td>\n",
       "      <td>0.000000</td>\n",
       "      <td>0.693147</td>\n",
       "      <td>0.287682</td>\n",
       "      <td>0.000000</td>\n",
       "      <td>0.000000</td>\n",
       "    </tr>\n",
       "    <tr>\n",
       "      <th>1</th>\n",
       "      <td>0.000000</td>\n",
       "      <td>0.000000</td>\n",
       "      <td>0.000000</td>\n",
       "      <td>0.287682</td>\n",
       "      <td>0.287682</td>\n",
       "      <td>0.000000</td>\n",
       "      <td>0.287682</td>\n",
       "      <td>0.000000</td>\n",
       "      <td>0.000000</td>\n",
       "    </tr>\n",
       "    <tr>\n",
       "      <th>2</th>\n",
       "      <td>0.000000</td>\n",
       "      <td>0.693147</td>\n",
       "      <td>0.693147</td>\n",
       "      <td>0.000000</td>\n",
       "      <td>0.575364</td>\n",
       "      <td>0.000000</td>\n",
       "      <td>0.000000</td>\n",
       "      <td>0.000000</td>\n",
       "      <td>0.000000</td>\n",
       "    </tr>\n",
       "    <tr>\n",
       "      <th>3</th>\n",
       "      <td>0.693147</td>\n",
       "      <td>0.000000</td>\n",
       "      <td>0.000000</td>\n",
       "      <td>0.000000</td>\n",
       "      <td>0.000000</td>\n",
       "      <td>0.000000</td>\n",
       "      <td>0.000000</td>\n",
       "      <td>0.693147</td>\n",
       "      <td>0.693147</td>\n",
       "    </tr>\n",
       "  </tbody>\n",
       "</table>\n",
       "</div>"
      ],
      "text/plain": [
       "        과일이        길고        노란        먹고       바나나        사과        싶은  \\\n",
       "0  0.000000  0.000000  0.000000  0.287682  0.000000  0.693147  0.287682   \n",
       "1  0.000000  0.000000  0.000000  0.287682  0.287682  0.000000  0.287682   \n",
       "2  0.000000  0.693147  0.693147  0.000000  0.575364  0.000000  0.000000   \n",
       "3  0.693147  0.000000  0.000000  0.000000  0.000000  0.000000  0.000000   \n",
       "\n",
       "         저는       좋아요  \n",
       "0  0.000000  0.000000  \n",
       "1  0.000000  0.000000  \n",
       "2  0.000000  0.000000  \n",
       "3  0.693147  0.693147  "
      ]
     },
     "execution_count": 166,
     "metadata": {},
     "output_type": "execute_result"
    }
   ],
   "source": [
    "pd.DataFrame(temp_idf*df)"
   ]
  },
  {
   "cell_type": "code",
   "execution_count": 163,
   "metadata": {},
   "outputs": [
    {
     "data": {
      "text/html": [
       "<div>\n",
       "<style scoped>\n",
       "    .dataframe tbody tr th:only-of-type {\n",
       "        vertical-align: middle;\n",
       "    }\n",
       "\n",
       "    .dataframe tbody tr th {\n",
       "        vertical-align: top;\n",
       "    }\n",
       "\n",
       "    .dataframe thead th {\n",
       "        text-align: right;\n",
       "    }\n",
       "</style>\n",
       "<table border=\"1\" class=\"dataframe\">\n",
       "  <thead>\n",
       "    <tr style=\"text-align: right;\">\n",
       "      <th></th>\n",
       "      <th>과일이</th>\n",
       "      <th>길고</th>\n",
       "      <th>노란</th>\n",
       "      <th>먹고</th>\n",
       "      <th>바나나</th>\n",
       "      <th>사과</th>\n",
       "      <th>싶은</th>\n",
       "      <th>저는</th>\n",
       "      <th>좋아요</th>\n",
       "    </tr>\n",
       "  </thead>\n",
       "  <tbody>\n",
       "    <tr>\n",
       "      <th>0</th>\n",
       "      <td>0.000000</td>\n",
       "      <td>0.000000</td>\n",
       "      <td>0.000000</td>\n",
       "      <td>0.287682</td>\n",
       "      <td>0.000000</td>\n",
       "      <td>0.693147</td>\n",
       "      <td>0.287682</td>\n",
       "      <td>0.000000</td>\n",
       "      <td>0.000000</td>\n",
       "    </tr>\n",
       "    <tr>\n",
       "      <th>1</th>\n",
       "      <td>0.000000</td>\n",
       "      <td>0.000000</td>\n",
       "      <td>0.000000</td>\n",
       "      <td>0.287682</td>\n",
       "      <td>0.287682</td>\n",
       "      <td>0.000000</td>\n",
       "      <td>0.287682</td>\n",
       "      <td>0.000000</td>\n",
       "      <td>0.000000</td>\n",
       "    </tr>\n",
       "    <tr>\n",
       "      <th>2</th>\n",
       "      <td>0.000000</td>\n",
       "      <td>0.693147</td>\n",
       "      <td>0.693147</td>\n",
       "      <td>0.000000</td>\n",
       "      <td>0.575364</td>\n",
       "      <td>0.000000</td>\n",
       "      <td>0.000000</td>\n",
       "      <td>0.000000</td>\n",
       "      <td>0.000000</td>\n",
       "    </tr>\n",
       "    <tr>\n",
       "      <th>3</th>\n",
       "      <td>0.693147</td>\n",
       "      <td>0.000000</td>\n",
       "      <td>0.000000</td>\n",
       "      <td>0.000000</td>\n",
       "      <td>0.000000</td>\n",
       "      <td>0.000000</td>\n",
       "      <td>0.000000</td>\n",
       "      <td>0.693147</td>\n",
       "      <td>0.693147</td>\n",
       "    </tr>\n",
       "  </tbody>\n",
       "</table>\n",
       "</div>"
      ],
      "text/plain": [
       "        과일이        길고        노란        먹고       바나나        사과        싶은  \\\n",
       "0  0.000000  0.000000  0.000000  0.287682  0.000000  0.693147  0.287682   \n",
       "1  0.000000  0.000000  0.000000  0.287682  0.287682  0.000000  0.287682   \n",
       "2  0.000000  0.693147  0.693147  0.000000  0.575364  0.000000  0.000000   \n",
       "3  0.693147  0.000000  0.000000  0.000000  0.000000  0.000000  0.000000   \n",
       "\n",
       "         저는       좋아요  \n",
       "0  0.000000  0.000000  \n",
       "1  0.000000  0.000000  \n",
       "2  0.000000  0.000000  \n",
       "3  0.693147  0.693147  "
      ]
     },
     "execution_count": 163,
     "metadata": {},
     "output_type": "execute_result"
    }
   ],
   "source": [
    "#노용철님 (정답)\n",
    "docs =[\n",
    "\n",
    "'먹고 싶은 사과','먹고 싶은 바나나','길고 노란 바나나 바나나','저는 과일이 좋아요'\n",
    "\n",
    "]\n",
    "\n",
    "cv = CountVectorizer()\n",
    "\n",
    "cv.fit(docs)\n",
    "\n",
    "df = pd.DataFrame(cv.transform(docs).toarray(),columns =sorted(cv.vocabulary_))\n",
    "\n",
    "df*np.log(len(df) / (1+df.apply(lambda x: x>0).sum()))"
   ]
  },
  {
   "cell_type": "code",
   "execution_count": null,
   "metadata": {},
   "outputs": [],
   "source": []
  }
 ],
 "metadata": {
  "kernelspec": {
   "display_name": "Python 3",
   "language": "python",
   "name": "python3"
  },
  "language_info": {
   "codemirror_mode": {
    "name": "ipython",
    "version": 3
   },
   "file_extension": ".py",
   "mimetype": "text/x-python",
   "name": "python",
   "nbconvert_exporter": "python",
   "pygments_lexer": "ipython3",
   "version": "3.8.3"
  }
 },
 "nbformat": 4,
 "nbformat_minor": 4
}
