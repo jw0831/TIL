{
 "cells": [
  {
   "cell_type": "markdown",
   "metadata": {},
   "source": [
    "# CNN"
   ]
  },
  {
   "cell_type": "code",
   "execution_count": 1,
   "metadata": {},
   "outputs": [],
   "source": [
    "from keras.models import Sequential\n",
    "from keras.layers import Flatten\n",
    "from keras.layers import Dense\n",
    "from keras.layers import Dropout\n",
    "from keras.layers import Activation\n",
    "from keras.callbacks import EarlyStopping, ModelCheckpoint"
   ]
  },
  {
   "cell_type": "code",
   "execution_count": 2,
   "metadata": {},
   "outputs": [],
   "source": [
    "import keras\n",
    "(x_train, y_train), (x_test, y_test) = keras.datasets.mnist.load_data()"
   ]
  },
  {
   "cell_type": "code",
   "execution_count": 3,
   "metadata": {},
   "outputs": [
    {
     "data": {
      "text/plain": [
       "(60000, 28, 28)"
      ]
     },
     "execution_count": 3,
     "metadata": {},
     "output_type": "execute_result"
    }
   ],
   "source": [
    "x_train.shape"
   ]
  },
  {
   "cell_type": "code",
   "execution_count": 5,
   "metadata": {},
   "outputs": [
    {
     "data": {
      "text/plain": [
       "(10000, 28, 28)"
      ]
     },
     "execution_count": 5,
     "metadata": {},
     "output_type": "execute_result"
    }
   ],
   "source": [
    "x_test.shape"
   ]
  },
  {
   "cell_type": "code",
   "execution_count": 9,
   "metadata": {},
   "outputs": [],
   "source": [
    "# print(x_train[0])\n",
    "# print(y_train[0])"
   ]
  },
  {
   "cell_type": "code",
   "execution_count": 10,
   "metadata": {},
   "outputs": [],
   "source": [
    "x_train = x_train.astype('float32')\n",
    "x_test = x_test.astype('float32')\n",
    "\n",
    "gray_scale = 255\n",
    "x_train /= gray_scale\n",
    "x_test /= gray_scale"
   ]
  },
  {
   "cell_type": "code",
   "execution_count": 18,
   "metadata": {},
   "outputs": [],
   "source": [
    "model = Sequential([\n",
    "    Flatten(input_shape=(28, 28)), # 데이터 차원 변경\n",
    "    Dense(256, activation='relu'), # 첫번째 히든 레이어 (h1)\n",
    "    Dense(128, activation='relu'), # 두번째 히든 레이어 (h2)\n",
    "    Dropout(0.1), # 두번째 히든 레이어(h2)에 드랍아웃(10%) 적용 : 이 레이어에대해서 drop하겠다. 왜? 노드가 128개있으면 10%해당되는 것을 제거(랜덤하게) -> 과적합을 피하기위해\n",
    "    Dense(10), # 세번째 히든 레이어 (logit)\n",
    "    Activation('softmax') # softmax layer\n",
    "])\n",
    "# sequential 함수안에 리스트로 작성하면 add한것과 같다\n",
    "\n",
    "# 한줄한줄이 논문 100편 정도된다. 10년에 걸쳐서 만들어진 코드...wow"
   ]
  },
  {
   "cell_type": "code",
   "execution_count": 19,
   "metadata": {},
   "outputs": [
    {
     "name": "stdout",
     "output_type": "stream",
     "text": [
      "Model: \"sequential_1\"\n",
      "_________________________________________________________________\n",
      "Layer (type)                 Output Shape              Param #   \n",
      "=================================================================\n",
      "flatten_1 (Flatten)          (None, 784)               0         \n",
      "_________________________________________________________________\n",
      "dense_3 (Dense)              (None, 128)               100480    \n",
      "_________________________________________________________________\n",
      "dropout_1 (Dropout)          (None, 128)               0         \n",
      "_________________________________________________________________\n",
      "dense_4 (Dense)              (None, 10)                1290      \n",
      "_________________________________________________________________\n",
      "activation_1 (Activation)    (None, 10)                0         \n",
      "=================================================================\n",
      "Total params: 101,770\n",
      "Trainable params: 101,770\n",
      "Non-trainable params: 0\n",
      "_________________________________________________________________\n"
     ]
    }
   ],
   "source": [
    "model.summary()"
   ]
  },
  {
   "cell_type": "code",
   "execution_count": 20,
   "metadata": {},
   "outputs": [],
   "source": [
    "model.compile(optimizer='adam',\n",
    "              loss='sparse_categorical_crossentropy',\n",
    "              metrics=['accuracy'])"
   ]
  },
  {
   "cell_type": "code",
   "execution_count": 21,
   "metadata": {},
   "outputs": [],
   "source": [
    "# early stopping 과적합이 되기 시작하면 멈추기\n",
    "callbacks = [EarlyStopping(monitor='val_accuracy', patience=5)] #정확도가 5번이상 안나오면"
   ]
  },
  {
   "cell_type": "code",
   "execution_count": 22,
   "metadata": {
    "collapsed": true,
    "jupyter": {
     "outputs_hidden": true
    }
   },
   "outputs": [
    {
     "name": "stdout",
     "output_type": "stream",
     "text": [
      "Epoch 1/300\n",
      "54/54 [==============================] - 0s 5ms/step - loss: 0.8545 - accuracy: 0.7647 - val_loss: 0.3176 - val_accuracy: 0.9192\n",
      "Epoch 2/300\n",
      "54/54 [==============================] - 0s 3ms/step - loss: 0.3524 - accuracy: 0.9004 - val_loss: 0.2354 - val_accuracy: 0.9382\n",
      "Epoch 3/300\n",
      "54/54 [==============================] - 0s 3ms/step - loss: 0.2816 - accuracy: 0.9212 - val_loss: 0.1980 - val_accuracy: 0.9447\n",
      "Epoch 4/300\n",
      "54/54 [==============================] - 0s 3ms/step - loss: 0.2415 - accuracy: 0.9325 - val_loss: 0.1715 - val_accuracy: 0.9553\n",
      "Epoch 5/300\n",
      "54/54 [==============================] - 0s 3ms/step - loss: 0.2113 - accuracy: 0.9397 - val_loss: 0.1539 - val_accuracy: 0.9597\n",
      "Epoch 6/300\n",
      "54/54 [==============================] - 0s 3ms/step - loss: 0.1896 - accuracy: 0.9461 - val_loss: 0.1406 - val_accuracy: 0.9632\n",
      "Epoch 7/300\n",
      "54/54 [==============================] - 0s 3ms/step - loss: 0.1696 - accuracy: 0.9511 - val_loss: 0.1300 - val_accuracy: 0.9667\n",
      "Epoch 8/300\n",
      "54/54 [==============================] - 0s 3ms/step - loss: 0.1540 - accuracy: 0.9561 - val_loss: 0.1202 - val_accuracy: 0.9675\n",
      "Epoch 9/300\n",
      "54/54 [==============================] - 0s 3ms/step - loss: 0.1428 - accuracy: 0.9594 - val_loss: 0.1130 - val_accuracy: 0.9705\n",
      "Epoch 10/300\n",
      "54/54 [==============================] - 0s 3ms/step - loss: 0.1313 - accuracy: 0.9626 - val_loss: 0.1068 - val_accuracy: 0.9710\n",
      "Epoch 11/300\n",
      "54/54 [==============================] - 0s 3ms/step - loss: 0.1228 - accuracy: 0.9645 - val_loss: 0.1030 - val_accuracy: 0.9730\n",
      "Epoch 12/300\n",
      "54/54 [==============================] - 0s 3ms/step - loss: 0.1137 - accuracy: 0.9677 - val_loss: 0.0977 - val_accuracy: 0.9720\n",
      "Epoch 13/300\n",
      "54/54 [==============================] - 0s 3ms/step - loss: 0.1063 - accuracy: 0.9691 - val_loss: 0.0955 - val_accuracy: 0.9728\n",
      "Epoch 14/300\n",
      "54/54 [==============================] - 0s 3ms/step - loss: 0.0998 - accuracy: 0.9718 - val_loss: 0.0898 - val_accuracy: 0.9740\n",
      "Epoch 15/300\n",
      "54/54 [==============================] - 0s 3ms/step - loss: 0.0939 - accuracy: 0.9735 - val_loss: 0.0873 - val_accuracy: 0.9752\n",
      "Epoch 16/300\n",
      "54/54 [==============================] - 0s 3ms/step - loss: 0.0891 - accuracy: 0.9738 - val_loss: 0.0850 - val_accuracy: 0.9760\n",
      "Epoch 17/300\n",
      "54/54 [==============================] - 0s 3ms/step - loss: 0.0835 - accuracy: 0.9762 - val_loss: 0.0830 - val_accuracy: 0.9767\n",
      "Epoch 18/300\n",
      "54/54 [==============================] - 0s 3ms/step - loss: 0.0791 - accuracy: 0.9769 - val_loss: 0.0833 - val_accuracy: 0.9767\n",
      "Epoch 19/300\n",
      "54/54 [==============================] - 0s 3ms/step - loss: 0.0754 - accuracy: 0.9784 - val_loss: 0.0812 - val_accuracy: 0.9760\n",
      "Epoch 20/300\n",
      "54/54 [==============================] - 0s 3ms/step - loss: 0.0703 - accuracy: 0.9800 - val_loss: 0.0789 - val_accuracy: 0.9763\n",
      "Epoch 21/300\n",
      "54/54 [==============================] - 0s 3ms/step - loss: 0.0678 - accuracy: 0.9805 - val_loss: 0.0767 - val_accuracy: 0.9772\n",
      "Epoch 22/300\n",
      "54/54 [==============================] - 0s 3ms/step - loss: 0.0652 - accuracy: 0.9811 - val_loss: 0.0755 - val_accuracy: 0.9785\n",
      "Epoch 23/300\n",
      "54/54 [==============================] - 0s 3ms/step - loss: 0.0621 - accuracy: 0.9818 - val_loss: 0.0759 - val_accuracy: 0.9775\n",
      "Epoch 24/300\n",
      "54/54 [==============================] - 0s 3ms/step - loss: 0.0593 - accuracy: 0.9826 - val_loss: 0.0738 - val_accuracy: 0.9797\n",
      "Epoch 25/300\n",
      "54/54 [==============================] - 0s 3ms/step - loss: 0.0555 - accuracy: 0.9843 - val_loss: 0.0737 - val_accuracy: 0.9788\n",
      "Epoch 26/300\n",
      "54/54 [==============================] - 0s 3ms/step - loss: 0.0543 - accuracy: 0.9846 - val_loss: 0.0745 - val_accuracy: 0.9788\n",
      "Epoch 27/300\n",
      "54/54 [==============================] - 0s 3ms/step - loss: 0.0519 - accuracy: 0.9845 - val_loss: 0.0719 - val_accuracy: 0.9782\n",
      "Epoch 28/300\n",
      "54/54 [==============================] - 0s 3ms/step - loss: 0.0486 - accuracy: 0.9859 - val_loss: 0.0720 - val_accuracy: 0.9783\n",
      "Epoch 29/300\n",
      "54/54 [==============================] - 0s 3ms/step - loss: 0.0461 - accuracy: 0.9872 - val_loss: 0.0721 - val_accuracy: 0.9788\n"
     ]
    },
    {
     "data": {
      "text/plain": [
       "<tensorflow.python.keras.callbacks.History at 0x7fd29c9b2760>"
      ]
     },
     "execution_count": 22,
     "metadata": {},
     "output_type": "execute_result"
    }
   ],
   "source": [
    "model.fit(x_train, y_train, epochs=300, batch_size=1000, validation_split = 0.1, callbacks=callbacks)"
   ]
  },
  {
   "cell_type": "code",
   "execution_count": 23,
   "metadata": {},
   "outputs": [],
   "source": [
    "results = model.evaluate(x_test,  y_test, verbose = 0)"
   ]
  },
  {
   "cell_type": "code",
   "execution_count": 24,
   "metadata": {},
   "outputs": [
    {
     "name": "stdout",
     "output_type": "stream",
     "text": [
      "[0.07363773137331009, 0.9778000116348267]\n"
     ]
    }
   ],
   "source": [
    "print(results) #CNN 은 아니지만 딥러닝이라 성능이 괜찮게 나온것 같다. 하지만 이 이미지가 전처리가 잘되어 있는것도 있다."
   ]
  },
  {
   "cell_type": "markdown",
   "metadata": {},
   "source": [
    "# CNN을 활용"
   ]
  },
  {
   "cell_type": "code",
   "execution_count": 25,
   "metadata": {},
   "outputs": [],
   "source": [
    "from keras.datasets import mnist\n",
    "from keras.models import Sequential\n",
    "from keras.layers import Dense, Dropout, Flatten\n",
    "from keras.layers import Conv2D, MaxPooling2D\n",
    "from keras.losses import categorical_crossentropy\n",
    "from keras.optimizers import Adam\n",
    "from keras.callbacks import EarlyStopping, ModelCheckpoint"
   ]
  },
  {
   "cell_type": "code",
   "execution_count": 26,
   "metadata": {},
   "outputs": [],
   "source": [
    "(x_train, y_train), (x_test, y_test) = keras.datasets.mnist.load_data()"
   ]
  },
  {
   "cell_type": "code",
   "execution_count": 27,
   "metadata": {},
   "outputs": [
    {
     "name": "stdout",
     "output_type": "stream",
     "text": [
      "(60000, 28, 28, 1)\n",
      "(10000, 28, 28, 1)\n"
     ]
    }
   ],
   "source": [
    "import numpy as np\n",
    "x_train = np.reshape(x_train, (60000,28,28,1)) #흑백은 1, 컬러는 3\n",
    "x_test = np.reshape(x_test, (10000,28,28,1))\n",
    "\n",
    "print(x_train.shape)\n",
    "print(x_test.shape)\n",
    "#영상은 차원이 하나더 늘어난다."
   ]
  },
  {
   "cell_type": "code",
   "execution_count": 28,
   "metadata": {},
   "outputs": [],
   "source": [
    "num_classes = 10\n",
    "y_train = keras.utils.to_categorical(y_train, num_classes)\n",
    "y_test = keras.utils.to_categorical(y_test, num_classes)"
   ]
  },
  {
   "cell_type": "code",
   "execution_count": 29,
   "metadata": {},
   "outputs": [
    {
     "data": {
      "text/plain": [
       "(60000, 10)"
      ]
     },
     "execution_count": 29,
     "metadata": {},
     "output_type": "execute_result"
    }
   ],
   "source": [
    "y_train.shape"
   ]
  },
  {
   "cell_type": "code",
   "execution_count": 30,
   "metadata": {},
   "outputs": [],
   "source": [
    "model = Sequential()\n",
    "model.add(Conv2D(16, kernel_size=(5, 5),\n",
    "                 activation='relu',\n",
    "                 input_shape=(28,28,1),padding='same'))\n",
    "model.add(MaxPooling2D(pool_size=(2, 2)))\n",
    "model.add(Conv2D(32, kernel_size=(5, 5), activation='relu',padding='same'))\n",
    "model.add(MaxPooling2D(pool_size=(2, 2)))\n",
    "model.add(Flatten())\n",
    "model.add(Dense(128, activation='relu'))\n",
    "model.add(Dense(num_classes, activation='softmax'))"
   ]
  },
  {
   "cell_type": "code",
   "execution_count": 31,
   "metadata": {},
   "outputs": [
    {
     "name": "stdout",
     "output_type": "stream",
     "text": [
      "Model: \"sequential_2\"\n",
      "_________________________________________________________________\n",
      "Layer (type)                 Output Shape              Param #   \n",
      "=================================================================\n",
      "conv2d (Conv2D)              (None, 28, 28, 16)        416       \n",
      "_________________________________________________________________\n",
      "max_pooling2d (MaxPooling2D) (None, 14, 14, 16)        0         \n",
      "_________________________________________________________________\n",
      "conv2d_1 (Conv2D)            (None, 14, 14, 32)        12832     \n",
      "_________________________________________________________________\n",
      "max_pooling2d_1 (MaxPooling2 (None, 7, 7, 32)          0         \n",
      "_________________________________________________________________\n",
      "flatten_2 (Flatten)          (None, 1568)              0         \n",
      "_________________________________________________________________\n",
      "dense_5 (Dense)              (None, 128)               200832    \n",
      "_________________________________________________________________\n",
      "dense_6 (Dense)              (None, 10)                1290      \n",
      "=================================================================\n",
      "Total params: 215,370\n",
      "Trainable params: 215,370\n",
      "Non-trainable params: 0\n",
      "_________________________________________________________________\n"
     ]
    }
   ],
   "source": [
    "model.summary()"
   ]
  },
  {
   "cell_type": "code",
   "execution_count": 33,
   "metadata": {},
   "outputs": [],
   "source": [
    "model.compile(loss=categorical_crossentropy,\n",
    "             optimizer=Adam(),\n",
    "             metrics=['accuracy'])"
   ]
  },
  {
   "cell_type": "code",
   "execution_count": 34,
   "metadata": {},
   "outputs": [
    {
     "name": "stdout",
     "output_type": "stream",
     "text": [
      "Epoch 1/5\n",
      "108/108 [==============================] - 13s 123ms/step - loss: 2.8442 - accuracy: 0.7960 - val_loss: 0.1031 - val_accuracy: 0.9698\n",
      "Epoch 2/5\n",
      "108/108 [==============================] - 13s 123ms/step - loss: 0.0966 - accuracy: 0.9699 - val_loss: 0.0701 - val_accuracy: 0.9798\n",
      "Epoch 3/5\n",
      "108/108 [==============================] - 13s 124ms/step - loss: 0.0580 - accuracy: 0.9820 - val_loss: 0.0653 - val_accuracy: 0.9818\n",
      "Epoch 4/5\n",
      "108/108 [==============================] - 16s 148ms/step - loss: 0.0433 - accuracy: 0.9861 - val_loss: 0.0639 - val_accuracy: 0.9818\n",
      "Epoch 5/5\n",
      "108/108 [==============================] - 20s 183ms/step - loss: 0.0305 - accuracy: 0.9906 - val_loss: 0.0543 - val_accuracy: 0.9847\n"
     ]
    },
    {
     "data": {
      "text/plain": [
       "<tensorflow.python.keras.callbacks.History at 0x7fd29e31a700>"
      ]
     },
     "execution_count": 34,
     "metadata": {},
     "output_type": "execute_result"
    }
   ],
   "source": [
    "model.fit(x_train, y_train,\n",
    "          batch_size=500,\n",
    "          epochs=5,\n",
    "          verbose=1,\n",
    "          validation_split = 0.1, \n",
    "          callbacks=callbacks)"
   ]
  },
  {
   "cell_type": "code",
   "execution_count": 35,
   "metadata": {},
   "outputs": [
    {
     "name": "stdout",
     "output_type": "stream",
     "text": [
      "Test loss: 0.05520649999380112\n",
      "Test accuracy: 0.9830999970436096\n"
     ]
    }
   ],
   "source": [
    "score = model.evaluate(x_test, y_test, verbose=0)\n",
    "print('Test loss:', score[0])\n",
    "print('Test accuracy:', score[1])\n",
    "# 만개중에서 128개정도 틀렸다는 말.."
   ]
  },
  {
   "cell_type": "markdown",
   "metadata": {},
   "source": [
    "가족사진 가족 구성원 10장정도 -> 증식 -> 나, 엄마, 아빠, 동생 (라벨링)  \n",
    "x_train = np.reshape(x_train, (60000,28,28,1)) 28을 작게 해야 컴터가 안죽는다.. 컬러니까 1을 3으로\n"
   ]
  },
  {
   "cell_type": "code",
   "execution_count": null,
   "metadata": {},
   "outputs": [],
   "source": []
  }
 ],
 "metadata": {
  "kernelspec": {
   "display_name": "Python 3",
   "language": "python",
   "name": "python3"
  },
  "language_info": {
   "codemirror_mode": {
    "name": "ipython",
    "version": 3
   },
   "file_extension": ".py",
   "mimetype": "text/x-python",
   "name": "python",
   "nbconvert_exporter": "python",
   "pygments_lexer": "ipython3",
   "version": "3.8.3"
  }
 },
 "nbformat": 4,
 "nbformat_minor": 4
}
