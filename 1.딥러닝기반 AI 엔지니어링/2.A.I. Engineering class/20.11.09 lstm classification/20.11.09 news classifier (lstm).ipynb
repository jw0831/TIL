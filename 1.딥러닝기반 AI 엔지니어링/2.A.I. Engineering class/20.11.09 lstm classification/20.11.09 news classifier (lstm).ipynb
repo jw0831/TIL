{
 "cells": [
  {
   "cell_type": "markdown",
   "metadata": {},
   "source": []
  },
  {
   "cell_type": "markdown",
   "metadata": {},
   "source": [
    "##### http://gutenberg.org  \n",
    "- 무료 책 받는곳\n",
    "\n",
    "- http://gutenberg.org/ebooks/6130 \n",
    "- 원하는책을 찾고 utf-8로 모든 텍스트를 받을수있다."
   ]
  },
  {
   "cell_type": "code",
   "execution_count": 1,
   "metadata": {},
   "outputs": [],
   "source": [
    "import numpy as np\n",
    "import urllib.request"
   ]
  },
  {
   "cell_type": "code",
   "execution_count": 2,
   "metadata": {},
   "outputs": [],
   "source": [
    "#다운로드 받는법\n",
    "urllib.request.urlretrieve(\"http://www.gutenberg.org/files/6130/6130-0.txt\", filename=\"lliad.txt\")\n",
    "f = open('lliad.txt', 'rb')\n",
    "lines=[]\n",
    "for line in f:\n",
    "    line=line.lower() # 소문자 변환\n",
    "    line=line.decode('ascii', 'ignore') # acii코드의 범위를 벗어난 특수문자 제거\n",
    "    if len(line) > 0:\n",
    "        lines.append(line)\n",
    "f.close()"
   ]
  },
  {
   "cell_type": "code",
   "execution_count": 3,
   "metadata": {},
   "outputs": [
    {
     "data": {
      "text/plain": [
       "['the project gutenberg ebook of the iliad, by homer\\r\\n',\n",
       " '\\r\\n',\n",
       " 'this ebook is for the use of anyone anywhere in the united states and most\\r\\n',\n",
       " 'other parts of the world at no cost and with almost no restrictions\\r\\n',\n",
       " 'whatsoever.  you may copy it, give it away or re-use it under the terms of\\r\\n',\n",
       " 'the project gutenberg license included with this ebook or online at\\r\\n',\n",
       " \"www.gutenberg.org.  if you are not located in the united states, you'll have\\r\\n\",\n",
       " 'to check the laws of the country where you are located before using this ebook.\\r\\n',\n",
       " '\\r\\n',\n",
       " 'title: the iliad\\r\\n']"
      ]
     },
     "execution_count": 3,
     "metadata": {},
     "output_type": "execute_result"
    }
   ],
   "source": [
    "lines[:10]"
   ]
  },
  {
   "cell_type": "code",
   "execution_count": 5,
   "metadata": {},
   "outputs": [
    {
     "name": "stdout",
     "output_type": "stream",
     "text": [
      "1160564\n"
     ]
    }
   ],
   "source": [
    "text=\" \".join(lines)\n",
    "print(len(text))"
   ]
  },
  {
   "cell_type": "code",
   "execution_count": 9,
   "metadata": {
    "scrolled": true
   },
   "outputs": [
    {
     "data": {
      "text/plain": [
       "['\\n',\n",
       " '\\r',\n",
       " ' ',\n",
       " '!',\n",
       " '\"',\n",
       " '#',\n",
       " '$',\n",
       " '%',\n",
       " '&',\n",
       " \"'\",\n",
       " '(',\n",
       " ')',\n",
       " '*',\n",
       " ',',\n",
       " '-',\n",
       " '.',\n",
       " '/',\n",
       " '0',\n",
       " '1',\n",
       " '2',\n",
       " '3',\n",
       " '4',\n",
       " '5',\n",
       " '6',\n",
       " '7',\n",
       " '8',\n",
       " '9',\n",
       " ':',\n",
       " ';',\n",
       " '?',\n",
       " '@',\n",
       " '[',\n",
       " ']',\n",
       " '_',\n",
       " 'a',\n",
       " 'b',\n",
       " 'c',\n",
       " 'd',\n",
       " 'e',\n",
       " 'f',\n",
       " 'g',\n",
       " 'h',\n",
       " 'i',\n",
       " 'j',\n",
       " 'k',\n",
       " 'l',\n",
       " 'm',\n",
       " 'n',\n",
       " 'o',\n",
       " 'p',\n",
       " 'q',\n",
       " 'r',\n",
       " 's',\n",
       " 't',\n",
       " 'u',\n",
       " 'v',\n",
       " 'w',\n",
       " 'x',\n",
       " 'y',\n",
       " 'z']"
      ]
     },
     "execution_count": 9,
     "metadata": {},
     "output_type": "execute_result"
    }
   ],
   "source": [
    "sorted(list(set(text)))"
   ]
  },
  {
   "cell_type": "code",
   "execution_count": 10,
   "metadata": {},
   "outputs": [
    {
     "data": {
      "text/plain": [
       "60"
      ]
     },
     "execution_count": 10,
     "metadata": {},
     "output_type": "execute_result"
    }
   ],
   "source": [
    "len(sorted(list(set(text))))"
   ]
  },
  {
   "cell_type": "markdown",
   "metadata": {},
   "source": [
    "RNN -> LSTM \n",
    "- 다음 cell 층으로 갈때 기억된 값을 전달 할것인지를 관리하는 기능이 추가가 된다. (가중치)"
   ]
  },
  {
   "cell_type": "code",
   "execution_count": 14,
   "metadata": {},
   "outputs": [
    {
     "name": "stdout",
     "output_type": "stream",
     "text": [
      "Model: \"functional_5\"\n",
      "_________________________________________________________________\n",
      "Layer (type)                 Output Shape              Param #   \n",
      "=================================================================\n",
      "input_3 (InputLayer)         [(None, 5, 1)]            0         \n",
      "_________________________________________________________________\n",
      "lstm_2 (LSTM)                (None, 3)                 60        \n",
      "_________________________________________________________________\n",
      "dense_2 (Dense)              (None, 1)                 4         \n",
      "=================================================================\n",
      "Total params: 64\n",
      "Trainable params: 64\n",
      "Non-trainable params: 0\n",
      "_________________________________________________________________\n",
      "None\n"
     ]
    },
    {
     "data": {
      "text/plain": [
       "array([[0.5961892]], dtype=float32)"
      ]
     },
     "execution_count": 14,
     "metadata": {},
     "output_type": "execute_result"
    }
   ],
   "source": [
    "from keras.models import Model\n",
    "from keras.layers import Input, Dense, LSTM\n",
    "import numpy as np\n",
    "\n",
    "\n",
    "x = np.array([[[1.], [2.], [3.], [4.], [5.]]])\n",
    "y = np.array([[6.]])\n",
    "\n",
    "\n",
    "xInput = Input(batch_shape=(None, 5, 1))\n",
    "xLstm = LSTM(3)(xInput) #3 차원으로 출력\n",
    "xOutput = Dense(1)(xLstm) #최종적으로 1개가 출력됨\n",
    "\n",
    "\n",
    "model = Model(xInput, xOutput)\n",
    "model.compile(loss='mean_squared_error', optimizer='adam')\n",
    "\n",
    "print(model.summary())\n",
    "\n",
    "\n",
    "model.fit(x, y, epochs=50, batch_size=1, verbose=0)\n",
    "model.predict(x, batch_size=1)\n"
   ]
  },
  {
   "cell_type": "code",
   "execution_count": 12,
   "metadata": {},
   "outputs": [
    {
     "data": {
      "text/plain": [
       "(1, 5, 1)"
      ]
     },
     "execution_count": 12,
     "metadata": {},
     "output_type": "execute_result"
    }
   ],
   "source": [
    "x.shape # input_shape : (1, 5, 1)\n",
    "# (데이터(샘플)개서, 시간차원(time step size), LSTM셀에 입력되는 데이터의 feature 개수)\n",
    "# (None, 5, 1) : None인 이유 -> 지금은 한건이지만 내일은 추가 된다. 추가 될때 마다 1을 2,3으로 바꿀 필요가 없다.\n",
    "# None으로 주면 알아서 채워넣는다."
   ]
  },
  {
   "cell_type": "markdown",
   "metadata": {},
   "source": [
    "# 뉴스 분류기\n",
    "- reuters 통신사 뉴스기사 만개가 넘고 40개가 넘는 카테고리가 있다."
   ]
  },
  {
   "cell_type": "code",
   "execution_count": 55,
   "metadata": {},
   "outputs": [],
   "source": [
    "from keras.datasets import reuters\n",
    "(xTrain,yTrain), (xTest, yTest)=reuters.load_data(num_words=1000, test_split=0.2) #가장 많이 언급된 단어 1000개를 뽑아라 / 자동으로 테스트데이터가 20퍼센트 나머지 80퍼센트 트레이닝으로 나누어 준다."
   ]
  },
  {
   "cell_type": "code",
   "execution_count": 56,
   "metadata": {},
   "outputs": [
    {
     "name": "stdout",
     "output_type": "stream",
     "text": [
      "[1, 2, 2, 8, 43, 10, 447, 5, 25, 207, 270, 5, 2, 111, 16, 369, 186, 90, 67, 7, 89, 5, 19, 102, 6, 19, 124, 15, 90, 67, 84, 22, 482, 26, 7, 48, 4, 49, 8, 864, 39, 209, 154, 6, 151, 6, 83, 11, 15, 22, 155, 11, 15, 7, 48, 9, 2, 2, 504, 6, 258, 6, 272, 11, 15, 22, 134, 44, 11, 15, 16, 8, 197, 2, 90, 67, 52, 29, 209, 30, 32, 132, 6, 109, 15, 17, 12]\n"
     ]
    }
   ],
   "source": [
    "xTrain #특정단어\n",
    "print(xTrain[0]) #첫번째 로이터 통신사 뉴스 데이터"
   ]
  },
  {
   "cell_type": "code",
   "execution_count": 57,
   "metadata": {},
   "outputs": [
    {
     "data": {
      "text/plain": [
       "array([ 3,  4,  3, ..., 25,  3, 25])"
      ]
     },
     "execution_count": 57,
     "metadata": {},
     "output_type": "execute_result"
    }
   ],
   "source": [
    "yTrain #xTrain에 대한 뉴스 카테고리"
   ]
  },
  {
   "cell_type": "code",
   "execution_count": 58,
   "metadata": {},
   "outputs": [],
   "source": [
    "import numpy as np"
   ]
  },
  {
   "cell_type": "code",
   "execution_count": 59,
   "metadata": {},
   "outputs": [
    {
     "data": {
      "text/plain": [
       "(0, 45)"
      ]
     },
     "execution_count": 59,
     "metadata": {},
     "output_type": "execute_result"
    }
   ],
   "source": [
    "np.min(yTrain), np.max(yTrain) #뉴스 카테고리가 0~45 = 46개의 카테고리가 있다."
   ]
  },
  {
   "cell_type": "code",
   "execution_count": 60,
   "metadata": {},
   "outputs": [
    {
     "data": {
      "text/plain": [
       "46"
      ]
     },
     "execution_count": 60,
     "metadata": {},
     "output_type": "execute_result"
    }
   ],
   "source": [
    "category=np.max(yTrain)+1\n",
    "category"
   ]
  },
  {
   "cell_type": "code",
   "execution_count": 61,
   "metadata": {},
   "outputs": [
    {
     "data": {
      "text/plain": [
       "2246"
      ]
     },
     "execution_count": 61,
     "metadata": {},
     "output_type": "execute_result"
    }
   ],
   "source": [
    "len(xTrain) #8982개 뉴스기사 (학습)\n",
    "len(xTest) #2246개 뉴스기사 (테스트)"
   ]
  },
  {
   "cell_type": "code",
   "execution_count": 62,
   "metadata": {},
   "outputs": [
    {
     "data": {
      "text/plain": [
       "105"
      ]
     },
     "execution_count": 62,
     "metadata": {},
     "output_type": "execute_result"
    }
   ],
   "source": [
    "len(xTrain[8981])"
   ]
  },
  {
   "cell_type": "code",
   "execution_count": 63,
   "metadata": {},
   "outputs": [],
   "source": [
    "from keras.preprocessing import sequence"
   ]
  },
  {
   "cell_type": "code",
   "execution_count": 64,
   "metadata": {},
   "outputs": [],
   "source": [
    "xTrain=sequence.pad_sequences(xTrain, maxlen=100) #단어 개수가 100이 넘어가면 넘는 단어들은 잘린다.\n",
    "xTest=sequence.pad_sequences(xTest, maxlen=100)"
   ]
  },
  {
   "cell_type": "code",
   "execution_count": 65,
   "metadata": {},
   "outputs": [
    {
     "data": {
      "text/plain": [
       "array([  0,   0,   0,   0,   0,   0,   0,   0,   0,   0,   0,   0,   0,\n",
       "         1,   2,   2,   8,  43,  10, 447,   5,  25, 207, 270,   5,   2,\n",
       "       111,  16, 369, 186,  90,  67,   7,  89,   5,  19, 102,   6,  19,\n",
       "       124,  15,  90,  67,  84,  22, 482,  26,   7,  48,   4,  49,   8,\n",
       "       864,  39, 209, 154,   6, 151,   6,  83,  11,  15,  22, 155,  11,\n",
       "        15,   7,  48,   9,   2,   2, 504,   6, 258,   6, 272,  11,  15,\n",
       "        22, 134,  44,  11,  15,  16,   8, 197,   2,  90,  67,  52,  29,\n",
       "       209,  30,  32, 132,   6, 109,  15,  17,  12], dtype=int32)"
      ]
     },
     "execution_count": 65,
     "metadata": {},
     "output_type": "execute_result"
    }
   ],
   "source": [
    "xTrain[0]"
   ]
  },
  {
   "cell_type": "code",
   "execution_count": 66,
   "metadata": {},
   "outputs": [],
   "source": [
    "from keras.utils import to_categorical"
   ]
  },
  {
   "cell_type": "code",
   "execution_count": 67,
   "metadata": {},
   "outputs": [],
   "source": [
    "yTrain=to_categorical(yTrain) #어떤 카테고리에 속하는지 원핫인코딩 (꼭 해야한다.) 범주형으로 만들어 주어야한다. 그렇지 않으면 0+1=>????\n",
    "yTest= to_categorical(yTest)"
   ]
  },
  {
   "cell_type": "code",
   "execution_count": 68,
   "metadata": {
    "scrolled": true
   },
   "outputs": [
    {
     "data": {
      "text/plain": [
       "(array([[0., 0., 0., ..., 0., 0., 0.],\n",
       "        [0., 0., 0., ..., 0., 0., 0.],\n",
       "        [0., 0., 0., ..., 0., 0., 0.],\n",
       "        ...,\n",
       "        [0., 0., 0., ..., 0., 0., 0.],\n",
       "        [0., 0., 0., ..., 0., 0., 0.],\n",
       "        [0., 0., 0., ..., 0., 0., 0.]], dtype=float32),\n",
       " array([[0., 0., 0., ..., 0., 0., 0.],\n",
       "        [0., 0., 0., ..., 0., 0., 0.],\n",
       "        [0., 1., 0., ..., 0., 0., 0.],\n",
       "        ...,\n",
       "        [0., 0., 0., ..., 0., 0., 0.],\n",
       "        [0., 0., 0., ..., 0., 0., 0.],\n",
       "        [0., 0., 0., ..., 0., 0., 0.]], dtype=float32))"
      ]
     },
     "execution_count": 68,
     "metadata": {},
     "output_type": "execute_result"
    }
   ],
   "source": [
    "yTrain, yTest"
   ]
  },
  {
   "cell_type": "code",
   "execution_count": 69,
   "metadata": {},
   "outputs": [],
   "source": [
    "from keras.layers import Embedding, LSTM, Dense\n",
    "from keras.models import *\n",
    "from keras.callbacks import *\n",
    "from datetime import datetime\n",
    "from sklearn.preprocessing import MinMaxScaler"
   ]
  },
  {
   "cell_type": "code",
   "execution_count": 70,
   "metadata": {},
   "outputs": [
    {
     "name": "stdout",
     "output_type": "stream",
     "text": [
      "Model: \"sequential_4\"\n",
      "_________________________________________________________________\n",
      "Layer (type)                 Output Shape              Param #   \n",
      "=================================================================\n",
      "embedding_5 (Embedding)      (None, None, 100)         100000    \n",
      "_________________________________________________________________\n",
      "lstm_7 (LSTM)                (None, 100)               80400     \n",
      "_________________________________________________________________\n",
      "dense_6 (Dense)              (None, 46)                4646      \n",
      "=================================================================\n",
      "Total params: 185,046\n",
      "Trainable params: 185,046\n",
      "Non-trainable params: 0\n",
      "_________________________________________________________________\n"
     ]
    }
   ],
   "source": [
    "model=Sequential()\n",
    "model.add(Embedding(1000, 100)) #[001000000...00000] => [0.2, 0.5, -0.1...0.7]\n",
    "#Embedding(불로온 단어의 총 개수, 축소된 차원)\n",
    "model.add(LSTM(100, activation='tanh'))\n",
    "model.add(Dense(46, activation='softmax'))\n",
    "model.summary()"
   ]
  },
  {
   "cell_type": "code",
   "execution_count": 71,
   "metadata": {},
   "outputs": [],
   "source": [
    "model.compile(loss=\"categorical_crossentropy\",\n",
    "             optimizer='adam', metrics=['accuracy'])"
   ]
  },
  {
   "cell_type": "code",
   "execution_count": 72,
   "metadata": {},
   "outputs": [
    {
     "name": "stdout",
     "output_type": "stream",
     "text": [
      "Epoch 1/30\n",
      "90/90 [==============================] - 9s 103ms/step - loss: 2.6131 - accuracy: 0.3407 - val_loss: 2.3985 - val_accuracy: 0.3620\n",
      "Epoch 2/30\n",
      "90/90 [==============================] - 9s 100ms/step - loss: 2.1628 - accuracy: 0.4537 - val_loss: 2.0254 - val_accuracy: 0.5067\n",
      "Epoch 3/30\n",
      "90/90 [==============================] - 9s 100ms/step - loss: 2.0530 - accuracy: 0.4874 - val_loss: 1.8820 - val_accuracy: 0.5080\n",
      "Epoch 4/30\n",
      "90/90 [==============================] - 9s 100ms/step - loss: 1.7864 - accuracy: 0.5395 - val_loss: 1.7382 - val_accuracy: 0.5512\n",
      "Epoch 5/30\n",
      "90/90 [==============================] - 9s 100ms/step - loss: 1.6943 - accuracy: 0.5603 - val_loss: 1.7912 - val_accuracy: 0.5267\n",
      "Epoch 6/30\n",
      "90/90 [==============================] - 9s 100ms/step - loss: 1.6255 - accuracy: 0.5752 - val_loss: 1.6647 - val_accuracy: 0.5761\n",
      "Epoch 7/30\n",
      "90/90 [==============================] - 9s 101ms/step - loss: 1.5502 - accuracy: 0.5911 - val_loss: 1.5827 - val_accuracy: 0.5944\n",
      "Epoch 8/30\n",
      "90/90 [==============================] - 9s 101ms/step - loss: 1.5055 - accuracy: 0.6089 - val_loss: 1.5556 - val_accuracy: 0.6028\n",
      "Epoch 9/30\n",
      "90/90 [==============================] - 9s 101ms/step - loss: 1.4166 - accuracy: 0.6386 - val_loss: 1.4910 - val_accuracy: 0.6273\n",
      "Epoch 10/30\n",
      "90/90 [==============================] - 9s 101ms/step - loss: 1.3003 - accuracy: 0.6721 - val_loss: 1.4108 - val_accuracy: 0.6487\n",
      "Epoch 11/30\n",
      "90/90 [==============================] - 9s 101ms/step - loss: 1.2251 - accuracy: 0.6890 - val_loss: 1.3522 - val_accuracy: 0.6576\n",
      "Epoch 12/30\n",
      "90/90 [==============================] - 9s 104ms/step - loss: 1.1538 - accuracy: 0.7036 - val_loss: 1.3275 - val_accuracy: 0.6683\n",
      "Epoch 13/30\n",
      "90/90 [==============================] - 9s 102ms/step - loss: 1.0954 - accuracy: 0.7241 - val_loss: 1.3024 - val_accuracy: 0.6839\n",
      "Epoch 14/30\n",
      "90/90 [==============================] - 9s 101ms/step - loss: 1.0506 - accuracy: 0.7365 - val_loss: 1.2535 - val_accuracy: 0.6923\n",
      "Epoch 15/30\n",
      "90/90 [==============================] - 9s 104ms/step - loss: 0.9899 - accuracy: 0.7535 - val_loss: 1.2321 - val_accuracy: 0.6977\n",
      "Epoch 16/30\n",
      "90/90 [==============================] - 9s 105ms/step - loss: 0.9353 - accuracy: 0.7686 - val_loss: 1.2172 - val_accuracy: 0.7066\n",
      "Epoch 17/30\n",
      "90/90 [==============================] - 9s 103ms/step - loss: 0.9068 - accuracy: 0.7754 - val_loss: 1.2318 - val_accuracy: 0.7048\n",
      "Epoch 18/30\n",
      "90/90 [==============================] - 9s 103ms/step - loss: 0.8712 - accuracy: 0.7803 - val_loss: 1.2136 - val_accuracy: 0.7119\n",
      "Epoch 19/30\n",
      "90/90 [==============================] - 9s 103ms/step - loss: 0.8331 - accuracy: 0.7880 - val_loss: 1.1648 - val_accuracy: 0.7191\n",
      "Epoch 20/30\n",
      "90/90 [==============================] - 10s 106ms/step - loss: 0.7935 - accuracy: 0.8010 - val_loss: 1.1874 - val_accuracy: 0.7182\n",
      "Epoch 21/30\n",
      "90/90 [==============================] - 9s 105ms/step - loss: 0.7551 - accuracy: 0.8131 - val_loss: 1.2074 - val_accuracy: 0.7168\n",
      "Epoch 22/30\n",
      "90/90 [==============================] - 9s 103ms/step - loss: 0.7441 - accuracy: 0.8171 - val_loss: 1.1938 - val_accuracy: 0.7182\n",
      "Epoch 23/30\n",
      "90/90 [==============================] - 9s 101ms/step - loss: 0.7171 - accuracy: 0.8182 - val_loss: 1.2090 - val_accuracy: 0.7142\n",
      "Epoch 24/30\n",
      "90/90 [==============================] - 9s 102ms/step - loss: 0.6826 - accuracy: 0.8291 - val_loss: 1.2286 - val_accuracy: 0.7235\n",
      "Epoch 25/30\n",
      "90/90 [==============================] - 9s 102ms/step - loss: 0.6467 - accuracy: 0.8388 - val_loss: 1.2382 - val_accuracy: 0.7168\n",
      "Epoch 26/30\n",
      "90/90 [==============================] - 9s 100ms/step - loss: 0.6220 - accuracy: 0.8471 - val_loss: 1.2643 - val_accuracy: 0.7061\n",
      "Epoch 27/30\n",
      "90/90 [==============================] - 9s 104ms/step - loss: 0.6039 - accuracy: 0.8489 - val_loss: 1.2816 - val_accuracy: 0.7164\n",
      "Epoch 28/30\n",
      "90/90 [==============================] - 9s 103ms/step - loss: 0.5771 - accuracy: 0.8567 - val_loss: 1.2750 - val_accuracy: 0.7119\n",
      "Epoch 29/30\n",
      "90/90 [==============================] - 10s 106ms/step - loss: 0.5676 - accuracy: 0.8583 - val_loss: 1.3070 - val_accuracy: 0.7128\n",
      "Epoch 30/30\n",
      "90/90 [==============================] - 10s 114ms/step - loss: 0.5320 - accuracy: 0.8701 - val_loss: 1.2857 - val_accuracy: 0.7124\n"
     ]
    }
   ],
   "source": [
    "history=model.fit(xTrain, yTrain, batch_size=100, epochs=30, validation_data=(xTest, yTest))"
   ]
  },
  {
   "cell_type": "code",
   "execution_count": null,
   "metadata": {},
   "outputs": [],
   "source": [
    "model.predict_classes(xTest)"
   ]
  },
  {
   "cell_type": "code",
   "execution_count": null,
   "metadata": {},
   "outputs": [],
   "source": [
    "np.argmax(yTest[2])"
   ]
  },
  {
   "cell_type": "code",
   "execution_count": null,
   "metadata": {},
   "outputs": [],
   "source": [
    "model.save(\"reuters_model.h5\")"
   ]
  },
  {
   "cell_type": "code",
   "execution_count": 54,
   "metadata": {},
   "outputs": [],
   "source": [
    "from keras.models import load_model"
   ]
  },
  {
   "cell_type": "code",
   "execution_count": null,
   "metadata": {},
   "outputs": [],
   "source": [
    "rmodel=load_model(\"reuters_model.h5\")"
   ]
  },
  {
   "cell_type": "code",
   "execution_count": null,
   "metadata": {},
   "outputs": [],
   "source": []
  },
  {
   "cell_type": "code",
   "execution_count": null,
   "metadata": {},
   "outputs": [],
   "source": []
  },
  {
   "cell_type": "code",
   "execution_count": null,
   "metadata": {},
   "outputs": [],
   "source": []
  }
 ],
 "metadata": {
  "kernelspec": {
   "display_name": "Python 3",
   "language": "python",
   "name": "python3"
  },
  "language_info": {
   "codemirror_mode": {
    "name": "ipython",
    "version": 3
   },
   "file_extension": ".py",
   "mimetype": "text/x-python",
   "name": "python",
   "nbconvert_exporter": "python",
   "pygments_lexer": "ipython3",
   "version": "3.8.3"
  }
 },
 "nbformat": 4,
 "nbformat_minor": 4
}
