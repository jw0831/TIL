{
 "cells": [
  {
   "cell_type": "code",
   "execution_count": 1,
   "metadata": {},
   "outputs": [],
   "source": [
    "import numpy as np\n",
    "import pandas as pd\n"
   ]
  },
  {
   "cell_type": "raw",
   "metadata": {},
   "source": [
    "1. 다음과 같은 배열을 만들어라\n",
    "array([[  0.,   0.,   0.,   1.,   1.],\n",
    "       [  0.,   0.,   0.,   1.,   1.],\n",
    "       [  0.,   0.,   0.,   1.,   1.],\n",
    "       [ 10.,  20.,  30.,  40.,  50.],\n",
    "       [ 60.,  70.,  80.,  90., 100.],\n",
    "       [110., 120., 130., 140., 150.],\n",
    "       [  0.,   0.,   0.,   1.,   1.],\n",
    "       [  0.,   0.,   0.,   1.,   1.],\n",
    "       [  0.,   0.,   0.,   1.,   1.],\n",
    "       [ 10.,  20.,  30.,  40.,  50.],\n",
    "       [ 60.,  70.,  80.,  90., 100.],\n",
    "       [110., 120., 130., 140., 150.]])"
   ]
  },
  {
   "cell_type": "code",
   "execution_count": 27,
   "metadata": {},
   "outputs": [],
   "source": [
    "a0=np.zeros((3,3))\n",
    "a1=np.ones((3,2))\n",
    "a=np.array([(i+1)*10 for i in range(15)]).reshape(3,5)"
   ]
  },
  {
   "cell_type": "code",
   "execution_count": 36,
   "metadata": {},
   "outputs": [
    {
     "data": {
      "text/plain": [
       "array([[  0.,   0.,   0.,   1.,   1.],\n",
       "       [  0.,   0.,   0.,   1.,   1.],\n",
       "       [  0.,   0.,   0.,   1.,   1.],\n",
       "       [ 10.,  20.,  30.,  40.,  50.],\n",
       "       [ 60.,  70.,  80.,  90., 100.],\n",
       "       [110., 120., 130., 140., 150.],\n",
       "       [  0.,   0.,   0.,   1.,   1.],\n",
       "       [  0.,   0.,   0.,   1.,   1.],\n",
       "       [  0.,   0.,   0.,   1.,   1.],\n",
       "       [ 10.,  20.,  30.,  40.,  50.],\n",
       "       [ 60.,  70.,  80.,  90., 100.],\n",
       "       [110., 120., 130., 140., 150.]])"
      ]
     },
     "execution_count": 36,
     "metadata": {},
     "output_type": "execute_result"
    }
   ],
   "source": [
    "h=np.hstack([a0,a1])\n",
    "v=np.vstack([h,a])\n",
    "np.tile(v, (2,1))"
   ]
  },
  {
   "cell_type": "raw",
   "metadata": {},
   "source": [
    "2. 다중 인덱스 참조 연습\n",
    "Cidx1\tA\t              B\n",
    "Cidx2\tC1\tC2\tC1\tC2\n",
    "0\t1.76\t0.40\t0.98\t2.24\n",
    "1\t1.87\t-0.98\t0.95\t-0.15\n",
    "2\t-0.10\t0.41\t0.14\t1.45\n",
    "3\t0.76\t0.12\t0.44\t0.33\n",
    "4\t1.49\t-0.21\t0.31\t-0.85\n",
    "\n",
    "- 위와 같은 구조의 데이터프레임을 제작하시오.\n",
    "- B, C1 참조하시오.\n",
    "- 0번 행,  B,C1  값을 참조하시오.\n",
    "- 0번행 B, C1 값을 100으로 변경하시오\n",
    "\n",
    " \n",
    "데이터프레임이 다중 인덱스를 가지는 경우에는 인덱스가 하나의 라벨이나 숫자가 아니라 ()로 둘러싸인 튜플이 되어야 한다. 예를 들어 앞에서 만든 df3 데이터프레임의 경우 다음과 같이 인덱싱할 수 있다."
   ]
  },
  {
   "cell_type": "code",
   "execution_count": 41,
   "metadata": {},
   "outputs": [],
   "source": [
    "df=pd.DataFrame(np.random.randn(5,4),\n",
    "                columns=[['A','A','B','B'],\n",
    "                         ['C1','C2','C1','C2']])\n",
    "df.columns.names=['Cidx1','Cidx2']"
   ]
  },
  {
   "cell_type": "code",
   "execution_count": 42,
   "metadata": {},
   "outputs": [
    {
     "data": {
      "text/html": [
       "<div>\n",
       "<style scoped>\n",
       "    .dataframe tbody tr th:only-of-type {\n",
       "        vertical-align: middle;\n",
       "    }\n",
       "\n",
       "    .dataframe tbody tr th {\n",
       "        vertical-align: top;\n",
       "    }\n",
       "\n",
       "    .dataframe thead tr th {\n",
       "        text-align: left;\n",
       "    }\n",
       "</style>\n",
       "<table border=\"1\" class=\"dataframe\">\n",
       "  <thead>\n",
       "    <tr>\n",
       "      <th>Cidx1</th>\n",
       "      <th colspan=\"2\" halign=\"left\">A</th>\n",
       "      <th colspan=\"2\" halign=\"left\">B</th>\n",
       "    </tr>\n",
       "    <tr>\n",
       "      <th>Cidx2</th>\n",
       "      <th>C1</th>\n",
       "      <th>C2</th>\n",
       "      <th>C1</th>\n",
       "      <th>C2</th>\n",
       "    </tr>\n",
       "  </thead>\n",
       "  <tbody>\n",
       "    <tr>\n",
       "      <th>0</th>\n",
       "      <td>-1.180398</td>\n",
       "      <td>1.056912</td>\n",
       "      <td>-1.334402</td>\n",
       "      <td>-0.735832</td>\n",
       "    </tr>\n",
       "    <tr>\n",
       "      <th>1</th>\n",
       "      <td>2.697813</td>\n",
       "      <td>0.592829</td>\n",
       "      <td>-0.781183</td>\n",
       "      <td>0.430857</td>\n",
       "    </tr>\n",
       "    <tr>\n",
       "      <th>2</th>\n",
       "      <td>-0.594857</td>\n",
       "      <td>1.132704</td>\n",
       "      <td>-1.123881</td>\n",
       "      <td>-1.505817</td>\n",
       "    </tr>\n",
       "    <tr>\n",
       "      <th>3</th>\n",
       "      <td>-1.981741</td>\n",
       "      <td>-0.658050</td>\n",
       "      <td>0.254796</td>\n",
       "      <td>-0.407232</td>\n",
       "    </tr>\n",
       "    <tr>\n",
       "      <th>4</th>\n",
       "      <td>-0.042336</td>\n",
       "      <td>-2.579532</td>\n",
       "      <td>-0.444807</td>\n",
       "      <td>-2.648530</td>\n",
       "    </tr>\n",
       "  </tbody>\n",
       "</table>\n",
       "</div>"
      ],
      "text/plain": [
       "Cidx1         A                   B          \n",
       "Cidx2        C1        C2        C1        C2\n",
       "0     -1.180398  1.056912 -1.334402 -0.735832\n",
       "1      2.697813  0.592829 -0.781183  0.430857\n",
       "2     -0.594857  1.132704 -1.123881 -1.505817\n",
       "3     -1.981741 -0.658050  0.254796 -0.407232\n",
       "4     -0.042336 -2.579532 -0.444807 -2.648530"
      ]
     },
     "execution_count": 42,
     "metadata": {},
     "output_type": "execute_result"
    }
   ],
   "source": [
    "df"
   ]
  },
  {
   "cell_type": "code",
   "execution_count": 46,
   "metadata": {},
   "outputs": [
    {
     "name": "stderr",
     "output_type": "stream",
     "text": [
      "/Users/jinwon-kim/Developer/anaconda3/lib/python3.8/site-packages/IPython/core/interactiveshell.py:3343: SettingWithCopyWarning: \n",
      "A value is trying to be set on a copy of a slice from a DataFrame\n",
      "\n",
      "See the caveats in the documentation: https://pandas.pydata.org/pandas-docs/stable/user_guide/indexing.html#returning-a-view-versus-a-copy\n",
      "  exec(code_obj, self.user_global_ns, self.user_ns)\n"
     ]
    }
   ],
   "source": [
    "# 0번 행,  B,C1  값을 참조하시오.\n",
    "df['B']['C1'][0]\n",
    "# 0번행 B, C1 값을 100으로 변경하시오\n",
    "df['B']['C1'][0] = 100"
   ]
  },
  {
   "cell_type": "code",
   "execution_count": 47,
   "metadata": {},
   "outputs": [
    {
     "data": {
      "text/html": [
       "<div>\n",
       "<style scoped>\n",
       "    .dataframe tbody tr th:only-of-type {\n",
       "        vertical-align: middle;\n",
       "    }\n",
       "\n",
       "    .dataframe tbody tr th {\n",
       "        vertical-align: top;\n",
       "    }\n",
       "\n",
       "    .dataframe thead tr th {\n",
       "        text-align: left;\n",
       "    }\n",
       "</style>\n",
       "<table border=\"1\" class=\"dataframe\">\n",
       "  <thead>\n",
       "    <tr>\n",
       "      <th>Cidx1</th>\n",
       "      <th colspan=\"2\" halign=\"left\">A</th>\n",
       "      <th colspan=\"2\" halign=\"left\">B</th>\n",
       "    </tr>\n",
       "    <tr>\n",
       "      <th>Cidx2</th>\n",
       "      <th>C1</th>\n",
       "      <th>C2</th>\n",
       "      <th>C1</th>\n",
       "      <th>C2</th>\n",
       "    </tr>\n",
       "  </thead>\n",
       "  <tbody>\n",
       "    <tr>\n",
       "      <th>0</th>\n",
       "      <td>-1.180398</td>\n",
       "      <td>1.056912</td>\n",
       "      <td>100.000000</td>\n",
       "      <td>-0.735832</td>\n",
       "    </tr>\n",
       "    <tr>\n",
       "      <th>1</th>\n",
       "      <td>2.697813</td>\n",
       "      <td>0.592829</td>\n",
       "      <td>-0.781183</td>\n",
       "      <td>0.430857</td>\n",
       "    </tr>\n",
       "    <tr>\n",
       "      <th>2</th>\n",
       "      <td>-0.594857</td>\n",
       "      <td>1.132704</td>\n",
       "      <td>-1.123881</td>\n",
       "      <td>-1.505817</td>\n",
       "    </tr>\n",
       "    <tr>\n",
       "      <th>3</th>\n",
       "      <td>-1.981741</td>\n",
       "      <td>-0.658050</td>\n",
       "      <td>0.254796</td>\n",
       "      <td>-0.407232</td>\n",
       "    </tr>\n",
       "    <tr>\n",
       "      <th>4</th>\n",
       "      <td>-0.042336</td>\n",
       "      <td>-2.579532</td>\n",
       "      <td>-0.444807</td>\n",
       "      <td>-2.648530</td>\n",
       "    </tr>\n",
       "  </tbody>\n",
       "</table>\n",
       "</div>"
      ],
      "text/plain": [
       "Cidx1         A                     B          \n",
       "Cidx2        C1        C2          C1        C2\n",
       "0     -1.180398  1.056912  100.000000 -0.735832\n",
       "1      2.697813  0.592829   -0.781183  0.430857\n",
       "2     -0.594857  1.132704   -1.123881 -1.505817\n",
       "3     -1.981741 -0.658050    0.254796 -0.407232\n",
       "4     -0.042336 -2.579532   -0.444807 -2.648530"
      ]
     },
     "execution_count": 47,
     "metadata": {},
     "output_type": "execute_result"
    }
   ],
   "source": [
    "df"
   ]
  },
  {
   "cell_type": "raw",
   "metadata": {},
   "source": [
    "3. 연관규칙 연습 데이터셋\n",
    "\n",
    "dataset =\n",
    "1         계란, 우유\n",
    "2         계란, 기저귀, 맥주, 사과\n",
    "3         우유, 기저귀, 맥주, 콜라\n",
    "4         계란, 우유, 맥주, 기저귀 \n",
    "5         계란, 우유, 맥주, 콜라\n",
    "위 데이터를 저장하고, \n",
    "\n",
    "X={계란, 맥주}, Y={기저귀} 인 경우에 대해\n",
    "1) 지지도 계산\n",
    "\n",
    "2) 신뢰도 계산\n",
    "\n",
    "3) 향상도 계산"
   ]
  },
  {
   "cell_type": "code",
   "execution_count": 56,
   "metadata": {},
   "outputs": [
    {
     "data": {
      "text/html": [
       "<div>\n",
       "<style scoped>\n",
       "    .dataframe tbody tr th:only-of-type {\n",
       "        vertical-align: middle;\n",
       "    }\n",
       "\n",
       "    .dataframe tbody tr th {\n",
       "        vertical-align: top;\n",
       "    }\n",
       "\n",
       "    .dataframe thead th {\n",
       "        text-align: right;\n",
       "    }\n",
       "</style>\n",
       "<table border=\"1\" class=\"dataframe\">\n",
       "  <thead>\n",
       "    <tr style=\"text-align: right;\">\n",
       "      <th></th>\n",
       "      <th>0</th>\n",
       "      <th>1</th>\n",
       "      <th>2</th>\n",
       "      <th>3</th>\n",
       "    </tr>\n",
       "  </thead>\n",
       "  <tbody>\n",
       "    <tr>\n",
       "      <th>1</th>\n",
       "      <td>계란</td>\n",
       "      <td>우유</td>\n",
       "      <td>NaN</td>\n",
       "      <td>NaN</td>\n",
       "    </tr>\n",
       "    <tr>\n",
       "      <th>2</th>\n",
       "      <td>계란</td>\n",
       "      <td>기저귀</td>\n",
       "      <td>맥주</td>\n",
       "      <td>사과</td>\n",
       "    </tr>\n",
       "    <tr>\n",
       "      <th>3</th>\n",
       "      <td>우유</td>\n",
       "      <td>기저귀</td>\n",
       "      <td>맥주</td>\n",
       "      <td>콜라</td>\n",
       "    </tr>\n",
       "    <tr>\n",
       "      <th>4</th>\n",
       "      <td>계란</td>\n",
       "      <td>우유</td>\n",
       "      <td>맥주</td>\n",
       "      <td>기저귀</td>\n",
       "    </tr>\n",
       "    <tr>\n",
       "      <th>5</th>\n",
       "      <td>계란</td>\n",
       "      <td>우유</td>\n",
       "      <td>맥주</td>\n",
       "      <td>콜라</td>\n",
       "    </tr>\n",
       "  </tbody>\n",
       "</table>\n",
       "</div>"
      ],
      "text/plain": [
       "    0    1    2    3\n",
       "1  계란   우유  NaN  NaN\n",
       "2  계란  기저귀   맥주   사과\n",
       "3  우유  기저귀   맥주   콜라\n",
       "4  계란   우유   맥주  기저귀\n",
       "5  계란   우유   맥주   콜라"
      ]
     },
     "execution_count": 56,
     "metadata": {},
     "output_type": "execute_result"
    }
   ],
   "source": [
    "df_like=pd.DataFrame({'1': ['계란', '우유', np.nan, np.nan],\n",
    "                     '2': ['계란','기저귀','맥주','사과'],\n",
    "                     '3': ['우유','기저귀','맥주','콜라'],\n",
    "                     '4': ['계란','우유','맥주','기저귀'],\n",
    "                     '5': ['계란','우유','맥주','콜라']}).T\n",
    "df_like"
   ]
  },
  {
   "cell_type": "code",
   "execution_count": 115,
   "metadata": {},
   "outputs": [
    {
     "data": {
      "text/plain": [
       "True"
      ]
     },
     "execution_count": 115,
     "metadata": {},
     "output_type": "execute_result"
    }
   ],
   "source": [
    "a={'계란', '기저귀', '콜라', '맥주'}\n",
    "s=X.union(Y)\n",
    "s.intersection(a) == s"
   ]
  },
  {
   "cell_type": "code",
   "execution_count": 116,
   "metadata": {},
   "outputs": [
    {
     "name": "stdout",
     "output_type": "stream",
     "text": [
      "1\n",
      "2\n"
     ]
    }
   ],
   "source": [
    "# df_set=\n",
    "counter = 0\n",
    "s=X.union(Y) #{'계란', '기저귀', '맥주'}\n",
    "for i in np.array(df_like):\n",
    "    if s.intersection(set(i)) == s:\n",
    "        counter+=1\n",
    "        print(counter)\n"
   ]
  },
  {
   "cell_type": "code",
   "execution_count": 105,
   "metadata": {},
   "outputs": [
    {
     "data": {
      "text/plain": [
       "({'계란', '맥주'}, {'기저귀'})"
      ]
     },
     "execution_count": 105,
     "metadata": {},
     "output_type": "execute_result"
    }
   ],
   "source": [
    "X={'계란', '맥주'}\n",
    "Y={'기저귀'}\n",
    "X, Y"
   ]
  },
  {
   "cell_type": "code",
   "execution_count": 143,
   "metadata": {},
   "outputs": [
    {
     "name": "stdout",
     "output_type": "stream",
     "text": [
      "0.4\n"
     ]
    }
   ],
   "source": [
    "def support(X, Y):\n",
    "    counter =0\n",
    "    s=X.union(Y) #{'계란', '기저귀', '맥주'}\n",
    "    for i in np.array(df_like):\n",
    "        if s.intersection(set(i)) == s:\n",
    "            counter+=1\n",
    "    s_numerator=counter\n",
    "    s_denominator=len(df_like) # 5\n",
    "    return s_numerator/s_denominator\n",
    "support(X,Y)\n",
    "print(s)"
   ]
  },
  {
   "cell_type": "code",
   "execution_count": 144,
   "metadata": {},
   "outputs": [
    {
     "data": {
      "text/plain": [
       "0.6666666666666666"
      ]
     },
     "execution_count": 144,
     "metadata": {},
     "output_type": "execute_result"
    }
   ],
   "source": [
    "def confidence(X, Y):\n",
    "    n_counter =0\n",
    "    d_counter =0\n",
    "    c=X.union(Y) #{'계란', '기저귀', '맥주'}\n",
    "    for i in np.array(df_like):\n",
    "        if c.intersection(set(i)) == c:\n",
    "            n_counter+=1\n",
    "        if X.intersection(set(i)) == X:\n",
    "            d_counter+=1\n",
    "    c_numerator=n_counter\n",
    "    c_denominator=d_counter\n",
    "\n",
    "    return c_numerator/c_denominator\n",
    "confidence(X,Y)"
   ]
  },
  {
   "cell_type": "code",
   "execution_count": 145,
   "metadata": {},
   "outputs": [
    {
     "data": {
      "text/plain": [
       "1.1111111111111112"
      ]
     },
     "execution_count": 145,
     "metadata": {},
     "output_type": "execute_result"
    }
   ],
   "source": [
    "def lift(c,Y):\n",
    "    y_counter=0\n",
    "    for i in np.array(df_like):\n",
    "        if Y.intersection(set(i)) == Y:\n",
    "            y_counter+=1\n",
    "    return c/(y_counter/len(df_like))\n",
    "lift(confidence(X,Y), Y)"
   ]
  }
 ],
 "metadata": {
  "kernelspec": {
   "display_name": "Python 3",
   "language": "python",
   "name": "python3"
  },
  "language_info": {
   "codemirror_mode": {
    "name": "ipython",
    "version": 3
   },
   "file_extension": ".py",
   "mimetype": "text/x-python",
   "name": "python",
   "nbconvert_exporter": "python",
   "pygments_lexer": "ipython3",
   "version": "3.8.3"
  }
 },
 "nbformat": 4,
 "nbformat_minor": 4
}
