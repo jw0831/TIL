{
 "cells": [
  {
   "cell_type": "code",
   "execution_count": 2,
   "metadata": {},
   "outputs": [],
   "source": [
    "import pandas as pd\n",
    "import numpy as np\n",
    "import matplotlib.pyplot as plt\n",
    "import seaborn as sns"
   ]
  },
  {
   "cell_type": "markdown",
   "metadata": {},
   "source": [
    "### 상관계수\n",
    "\n",
    "###### 정규성이 없는 데이터를 정규성을 갖도록 실습 2020/09/29 수업\n",
    "\n",
    "### 자료 형태: 양적 / 질적 자료\n",
    "\n",
    "- 양적 자료: 수치형 자료\n",
    "\n",
    "  - 수치형 자료: 연속형, 이산형 자료로 구분\n",
    "\n",
    "    > 연속형: 값이 끊어지지 않고 연속적으로 이어지는 자료 (키, 몸무게 등)\n",
    "    >\n",
    "    > 이산형: 정수로 나누어지는 자료 (수술 횟수 등)\n",
    "\n",
    "- 질적 자료: 범주형 자료\n",
    "\n",
    "  - 범부형 자료: 명목형, 순서형 자료로 구분\n",
    "\n",
    "    >명목형: 범주들 간에 순서적인 의미가 없는 자료 (혈액형 등)\n",
    "    >\n",
    "    >순서형: 범주들 간에 순서적인 의미가 있는 자료 (학점, 아주좋음, 좋음, 보통...등 / 연령대, 10대, 20대,..)\n",
    "\n",
    "이러한 자료들을 갖고 상관 분석을 진행한다.\n",
    "\n",
    "#### 상관계수는 자료 형태에 따라 종류가 나누어짐\n",
    "\n",
    "1. 피어슨 상관계수 (모수적 방법) : 연속형 & 연속형 상관계수\n",
    "   - 두 변수가 모두 정규성을 따른다는 가정이 필요 (모수적 방법)\n",
    "\n",
    "**모집단**: 알고싶은 전체 집단\n",
    "\n",
    "코로나 환자가 있는데, (A라는 약 개발 / 투여 / 얼마나 효과가 있는지 궁금 / 전세계에 있는 모든 환자에 대해 궁금) : 전세계 환자가 모집단, 그런데 전세계를 알기가 어려움. 표본에 대한 표준편차 분산 등을 통해서 모집단을 예측\n",
    "\n",
    "모수? 모집단 통계치 (평균, 표준편차, 분산 등)\n",
    "\n",
    "#### 모수적 방법? (피어슨 상관분석)\n",
    "\n",
    "- 연속형 변수\n",
    "\n",
    "- 중심극한정리? 모집단이 평균, 표준편차 \n",
    "  - (오해의 요소: 내가 수집한 표본의 크기가 크면 이 표본의 평균이 모집단의 표본과 같고 는 잘못된 생각...)\n",
    "  - 모집단에서 표본크기가 n인 표본(30개 이상)을 여러 번 추출 (예: 100번 추출) 했을때\n",
    "  - **표본평균분포** : 1번째 추출: 표본평균, ... 100번째 추출: 표본 평균 들이 이루는 분포\n",
    "  - 중심극한정리는 표본의 크기가 커질수록 (30개 이상), 표본 평균들이 이루는 분포가 모집단의 평균과 모집단의 표준편차가 정규분포에 가까워진다는 정리임\n",
    "\n",
    "#### 비모수적 방법? (스피어만 상관분석, 켄달[타우])\n",
    "\n",
    "- 서열이 있는 두 변수들 간의 상관관계\n",
    "\n",
    "- 정규분포를 따르지 않는다고 증명 or 표본이 (30개 미만, 10개 미만) 소규모인 경우에는 정규분포임을 가정할 수 없을때 비모수적 방법을 사용.\n",
    "- 자료를 크기 순으로 배열 -> 순위(서열) 매김 -> 순위 합계를 구해서 합계간의 차이를 비교\n",
    "\n",
    "#### 명목형(이산형) & 명목형(이산형) : 파이계수\n",
    "\n",
    "- 두 변수가 모두 binary 일때 두 변수간의 상관 계수\n",
    "\n",
    "#### |상관계수|\n",
    "\n",
    "- 0.7이상 => 상관관계가 매우 강함\n",
    "- 0.3이상 => 상관관계가 있음\n",
    "- 0.1~0.3이상 => 매우 약한 상관관계가 있음\n",
    "- 0~0.1 => 무상관\n",
    "\n",
    "\n",
    "\n",
    "**척도**: 변수 값을 표현하는 수준\n",
    "\n",
    "**명명척도**: (혈액형), 서열척도(순서형, 직급), 등간척도(순서 & 간격 일정, 연산 가능)\n",
    "\n",
    "\n",
    "\n",
    "\n",
    "\n",
    "\n",
    "\n",
    "##### [**베이지안 이론1**](https://bioinformaticsandme.tistory.com/47)\n",
    "\n",
    "##### [**베이지안 이론2**](https://ddiri01.tistory.com/234)\n",
    "\n",
    "##### [베이즈 정리](https://junpyopark.github.io/bayes/)\n",
    "\n"
   ]
  },
  {
   "cell_type": "code",
   "execution_count": 43,
   "metadata": {},
   "outputs": [
    {
     "data": {
      "text/plain": [
       "A     3\n",
       "B     2\n",
       "O     1\n",
       "AB    1\n",
       "dtype: int64"
      ]
     },
     "execution_count": 43,
     "metadata": {},
     "output_type": "execute_result"
    }
   ],
   "source": [
    "#범주형\n",
    "\n",
    "#numpy\n",
    "bloodtype=['A','A','A','B','B','AB','O']\n",
    "np.unique(bloodtype)\n",
    "np.unique(bloodtype, return_counts=True)\n",
    "# np.unique(bloodtype, return_counts=True)[1]\n",
    "# np.unique(bloodtype, return_counts=True)[1][0]\n",
    "\n",
    "#pandas\n",
    "pd.Series(bloodtype)\n",
    "pd.Series(bloodtype).value_counts()"
   ]
  },
  {
   "cell_type": "code",
   "execution_count": 44,
   "metadata": {},
   "outputs": [
    {
     "data": {
      "text/plain": [
       "<matplotlib.axes._subplots.AxesSubplot at 0x7ff60f23fa30>"
      ]
     },
     "execution_count": 44,
     "metadata": {},
     "output_type": "execute_result"
    },
    {
     "data": {
      "image/png": "[encoded data removed]",
      "text/plain": [
       "<Figure size 432x288 with 1 Axes>"
      ]
     },
     "metadata": {
      "needs_background": "light"
     },
     "output_type": "display_data"
    }
   ],
   "source": [
    "sns.countplot(bloodtype)"
   ]
  },
  {
   "cell_type": "code",
   "execution_count": 49,
   "metadata": {},
   "outputs": [
    {
     "data": {
      "text/plain": [
       "(array([4, 1, 2, 3]), array([1., 3., 5., 7., 9.]))"
      ]
     },
     "execution_count": 49,
     "metadata": {},
     "output_type": "execute_result"
    }
   ],
   "source": [
    "# 연속형 변수\n",
    "x = [1,1,1,2,3,5,5,7,8,9]\n",
    "\n",
    "# 데이터 범위를 4구간\n",
    "hist, edges=np.histogram(x,4) #구간 경계 :array([1., 3., 5., 7., 9.])\n",
    "# a=np.histogram(x,4)[0]\n",
    "# a=np.histogram(x,4)[1]\n",
    "hist, edges"
   ]
  },
  {
   "cell_type": "code",
   "execution_count": 50,
   "metadata": {},
   "outputs": [
    {
     "data": {
      "text/plain": [
       "<matplotlib.axes._subplots.AxesSubplot at 0x7ff60e9961c0>"
      ]
     },
     "execution_count": 50,
     "metadata": {},
     "output_type": "execute_result"
    },
    {
     "data": {
      "image/png": "[encoded data removed]",
      "text/plain": [
       "<Figure size 432x288 with 1 Axes>"
      ]
     },
     "metadata": {
      "needs_background": "light"
     },
     "output_type": "display_data"
    }
   ],
   "source": [
    "sns.distplot(x, bins=4, kde = False)"
   ]
  },
  {
   "cell_type": "code",
   "execution_count": 52,
   "metadata": {},
   "outputs": [
    {
     "data": {
      "text/plain": [
       "ModeResult(mode=array([100]), count=array([2]))"
      ]
     },
     "execution_count": 52,
     "metadata": {},
     "output_type": "execute_result"
    }
   ],
   "source": [
    "# 중심경향 (평균, 최빈수, 중앙값) : 자료 전체 대표\n",
    "x = [100,100,200,400,500]\n",
    "np.mean(x) # 평균은 극단치(아웃라이어) 영향을 크게 받는다\n",
    "#소득 분포처럼 비대칭인 자료에 대해서는 평균값이 자료를 대표하기 어려움\n",
    "np.median(x) # 중위수는 극단치(아웃라이어) 영향을 잘 받지 않는다\n",
    "\n",
    "from scipy.stats import mode\n",
    "mode(x)"
   ]
  },
  {
   "cell_type": "code",
   "execution_count": 6,
   "metadata": {},
   "outputs": [
    {
     "data": {
      "text/plain": [
       "8.36"
      ]
     },
     "execution_count": 6,
     "metadata": {},
     "output_type": "execute_result"
    }
   ],
   "source": [
    "x=[1,1,1,2,3,5,5,7,8,9]\n",
    "# 흩어진 정도 (분산, 표준편차, 사분위)\n",
    "np.min(x)\n",
    "np.max(x)-np.min(x) # 자료 범위 (자료의 퍼짐 정도)\n",
    "# 분산? 평균으로부터 자료가 얼마나 벗어나 있는지를 나타내는 정도\n",
    "# 데이터-평균 => 제곱 => 평균\n",
    "# 분산이 큼? 데이터가 평균에서 많이 벗어나 있다.\n",
    "# 분산이 작음? 데이터가 평균 주변에 모여 있다.\n",
    "np.var(x) #분산"
   ]
  },
  {
   "cell_type": "code",
   "execution_count": 7,
   "metadata": {},
   "outputs": [
    {
     "data": {
      "text/plain": [
       "2.891366458960192"
      ]
     },
     "execution_count": 7,
     "metadata": {},
     "output_type": "execute_result"
    }
   ],
   "source": [
    "#분산 양의 제곱근\n",
    "np.std(x)\n",
    "np.sqrt(np.var(x))"
   ]
  },
  {
   "cell_type": "code",
   "execution_count": 8,
   "metadata": {},
   "outputs": [
    {
     "data": {
      "text/plain": [
       "[1, 1, 1, 2, 3, 5, 5, 7, 8, 9]"
      ]
     },
     "execution_count": 8,
     "metadata": {},
     "output_type": "execute_result"
    }
   ],
   "source": [
    "# IQR: 3사분위수(Q3, 75%) - 1사분위수(Q1, 25%)\n",
    "# 사분위수: 데이터를 오름차순 정렬 -> 4등분 -> 각 지점에 해당되는 값 (1,2,3,4 사분위수)\n",
    "x"
   ]
  },
  {
   "cell_type": "code",
   "execution_count": 10,
   "metadata": {},
   "outputs": [
    {
     "data": {
      "text/plain": [
       "6.5"
      ]
     },
     "execution_count": 10,
     "metadata": {},
     "output_type": "execute_result"
    }
   ],
   "source": [
    "np.quantile(x, .25) #1사분위수(Q1, 25%)\n",
    "np.quantile(x, .5) \n",
    "np.quantile(x, .75) #3사분위수(Q3, 75%)"
   ]
  },
  {
   "cell_type": "code",
   "execution_count": 11,
   "metadata": {},
   "outputs": [
    {
     "data": {
      "text/plain": [
       "4.0"
      ]
     },
     "execution_count": 11,
     "metadata": {},
     "output_type": "execute_result"
    }
   ],
   "source": [
    "np.quantile(x, .5) \n",
    "np.median(x)"
   ]
  },
  {
   "cell_type": "code",
   "execution_count": 14,
   "metadata": {},
   "outputs": [
    {
     "data": {
      "text/plain": [
       "5.25"
      ]
     },
     "execution_count": 14,
     "metadata": {},
     "output_type": "execute_result"
    }
   ],
   "source": [
    "# IQR 이 범위 밖은 극단치\n",
    "IQR=np.quantile(x, .75)-np.quantile(x, .25)\n",
    "IQR"
   ]
  },
  {
   "cell_type": "code",
   "execution_count": 15,
   "metadata": {},
   "outputs": [],
   "source": [
    "# 대부분의 자료는 중심 부분에 많이 몰려있는 경향이 있음\n",
    "# 평균에서 표준편차의 k배 만큼 떨어져 있다 -> k 표준편차\n",
    "\n",
    "# 표준편차 : 평균에서 떨어진 정도\n",
    "# IQR : 중간값에서 벗어난 정도"
   ]
  },
  {
   "cell_type": "markdown",
   "metadata": {},
   "source": [
    "### [공분산 참고](https://m.blog.naver.com/PostView.nhn?blogId=sw4r&logNo=221025662499&proxyReferer=https:%2F%2Fwww.google.com%2F)"
   ]
  },
  {
   "cell_type": "code",
   "execution_count": 16,
   "metadata": {},
   "outputs": [],
   "source": [
    "# 공분산 (covariance) : 두 변수가 함께 변화하는 정도를 나타내는 지표\n",
    "x = [7,3,6,6,9,4,3,9,3,5]\n",
    "y = [6,2,4,6,10,5,1,8,4,5]"
   ]
  },
  {
   "cell_type": "code",
   "execution_count": 18,
   "metadata": {},
   "outputs": [
    {
     "data": {
      "text/plain": [
       "[<matplotlib.lines.Line2D at 0x7fc152c00280>]"
      ]
     },
     "execution_count": 18,
     "metadata": {},
     "output_type": "execute_result"
    },
    {
     "data": {
      "image/png": "[encoded data removed]",
      "text/plain": [
       "<Figure size 432x288 with 1 Axes>"
      ]
     },
     "metadata": {
      "needs_background": "light"
     },
     "output_type": "display_data"
    }
   ],
   "source": [
    "# 산점도 (scatter plot)\n",
    "plt.plot(x,y, 'o')"
   ]
  },
  {
   "cell_type": "code",
   "execution_count": 22,
   "metadata": {},
   "outputs": [
    {
     "name": "stdout",
     "output_type": "stream",
     "text": [
      "[[5.38888889 5.5       ]\n",
      " [5.5        6.98888889]]\n",
      "5.499999999999999\n"
     ]
    }
   ],
   "source": [
    "print(np.cov(x,y))\n",
    "print(np.cov(x,y)[0,1])"
   ]
  },
  {
   "cell_type": "code",
   "execution_count": 24,
   "metadata": {},
   "outputs": [
    {
     "data": {
      "text/plain": [
       "4.85"
      ]
     },
     "execution_count": 24,
     "metadata": {},
     "output_type": "execute_result"
    }
   ],
   "source": [
    "np.var(x)"
   ]
  },
  {
   "cell_type": "code",
   "execution_count": 25,
   "metadata": {},
   "outputs": [
    {
     "data": {
      "text/plain": [
       "6.290000000000001"
      ]
     },
     "execution_count": 25,
     "metadata": {},
     "output_type": "execute_result"
    }
   ],
   "source": [
    "np.var(y)"
   ]
  },
  {
   "cell_type": "code",
   "execution_count": 26,
   "metadata": {},
   "outputs": [],
   "source": [
    "# 공분산 해석: \n",
    "# + : 두 변수가 같은 방향으로 변화\n",
    "# - : 두 변수가 반대 방향으로 변화\n",
    "# 0 : 두 변수가 독립 (서로 아무 상관이 없다.)\n",
    "# 주의할점:\n",
    "# cov(x,y) ; 5\n",
    "# cov(a,b) ; 1000\n",
    "# 절대적 크기로 해석을 하면 안된다 / 수치의 의미\n",
    "# 공분산 만으로는 직접적인 비교가 어려움으로 \n",
    "#  공분산 -> 표준화 (-1~1) => 상관계수"
   ]
  },
  {
   "cell_type": "code",
   "execution_count": null,
   "metadata": {},
   "outputs": [],
   "source": []
  },
  {
   "cell_type": "code",
   "execution_count": 27,
   "metadata": {},
   "outputs": [],
   "source": [
    "# 상관계수 : 두 변수가 함께 변하는 정도, -1 ~ +1 (면접 질문)"
   ]
  },
  {
   "cell_type": "code",
   "execution_count": 30,
   "metadata": {},
   "outputs": [
    {
     "data": {
      "text/plain": [
       "0.8962083932927004"
      ]
     },
     "execution_count": 30,
     "metadata": {},
     "output_type": "execute_result"
    }
   ],
   "source": [
    "#피어슨 상관계수 (일반적)\n",
    "np.corrcoef(x,y)\n",
    "np.corrcoef(x,y)[0,1] #상관계수"
   ]
  },
  {
   "cell_type": "code",
   "execution_count": 37,
   "metadata": {},
   "outputs": [
    {
     "data": {
      "text/plain": [
       "0.8962083932927"
      ]
     },
     "execution_count": 37,
     "metadata": {},
     "output_type": "execute_result"
    }
   ],
   "source": [
    "# x, y의 공분산 \n",
    "cov=np.cov(x,y)[0,1]\n",
    "cov #5.5\n",
    "# x 의 표준편차 \n",
    "xsd=np.std(x, ddof=1) #x의 표본표준편차, 2.2\n",
    "# y 의 표준편차 \n",
    "ysd=np.std(y, ddof=1) #y의 표본표준편차, 2.51\n",
    "cov/(xsd*ysd) #상관계수"
   ]
  },
  {
   "cell_type": "markdown",
   "metadata": {},
   "source": [
    "상관계수를 제곱하면? 분산(변화량)에서 공유하는 비율  \n",
    "ex) x, y의 상관계수가 0.7 -> 제곱하면 0.49 (49%)  \n",
    "의미: x의 분산중 49% 를 y와 공유한다는 의미임. x의 분산중 49%가 y로 설명할 수 있음  \n",
    "\n",
    "피어슨 상관계수는 선셩적인 관계 측정. 비선형적인 변화의 경우에는 잘 측정하지 못함  "
   ]
  },
  {
   "cell_type": "code",
   "execution_count": 38,
   "metadata": {},
   "outputs": [
    {
     "data": {
      "text/plain": [
       "0.8972354465472708"
      ]
     },
     "execution_count": 38,
     "metadata": {},
     "output_type": "execute_result"
    }
   ],
   "source": [
    "# 스피어만 상관계수\n",
    "# 서열척도, 비선형적인 관계\n",
    "import scipy.stats\n",
    "scipy.stats.spearmanr(x,y).correlation"
   ]
  },
  {
   "cell_type": "code",
   "execution_count": 39,
   "metadata": {},
   "outputs": [
    {
     "data": {
      "text/plain": [
       "0.8051175601825398"
      ]
     },
     "execution_count": 39,
     "metadata": {},
     "output_type": "execute_result"
    }
   ],
   "source": [
    "# 캔달 상관계수: 비선형적 & 서열척도 (표본이 작을때)\n",
    "scipy.stats.kendalltau(x,y).correlation"
   ]
  },
  {
   "cell_type": "code",
   "execution_count": 40,
   "metadata": {},
   "outputs": [],
   "source": [
    "# 상관계수 통계적 검증\n",
    "x = [7,3,6,6,9,4,3,9,3,5]\n",
    "y = [6,2,4,6,10,5,1,8,4,5]"
   ]
  },
  {
   "cell_type": "code",
   "execution_count": 42,
   "metadata": {},
   "outputs": [
    {
     "data": {
      "text/plain": [
       "(0.8962083932927004, 0.00044718052488489286)"
      ]
     },
     "execution_count": 42,
     "metadata": {},
     "output_type": "execute_result"
    }
   ],
   "source": [
    "scipy.stats.pearsonr(x,y) \n",
    "# 상관계수 0.89\n",
    "# p value: 0.0004\n",
    "# p value: 0.05 (임계치), p값이 0.05 보다 작은경우 \"통계적으로 유의미하다\" 표현\n",
    "# 0.89라는 값에대해 신뢰할 수 있다."
   ]
  },
  {
   "cell_type": "markdown",
   "metadata": {},
   "source": [
    "유의수준, 유의확률(p value), 귀무/대립 가설, 1종/2종 오류\n",
    "\n",
    "귀무 / 대립 가설?\n",
    "\n",
    "20대 남자들의 키와 30대 남자들의 키가 다르다.\n",
    "\n",
    "20대와 30대 남자들 각 30명씩 -> 키 측정 -> 각 집단 평균 (기술통계)\n",
    "\n",
    "표본으로 추론\n",
    "- 추론 통계: 가설을 세우고, 그 가설을 입증\n",
    "    - 이때 처음 세운 가설: **귀무 가설**\n",
    "    - 실험자가 입증해야 하는 가설: **대립 가설**\n",
    "추론 통계 -> 귀무가설을 기각\n",
    "ex) 가설: 범죄자가 범인이라는 가설을 입증하고자 한다면 -> 귀무가설: 범죄자는 범인이 아니다.\n",
    "귀무가설을 기각(범죄자가 범인이다) 하기 위해 입증 자료 수집함\n",
    "\n",
    "실험자가 범할 수 있는 오류\n",
    "1종 오류: 귀무가설이 참인데 기각한 경우 (죄가 없는 범인이 죄가 있다고 말한 경우)  \n",
    "2종 오류: 귀무가설이 거짓인데 기각하지 않은 경우 (죄가 있는 범인이 죄가 없다고 말한 경우)\n",
    "\n",
    "1종 2종의 오류중 더 심각한것은 1종 오류이다.  \n",
    "1종 (심각) > 2종  \n",
    "죄가 없는데 있다고 한경우 더 억울하다.\n",
    "\n",
    "- 유의 수준 : 1종 오류를 범할 수 있는 최대 허용 한계\n",
    "    - ex) 유의수준 : 0.05%(5%)로 정함 -> 100번 실험했을 때 1종 오류를 범할 수 있는 최대 허용 한계 5번\n",
    "    - 정밀도 요구되는 실험 : 0.01(1%)\n",
    "    \n",
    "- 유의 확률: p - value, 1종 오류를 범할 확률\n",
    "    - ex) 0.05(5%) : 100번 실험했을 때 1종 오류를 5번 범한 경우.\n",
    "    - 의미? 95% 신뢰도로 귀무가설을 기각한다는 의미\n",
    "    - 0 <= p value <= 1\n",
    "- p-value 값이 유의 수준 (0.05)보다 낮다 -> 실험이 통계적으로 의미가 있다!!!\n",
    "\n",
    "상관분석 고려 사항\n",
    "- 산점도 (선형선(직선) 확인)\n",
    "- 곡선형? 스피어만, 캔달 상관분석\n",
    "\n",
    "- 상관관계가 있다고 해서 반드시 인과관계가 있는 건 아니다.\n",
    "- ex) 제 3변인의 문제\n",
    "    - 서울에서 범죄 발생 건수와 종교 시설의 개수\n",
    "    - 양의 상관관계 (교회가 많으면 많을수록 범죄율도 높다) 이 둘사이에 직접적인 관계가 있는것이 아님\n",
    "        - 제 3의 변인이 있음\n",
    "    - 극단치로 인한 인위적 상관관계 있을 수 있음."
   ]
  },
  {
   "cell_type": "markdown",
   "metadata": {},
   "source": [
    "### 회귀분석 ?\n",
    "\n",
    "- 독립변수(x)입력변수로 종속변수(y)를 예측하는것\n",
    "\n",
    "### 혼입변수?\n",
    "\n",
    "- 모델에는 포함되지 않지만, 종속변수에 영향을 주는 변수\n",
    "\n",
    "### 선형회기분석?\n",
    "\n",
    "- 회기분석은 종속변수가 연속인 경우 (regression)\n",
    "- 종속변수가 **범주**인 경우 : 분류 (classification)\n",
    "- 선형회기분석: 독립변수와 종속변수 사이에 직선적인 형태의 관계가 있다고 가정하고 분석\n",
    "- 직선적인 형태? 독립변수가 증가 => 종속변수도 비례하여 증가 or 감소\n",
    "\n",
    "선형회귀모델에서 x, y 관계 수식 : y=wx + b (w: **weight**, b: **bias**(error) 또는 e를(error 따로 붙인다))\n",
    "\n",
    "> **w**: 가중치 or 회귀계수,  \n",
    ">\n",
    "> 독립변수 x가 1증가하면 종속변수 y는 w만큼 증가한다.  \n",
    ">\n",
    "> **b**: 절편(독립변수가 0일때 종속변수 y의 값)"
   ]
  },
  {
   "cell_type": "markdown",
   "metadata": {},
   "source": [
    "#### 왜도 / 첨도\n",
    "\n",
    "- #### **왜도**\n",
    "\n",
    "- 중앙값 > 평균: (오른쪽으로 길게 늘어진 경우): 왜도가 0보다 큰 양수\n",
    "- 중앙값 < 평균: (왼쪽으로 길게 늘어진 경우): 왜도가 0보다 작은 음수\n",
    "- 좌우가 대칭: (정규분포): 왜도가 0\n",
    "\n",
    "\n",
    "\n",
    "- #### 첨도\n",
    "\n",
    "- 자료의 분포가 뾰족한 정도\n",
    "- 정규분포 : 첨도가 0\n",
    "- 중간이 뾰족한경우: 첨도가 0보다 큰 양수\n",
    "- 중간이 평평한경우: 첨도가 0보다 작은 음수"
   ]
  },
  {
   "cell_type": "code",
   "execution_count": 43,
   "metadata": {
    "collapsed": true,
    "jupyter": {
     "outputs_hidden": true
    }
   },
   "outputs": [
    {
     "data": {
      "text/html": [
       "<div>\n",
       "<style scoped>\n",
       "    .dataframe tbody tr th:only-of-type {\n",
       "        vertical-align: middle;\n",
       "    }\n",
       "\n",
       "    .dataframe tbody tr th {\n",
       "        vertical-align: top;\n",
       "    }\n",
       "\n",
       "    .dataframe thead th {\n",
       "        text-align: right;\n",
       "    }\n",
       "</style>\n",
       "<table border=\"1\" class=\"dataframe\">\n",
       "  <thead>\n",
       "    <tr style=\"text-align: right;\">\n",
       "      <th></th>\n",
       "      <th>speed</th>\n",
       "      <th>dist</th>\n",
       "    </tr>\n",
       "  </thead>\n",
       "  <tbody>\n",
       "    <tr>\n",
       "      <th>0</th>\n",
       "      <td>4</td>\n",
       "      <td>2</td>\n",
       "    </tr>\n",
       "    <tr>\n",
       "      <th>1</th>\n",
       "      <td>4</td>\n",
       "      <td>10</td>\n",
       "    </tr>\n",
       "    <tr>\n",
       "      <th>2</th>\n",
       "      <td>7</td>\n",
       "      <td>4</td>\n",
       "    </tr>\n",
       "    <tr>\n",
       "      <th>3</th>\n",
       "      <td>7</td>\n",
       "      <td>22</td>\n",
       "    </tr>\n",
       "    <tr>\n",
       "      <th>4</th>\n",
       "      <td>8</td>\n",
       "      <td>16</td>\n",
       "    </tr>\n",
       "    <tr>\n",
       "      <th>5</th>\n",
       "      <td>9</td>\n",
       "      <td>10</td>\n",
       "    </tr>\n",
       "    <tr>\n",
       "      <th>6</th>\n",
       "      <td>10</td>\n",
       "      <td>18</td>\n",
       "    </tr>\n",
       "    <tr>\n",
       "      <th>7</th>\n",
       "      <td>10</td>\n",
       "      <td>26</td>\n",
       "    </tr>\n",
       "    <tr>\n",
       "      <th>8</th>\n",
       "      <td>10</td>\n",
       "      <td>34</td>\n",
       "    </tr>\n",
       "    <tr>\n",
       "      <th>9</th>\n",
       "      <td>11</td>\n",
       "      <td>17</td>\n",
       "    </tr>\n",
       "    <tr>\n",
       "      <th>10</th>\n",
       "      <td>11</td>\n",
       "      <td>28</td>\n",
       "    </tr>\n",
       "    <tr>\n",
       "      <th>11</th>\n",
       "      <td>12</td>\n",
       "      <td>14</td>\n",
       "    </tr>\n",
       "    <tr>\n",
       "      <th>12</th>\n",
       "      <td>12</td>\n",
       "      <td>20</td>\n",
       "    </tr>\n",
       "    <tr>\n",
       "      <th>13</th>\n",
       "      <td>12</td>\n",
       "      <td>24</td>\n",
       "    </tr>\n",
       "    <tr>\n",
       "      <th>14</th>\n",
       "      <td>12</td>\n",
       "      <td>28</td>\n",
       "    </tr>\n",
       "    <tr>\n",
       "      <th>15</th>\n",
       "      <td>13</td>\n",
       "      <td>26</td>\n",
       "    </tr>\n",
       "    <tr>\n",
       "      <th>16</th>\n",
       "      <td>13</td>\n",
       "      <td>34</td>\n",
       "    </tr>\n",
       "    <tr>\n",
       "      <th>17</th>\n",
       "      <td>13</td>\n",
       "      <td>34</td>\n",
       "    </tr>\n",
       "    <tr>\n",
       "      <th>18</th>\n",
       "      <td>13</td>\n",
       "      <td>46</td>\n",
       "    </tr>\n",
       "    <tr>\n",
       "      <th>19</th>\n",
       "      <td>14</td>\n",
       "      <td>26</td>\n",
       "    </tr>\n",
       "    <tr>\n",
       "      <th>20</th>\n",
       "      <td>14</td>\n",
       "      <td>36</td>\n",
       "    </tr>\n",
       "    <tr>\n",
       "      <th>21</th>\n",
       "      <td>14</td>\n",
       "      <td>60</td>\n",
       "    </tr>\n",
       "    <tr>\n",
       "      <th>22</th>\n",
       "      <td>14</td>\n",
       "      <td>80</td>\n",
       "    </tr>\n",
       "    <tr>\n",
       "      <th>23</th>\n",
       "      <td>15</td>\n",
       "      <td>20</td>\n",
       "    </tr>\n",
       "    <tr>\n",
       "      <th>24</th>\n",
       "      <td>15</td>\n",
       "      <td>26</td>\n",
       "    </tr>\n",
       "    <tr>\n",
       "      <th>25</th>\n",
       "      <td>15</td>\n",
       "      <td>54</td>\n",
       "    </tr>\n",
       "    <tr>\n",
       "      <th>26</th>\n",
       "      <td>16</td>\n",
       "      <td>32</td>\n",
       "    </tr>\n",
       "    <tr>\n",
       "      <th>27</th>\n",
       "      <td>16</td>\n",
       "      <td>40</td>\n",
       "    </tr>\n",
       "    <tr>\n",
       "      <th>28</th>\n",
       "      <td>17</td>\n",
       "      <td>32</td>\n",
       "    </tr>\n",
       "    <tr>\n",
       "      <th>29</th>\n",
       "      <td>17</td>\n",
       "      <td>40</td>\n",
       "    </tr>\n",
       "    <tr>\n",
       "      <th>30</th>\n",
       "      <td>17</td>\n",
       "      <td>50</td>\n",
       "    </tr>\n",
       "    <tr>\n",
       "      <th>31</th>\n",
       "      <td>18</td>\n",
       "      <td>42</td>\n",
       "    </tr>\n",
       "    <tr>\n",
       "      <th>32</th>\n",
       "      <td>18</td>\n",
       "      <td>56</td>\n",
       "    </tr>\n",
       "    <tr>\n",
       "      <th>33</th>\n",
       "      <td>18</td>\n",
       "      <td>76</td>\n",
       "    </tr>\n",
       "    <tr>\n",
       "      <th>34</th>\n",
       "      <td>18</td>\n",
       "      <td>84</td>\n",
       "    </tr>\n",
       "    <tr>\n",
       "      <th>35</th>\n",
       "      <td>19</td>\n",
       "      <td>36</td>\n",
       "    </tr>\n",
       "    <tr>\n",
       "      <th>36</th>\n",
       "      <td>19</td>\n",
       "      <td>46</td>\n",
       "    </tr>\n",
       "    <tr>\n",
       "      <th>37</th>\n",
       "      <td>19</td>\n",
       "      <td>68</td>\n",
       "    </tr>\n",
       "    <tr>\n",
       "      <th>38</th>\n",
       "      <td>20</td>\n",
       "      <td>32</td>\n",
       "    </tr>\n",
       "    <tr>\n",
       "      <th>39</th>\n",
       "      <td>20</td>\n",
       "      <td>48</td>\n",
       "    </tr>\n",
       "    <tr>\n",
       "      <th>40</th>\n",
       "      <td>20</td>\n",
       "      <td>52</td>\n",
       "    </tr>\n",
       "    <tr>\n",
       "      <th>41</th>\n",
       "      <td>20</td>\n",
       "      <td>56</td>\n",
       "    </tr>\n",
       "    <tr>\n",
       "      <th>42</th>\n",
       "      <td>20</td>\n",
       "      <td>64</td>\n",
       "    </tr>\n",
       "    <tr>\n",
       "      <th>43</th>\n",
       "      <td>22</td>\n",
       "      <td>66</td>\n",
       "    </tr>\n",
       "    <tr>\n",
       "      <th>44</th>\n",
       "      <td>23</td>\n",
       "      <td>54</td>\n",
       "    </tr>\n",
       "    <tr>\n",
       "      <th>45</th>\n",
       "      <td>24</td>\n",
       "      <td>70</td>\n",
       "    </tr>\n",
       "    <tr>\n",
       "      <th>46</th>\n",
       "      <td>24</td>\n",
       "      <td>92</td>\n",
       "    </tr>\n",
       "    <tr>\n",
       "      <th>47</th>\n",
       "      <td>24</td>\n",
       "      <td>93</td>\n",
       "    </tr>\n",
       "    <tr>\n",
       "      <th>48</th>\n",
       "      <td>24</td>\n",
       "      <td>120</td>\n",
       "    </tr>\n",
       "    <tr>\n",
       "      <th>49</th>\n",
       "      <td>25</td>\n",
       "      <td>85</td>\n",
       "    </tr>\n",
       "  </tbody>\n",
       "</table>\n",
       "</div>"
      ],
      "text/plain": [
       "    speed  dist\n",
       "0       4     2\n",
       "1       4    10\n",
       "2       7     4\n",
       "3       7    22\n",
       "4       8    16\n",
       "5       9    10\n",
       "6      10    18\n",
       "7      10    26\n",
       "8      10    34\n",
       "9      11    17\n",
       "10     11    28\n",
       "11     12    14\n",
       "12     12    20\n",
       "13     12    24\n",
       "14     12    28\n",
       "15     13    26\n",
       "16     13    34\n",
       "17     13    34\n",
       "18     13    46\n",
       "19     14    26\n",
       "20     14    36\n",
       "21     14    60\n",
       "22     14    80\n",
       "23     15    20\n",
       "24     15    26\n",
       "25     15    54\n",
       "26     16    32\n",
       "27     16    40\n",
       "28     17    32\n",
       "29     17    40\n",
       "30     17    50\n",
       "31     18    42\n",
       "32     18    56\n",
       "33     18    76\n",
       "34     18    84\n",
       "35     19    36\n",
       "36     19    46\n",
       "37     19    68\n",
       "38     20    32\n",
       "39     20    48\n",
       "40     20    52\n",
       "41     20    56\n",
       "42     20    64\n",
       "43     22    66\n",
       "44     23    54\n",
       "45     24    70\n",
       "46     24    92\n",
       "47     24    93\n",
       "48     24   120\n",
       "49     25    85"
      ]
     },
     "execution_count": 43,
     "metadata": {},
     "output_type": "execute_result"
    }
   ],
   "source": [
    "#회귀분석\n",
    "df=pd.read_csv(\"cars.csv\")\n",
    "df"
   ]
  },
  {
   "cell_type": "code",
   "execution_count": 45,
   "metadata": {},
   "outputs": [
    {
     "data": {
      "text/plain": [
       "<matplotlib.axes._subplots.AxesSubplot at 0x7fc1542783a0>"
      ]
     },
     "execution_count": 45,
     "metadata": {},
     "output_type": "execute_result"
    },
    {
     "data": {
      "image/png": "[encoded data removed]",
      "text/plain": [
       "<Figure size 432x288 with 1 Axes>"
      ]
     },
     "metadata": {
      "needs_background": "light"
     },
     "output_type": "display_data"
    }
   ],
   "source": [
    "#독립변수: speed, 종속변수: dist\n",
    "#산점도 & 선형적인 패턴 확인\n",
    "sns.regplot('speed', 'dist', lowess=True, data=df)"
   ]
  },
  {
   "cell_type": "code",
   "execution_count": 48,
   "metadata": {},
   "outputs": [
    {
     "data": {
      "text/plain": [
       "Text(0.5, 1.0, 'car dist')"
      ]
     },
     "execution_count": 48,
     "metadata": {},
     "output_type": "execute_result"
    },
    {
     "data": {
      "image/png": "[encoded data removed]",
      "text/plain": [
       "<Figure size 432x288 with 2 Axes>"
      ]
     },
     "metadata": {
      "needs_background": "light"
     },
     "output_type": "display_data"
    }
   ],
   "source": [
    "# 회귀분석에서는 박스플랏을 꼭 그려서 극단치가 있는지 확인!\n",
    "fig, (ax1,ax2)=plt.subplots(1,2)\n",
    "sns.boxplot('speed', data=df, ax=ax1, orient='v') #orient v or h(horizontal)\n",
    "ax1.set_title('car speed')\n",
    "sns.boxplot('dist', data=df, ax=ax2, orient='v')\n",
    "ax2.set_title('car dist')\n",
    "\n",
    "#가로 선을 벗어난 데이터가 있으면 극단치가 있는 것이다.\n",
    "#car dist에 하나가 있다. 이 데이터의경우 하나정도는 무시해도 되는경우임"
   ]
  },
  {
   "cell_type": "code",
   "execution_count": 50,
   "metadata": {},
   "outputs": [
    {
     "data": {
      "text/plain": [
       "Text(0.5, 1.0, 'car dist')"
      ]
     },
     "execution_count": 50,
     "metadata": {},
     "output_type": "execute_result"
    },
    {
     "data": {
      "image/png": "[encoded data removed]",
      "text/plain": [
       "<Figure size 432x288 with 2 Axes>"
      ]
     },
     "metadata": {
      "needs_background": "light"
     },
     "output_type": "display_data"
    }
   ],
   "source": [
    "#선형회귀분석: 독립변수와 종속변수가 정규분포를 따를 때 잘 작동\n",
    "#밀도 플랏: 정규분포 형태 확인\n",
    "fig, (ax1,ax2)=plt.subplots(1,2)\n",
    "sns.kdeplot(df['speed'], ax=ax1) #orient v or h(horizontal)\n",
    "ax1.set_title('car speed')\n",
    "sns.kdeplot(df['dist'], ax=ax2)\n",
    "ax2.set_title('car dist')"
   ]
  },
  {
   "cell_type": "code",
   "execution_count": 52,
   "metadata": {},
   "outputs": [
    {
     "data": {
      "text/plain": [
       "0.7824835173114966"
      ]
     },
     "execution_count": 52,
     "metadata": {},
     "output_type": "execute_result"
    }
   ],
   "source": [
    "#왜도\n",
    "scipy.stats.skew(df['speed']) #-0.11395477012828319\n",
    "scipy.stats.skew(df['dist']) #0.7824835173114966"
   ]
  },
  {
   "cell_type": "markdown",
   "metadata": {},
   "source": [
    "[왜도/첨도(scipy.stats.skew)](https://namyoungkim.github.io/python/scipy/2017/10/09/scipy/)"
   ]
  },
  {
   "cell_type": "code",
   "execution_count": 53,
   "metadata": {},
   "outputs": [],
   "source": [
    "from statsmodels.formula.api import ols"
   ]
  },
  {
   "cell_type": "code",
   "execution_count": 55,
   "metadata": {},
   "outputs": [],
   "source": [
    "res=ols(\"dist~speed\",data=df).fit() #종속변수 ~ 독립변수, 회귀 모델 생성"
   ]
  },
  {
   "cell_type": "code",
   "execution_count": 56,
   "metadata": {},
   "outputs": [
    {
     "data": {
      "text/html": [
       "<table class=\"simpletable\">\n",
       "<caption>OLS Regression Results</caption>\n",
       "<tr>\n",
       "  <th>Dep. Variable:</th>          <td>dist</td>       <th>  R-squared:         </th> <td>   0.651</td>\n",
       "</tr>\n",
       "<tr>\n",
       "  <th>Model:</th>                   <td>OLS</td>       <th>  Adj. R-squared:    </th> <td>   0.644</td>\n",
       "</tr>\n",
       "<tr>\n",
       "  <th>Method:</th>             <td>Least Squares</td>  <th>  F-statistic:       </th> <td>   89.57</td>\n",
       "</tr>\n",
       "<tr>\n",
       "  <th>Date:</th>             <td>Tue, 29 Sep 2020</td> <th>  Prob (F-statistic):</th> <td>1.49e-12</td>\n",
       "</tr>\n",
       "<tr>\n",
       "  <th>Time:</th>                 <td>14:29:30</td>     <th>  Log-Likelihood:    </th> <td> -206.58</td>\n",
       "</tr>\n",
       "<tr>\n",
       "  <th>No. Observations:</th>      <td>    50</td>      <th>  AIC:               </th> <td>   417.2</td>\n",
       "</tr>\n",
       "<tr>\n",
       "  <th>Df Residuals:</th>          <td>    48</td>      <th>  BIC:               </th> <td>   421.0</td>\n",
       "</tr>\n",
       "<tr>\n",
       "  <th>Df Model:</th>              <td>     1</td>      <th>                     </th>     <td> </td>   \n",
       "</tr>\n",
       "<tr>\n",
       "  <th>Covariance Type:</th>      <td>nonrobust</td>    <th>                     </th>     <td> </td>   \n",
       "</tr>\n",
       "</table>\n",
       "<table class=\"simpletable\">\n",
       "<tr>\n",
       "      <td></td>         <th>coef</th>     <th>std err</th>      <th>t</th>      <th>P>|t|</th>  <th>[0.025</th>    <th>0.975]</th>  \n",
       "</tr>\n",
       "<tr>\n",
       "  <th>Intercept</th> <td>  -17.5791</td> <td>    6.758</td> <td>   -2.601</td> <td> 0.012</td> <td>  -31.168</td> <td>   -3.990</td>\n",
       "</tr>\n",
       "<tr>\n",
       "  <th>speed</th>     <td>    3.9324</td> <td>    0.416</td> <td>    9.464</td> <td> 0.000</td> <td>    3.097</td> <td>    4.768</td>\n",
       "</tr>\n",
       "</table>\n",
       "<table class=\"simpletable\">\n",
       "<tr>\n",
       "  <th>Omnibus:</th>       <td> 8.975</td> <th>  Durbin-Watson:     </th> <td>   1.676</td>\n",
       "</tr>\n",
       "<tr>\n",
       "  <th>Prob(Omnibus):</th> <td> 0.011</td> <th>  Jarque-Bera (JB):  </th> <td>   8.189</td>\n",
       "</tr>\n",
       "<tr>\n",
       "  <th>Skew:</th>          <td> 0.885</td> <th>  Prob(JB):          </th> <td>  0.0167</td>\n",
       "</tr>\n",
       "<tr>\n",
       "  <th>Kurtosis:</th>      <td> 3.893</td> <th>  Cond. No.          </th> <td>    50.7</td>\n",
       "</tr>\n",
       "</table><br/><br/>Warnings:<br/>[1] Standard Errors assume that the covariance matrix of the errors is correctly specified."
      ],
      "text/plain": [
       "<class 'statsmodels.iolib.summary.Summary'>\n",
       "\"\"\"\n",
       "                            OLS Regression Results                            \n",
       "==============================================================================\n",
       "Dep. Variable:                   dist   R-squared:                       0.651\n",
       "Model:                            OLS   Adj. R-squared:                  0.644\n",
       "Method:                 Least Squares   F-statistic:                     89.57\n",
       "Date:                Tue, 29 Sep 2020   Prob (F-statistic):           1.49e-12\n",
       "Time:                        14:29:30   Log-Likelihood:                -206.58\n",
       "No. Observations:                  50   AIC:                             417.2\n",
       "Df Residuals:                      48   BIC:                             421.0\n",
       "Df Model:                           1                                         \n",
       "Covariance Type:            nonrobust                                         \n",
       "==============================================================================\n",
       "                 coef    std err          t      P>|t|      [0.025      0.975]\n",
       "------------------------------------------------------------------------------\n",
       "Intercept    -17.5791      6.758     -2.601      0.012     -31.168      -3.990\n",
       "speed          3.9324      0.416      9.464      0.000       3.097       4.768\n",
       "==============================================================================\n",
       "Omnibus:                        8.975   Durbin-Watson:                   1.676\n",
       "Prob(Omnibus):                  0.011   Jarque-Bera (JB):                8.189\n",
       "Skew:                           0.885   Prob(JB):                       0.0167\n",
       "Kurtosis:                       3.893   Cond. No.                         50.7\n",
       "==============================================================================\n",
       "\n",
       "Warnings:\n",
       "[1] Standard Errors assume that the covariance matrix of the errors is correctly specified.\n",
       "\"\"\""
      ]
     },
     "execution_count": 56,
     "metadata": {},
     "output_type": "execute_result"
    }
   ],
   "source": [
    "res.summary() #회귀 모델에대한 요약 정보"
   ]
  },
  {
   "cell_type": "markdown",
   "metadata": {},
   "source": [
    "R-squared = 0.651  \n",
    "R-squared: 모델 설명력, dist의 분산을 speed가 약 65%를 설명  \n",
    "Prob (F-statistic):\t1.49e-12 == 작으므로 통계적으로 유의미함 (p<0.05)\n",
    "\n",
    "**회기계수:**  \n",
    "coef: 계수의 추정치  \n",
    "\\-17.5791 + 3.9324*speed  \n",
    "speed가 1증가하면, dist는 3.9324 증가한다. (의미)\n",
    "\n",
    "결론:\n",
    "회귀분석 결과\n",
    "dist에 대하여 speed 로 예측하는 회귀분석을 실시한 결과, 이 회귀모델은 통계적으로 유의미함\n",
    "(F-statistic: 89.57, p<0.05)  \n",
    "독립변수에 대하여 speed의 회기계수는 3.9324로, dist에 대하여 유의미한 예측 변수라는 것이 나타남  \n",
    "p<0.05"
   ]
  },
  {
   "cell_type": "code",
   "execution_count": null,
   "metadata": {},
   "outputs": [],
   "source": []
  }
 ],
 "metadata": {
  "kernelspec": {
   "display_name": "Python 3",
   "language": "python",
   "name": "python3"
  },
  "language_info": {
   "codemirror_mode": {
    "name": "ipython",
    "version": 3
   },
   "file_extension": ".py",
   "mimetype": "text/x-python",
   "name": "python",
   "nbconvert_exporter": "python",
   "pygments_lexer": "ipython3",
   "version": "3.8.3"
  }
 },
 "nbformat": 4,
 "nbformat_minor": 4
}
