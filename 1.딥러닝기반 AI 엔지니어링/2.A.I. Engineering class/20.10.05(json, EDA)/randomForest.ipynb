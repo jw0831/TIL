{
  "nbformat": 4,
  "nbformat_minor": 0,
  "metadata": {
    "colab": {
      "name": "randomForest.ipynb",
      "provenance": [],
      "collapsed_sections": []
    },
    "kernelspec": {
      "name": "python3",
      "display_name": "Python 3"
    }
  },
  "cells": [
    {
      "cell_type": "code",
      "metadata": {
        "id": "F53yPNSsopGj"
      },
      "source": [
        "import seaborn as sns\n",
        "import matplotlib.pyplot as plt"
      ],
      "execution_count": null,
      "outputs": []
    },
    {
      "cell_type": "code",
      "metadata": {
        "id": "-4Bthd72oKLy"
      },
      "source": [
        "from google.colab import drive\n",
        "drive.mount('/content/drive/')\n"
      ],
      "execution_count": null,
      "outputs": []
    },
    {
      "cell_type": "code",
      "metadata": {
        "id": "MpXnLdYvo2s0"
      },
      "source": [
        "from sklearn.model_selection import train_test_split\n",
        "from sklearn.ensemble import RandomForestClassifier\n",
        "from sklearn.ensemble import RandomForestRegressor\n",
        "from sklearn.model_selection import GridSearchCV"
      ],
      "execution_count": null,
      "outputs": []
    },
    {
      "cell_type": "code",
      "metadata": {
        "id": "hvlyZM14oSpT"
      },
      "source": [
        "import pandas as pd\n",
        "import numpy as np\n",
        "train_df=pd.read_csv('/content/drive/My Drive/COLAB/BigContest/preprocessed.csv')"
      ],
      "execution_count": null,
      "outputs": []
    },
    {
      "cell_type": "code",
      "metadata": {
        "id": "8BrVDaMroaao"
      },
      "source": [
        "all_columns=['노출(분)', '마더코드', '상품코드', '상품명', '상품군', '판매단가', '취급액', '주문량', '월', '화',\n",
        "       '수', '목', '금', '토', '일', '요일', 'month', 'day', 'hour', '휴일',\n",
        "       'resting_day', 'working_day', '소비자심리지수', 'season', '가구', '가전', '건강기능',\n",
        "       '농수축', '생활용품', '속옷', '의류', '이미용', '잡화', '주방', '침구', '가을', '겨울', '봄',\n",
        "       '여름']\n",
        "rf_x_columns=['노출(분)', '마더코드', '상품코드', '판매단가', '월', '화',\n",
        "       '수', '목', '금', '토', '일', 'month', 'day', 'hour',\n",
        "       'resting_day', 'working_day', '소비자심리지수', '가구', '가전', '건강기능',\n",
        "       '농수축', '생활용품', '속옷', '의류', '이미용', '잡화', '주방', '침구', '가을', '겨울', '봄',\n",
        "       '여름']\n",
        "rf_y='취급액'"
      ],
      "execution_count": null,
      "outputs": []
    },
    {
      "cell_type": "code",
      "metadata": {
        "id": "yCWeVYuNofF8"
      },
      "source": [
        "train_df.columns"
      ],
      "execution_count": null,
      "outputs": []
    },
    {
      "cell_type": "code",
      "metadata": {
        "id": "nZVZ7Sn9ofJf"
      },
      "source": [
        "y=train_df.loc[:,[rf_y]]\n",
        "y=np.ravel(y) #data를 1차원으로 만들어 주는 함수, flatten과 같은 용도\n",
        "y"
      ],
      "execution_count": null,
      "outputs": []
    },
    {
      "cell_type": "code",
      "metadata": {
        "id": "4Mf6HXBDofM9"
      },
      "source": [
        "x=train_df[rf_x_columns]\n",
        "x.info()"
      ],
      "execution_count": null,
      "outputs": []
    },
    {
      "cell_type": "code",
      "metadata": {
        "id": "59xUcGwtofQw"
      },
      "source": [
        "x['마더코드']=x['마더코드'].astype('category')\n",
        "x['상품코드']=x['상품코드'].astype('category')\n",
        "x.info()"
      ],
      "execution_count": null,
      "outputs": []
    },
    {
      "cell_type": "code",
      "metadata": {
        "id": "wljhXWK1ofUA"
      },
      "source": [
        "x.shape, y.shape"
      ],
      "execution_count": null,
      "outputs": []
    },
    {
      "cell_type": "code",
      "metadata": {
        "id": "s7yDzaG8ofYq"
      },
      "source": [
        "xTrain, xTest, yTrain, yTest = train_test_split(x, y, test_size=0.3) #8:2의 비율로 나눈다."
      ],
      "execution_count": null,
      "outputs": []
    },
    {
      "cell_type": "code",
      "metadata": {
        "id": "llURj-GrofcD"
      },
      "source": [
        "xTrain.shape, xTest.shape, yTrain.shape, yTest.shape"
      ],
      "execution_count": null,
      "outputs": []
    },
    {
      "cell_type": "code",
      "metadata": {
        "id": "3lglN5U5offO"
      },
      "source": [
        "param_grid={\n",
        "    'n_estimators': range(10,500,10),\n",
        "    'min_samples_split': range(2,10,2),\n",
        "    'max_depth' : range(3,15,3)\n",
        "}"
      ],
      "execution_count": null,
      "outputs": []
    },
    {
      "cell_type": "code",
      "metadata": {
        "id": "8vkOOATEofiV"
      },
      "source": [
        "rfr=RandomForestRegressor(random_state=42)"
      ],
      "execution_count": null,
      "outputs": []
    },
    {
      "cell_type": "code",
      "metadata": {
        "id": "aT5oV-BCqTdo"
      },
      "source": [
        "CV_rfr = GridSearchCV(estimator=rfr, param_grid=param_grid, cv=5, n_jobs=-1)\n",
        "CV_rfr.fit(xTrain, yTrain)"
      ],
      "execution_count": null,
      "outputs": []
    },
    {
      "cell_type": "code",
      "metadata": {
        "id": "7nN17OojohYP"
      },
      "source": [
        "CV_rfr.best_params_"
      ],
      "execution_count": null,
      "outputs": []
    },
    {
      "cell_type": "code",
      "metadata": {
        "id": "t9xHaGrzoiTh"
      },
      "source": [
        "CV_rfr.best_score_"
      ],
      "execution_count": null,
      "outputs": []
    },
    {
      "cell_type": "code",
      "metadata": {
        "id": "nexEpLBFoiyQ"
      },
      "source": [
        "model=RandomForestRegressor(n_estimators=51, min_samples_split=10, max_depth=7, random_state=2020, n_jobs=-1) #default : 100\n",
        "#n_estimators = 11, 31, 51\n",
        "#max_depth = 3, 5, 7\n",
        "#min_samples_split: 4, 6, 8 ,10"
      ],
      "execution_count": null,
      "outputs": []
    },
    {
      "cell_type": "code",
      "metadata": {
        "id": "qZb7euOyrE_w"
      },
      "source": [
        ""
      ],
      "execution_count": null,
      "outputs": []
    },
    {
      "cell_type": "markdown",
      "metadata": {
        "id": "XJWGZX-drI7e"
      },
      "source": [
        "random forest Classifier 설정"
      ]
    },
    {
      "cell_type": "code",
      "metadata": {
        "id": "Uo-kOXkQq7He"
      },
      "source": [
        "rfc=RandomForestClassifier(random_state=42)\n",
        "CV_rfc = GridSearchCV(estimator=rfc, param_grid=param_grid, cv=5, n_jobs=-1)\n",
        "CV_rfc.fit(xTrain, yTrain)"
      ],
      "execution_count": null,
      "outputs": []
    },
    {
      "cell_type": "code",
      "metadata": {
        "id": "49AzvWqDrTlf"
      },
      "source": [
        "CV_rfc.best_score_"
      ],
      "execution_count": null,
      "outputs": []
    },
    {
      "cell_type": "code",
      "metadata": {
        "id": "CfcutEUlrEKW"
      },
      "source": [
        "CV_rfc.best_params_"
      ],
      "execution_count": null,
      "outputs": []
    },
    {
      "cell_type": "markdown",
      "metadata": {
        "id": "-l5mVv5xrZ60"
      },
      "source": [
        "모델 생성"
      ]
    },
    {
      "cell_type": "code",
      "metadata": {
        "id": "Ke9qm8e8oi19"
      },
      "source": [
        "model.fit(xTrain, yTrain) #fit: 사이킷런에 있는 머신러닝 알고리즘 으로 모델 생성"
      ],
      "execution_count": null,
      "outputs": []
    },
    {
      "cell_type": "code",
      "metadata": {
        "id": "pG8r7rBXoi9t"
      },
      "source": [
        "yPred=model.predict(xTest)\n",
        "yPred"
      ],
      "execution_count": null,
      "outputs": []
    },
    {
      "cell_type": "code",
      "metadata": {
        "id": "U4_-7_mBojEr"
      },
      "source": [
        "model.score(xTrain, yTrain) # 0.8709 = 87.09% 정확도"
      ],
      "execution_count": null,
      "outputs": []
    },
    {
      "cell_type": "code",
      "metadata": {
        "id": "6pXaqn9apfkZ"
      },
      "source": [
        "xTest.head()"
      ],
      "execution_count": null,
      "outputs": []
    },
    {
      "cell_type": "code",
      "metadata": {
        "id": "_j7Mqzxmpgej"
      },
      "source": [
        "yTest"
      ],
      "execution_count": null,
      "outputs": []
    },
    {
      "cell_type": "code",
      "metadata": {
        "id": "Y-GmZo4HphLs"
      },
      "source": [
        "score=model.score(xTest, yTest)*100 #xTest와 yTest 점수\n",
        "score"
      ],
      "execution_count": null,
      "outputs": []
    },
    {
      "cell_type": "code",
      "metadata": {
        "id": "HNJg7p_aphSy"
      },
      "source": [
        "# https://stackoverflow.com/questions/47648133/mape-calculation-in-python\n",
        "def percentage_error(actual, predicted):\n",
        "    res = np.empty(actual.shape)\n",
        "    for j in range(actual.shape[0]):\n",
        "        if actual[j] != 0:\n",
        "            res[j] = (actual[j] - predicted[j]) / actual[j]\n",
        "        else:\n",
        "            res[j] = predicted[j] / np.mean(actual)\n",
        "    print(res)\n",
        "    return res\n",
        "\n",
        "def mean_absolute_percentage_error(y_true, y_pred): \n",
        "    return np.mean(np.abs(percentage_error(np.asarray(y_true), np.asarray(y_pred)))) * 100"
      ],
      "execution_count": null,
      "outputs": []
    },
    {
      "cell_type": "code",
      "metadata": {
        "id": "KicBBPJWphY_"
      },
      "source": [
        "mean_absolute_percentage_error(yTest, yPred)"
      ],
      "execution_count": null,
      "outputs": []
    },
    {
      "cell_type": "code",
      "metadata": {
        "id": "5SGWGi5rphfQ"
      },
      "source": [
        ""
      ],
      "execution_count": null,
      "outputs": []
    },
    {
      "cell_type": "code",
      "metadata": {
        "id": "EiH-Wh5bphkM"
      },
      "source": [
        ""
      ],
      "execution_count": null,
      "outputs": []
    }
  ]
}