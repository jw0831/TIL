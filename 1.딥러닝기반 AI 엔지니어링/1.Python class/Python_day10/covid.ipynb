{
 "metadata": {
  "language_info": {
   "codemirror_mode": {
    "name": "ipython",
    "version": 3
   },
   "file_extension": ".py",
   "mimetype": "text/x-python",
   "name": "python",
   "nbconvert_exporter": "python",
   "pygments_lexer": "ipython3",
   "version": 3
  },
  "orig_nbformat": 2,
  "kernelspec": {
   "name": "python_defaultSpec_1595574457286",
   "display_name": "Python 3.7.8 64-bit"
  }
 },
 "nbformat": 4,
 "nbformat_minor": 2,
 "cells": [
  {
   "cell_type": "code",
   "execution_count": 3,
   "metadata": {},
   "outputs": [],
   "source": [
    "# * 코로나바이러스감염증 감염현황 조회 서비스\n",
    "########################################\n",
    "#1. 기간별 조회\n",
    "#2. 사망자 조회\n",
    "#3. 종료\n",
    "########################################\n",
    "# 메뉴를 선택해주세요. (1-3):\n",
    "\n",
    "기간은 20200303부터 20200723일 까지임.\n",
    "1. 선택시\n",
    "시작기간을 입력해주세요. : 20200301\n",
    "종료기간을 입력해주세요. : 20200304\n",
    "2. 선택시\n",
    "사망자가 몇명이상 되는 경우: 20(명이상)\n",
    "3. 선택시 종료\n",
    "%Tkinter UI로 작성해도 가능함."
   ]
  },
  {
   "cell_type": "code",
   "execution_count": 2,
   "metadata": {
    "tags": []
   },
   "outputs": [
    {
     "output_type": "stream",
     "name": "stdout",
     "text": "* 코로나바이러스감염증 감염현황 조회 서비스\n########################################\n#1. 기간별 조회\n#2. 사망자 조회\n#3. 종료\n########################################\n3 번 입력하였습니다.\n종료합니다~\n"
    }
   ],
   "source": [
    "import time\n",
    "import requests\n",
    "import xml.etree.ElementTree as xml\n",
    "url = \"http://openapi.data.go.kr/openapi/service/rest/Covid19/getCovid19InfStateJson?serviceKey=keH9yQB4PoENO%2B1X167aMbP3mIsr9aKYUhdP%2FnmzgXXaHuZEJ7VbIZlUoR%2FRC%2Bf3aSSdIBH4WVVo8KobNzZ2DA%3D%3D&pageNo=1&numOfRows=10&startCreateDt=20200310&endCreateDt=20200724&\"\n",
    "\n",
    "class appManager():\n",
    "    pass\n",
    "\n",
    "class mainApp():\n",
    "    def run(self):\n",
    "        \n",
    "    while True:\n",
    "        print(\"* 코로나바이러스감염증 감염현황 조회 서비스\")\n",
    "        print(\"########################################\")\n",
    "        print(\"#1. 기간별 조회\")\n",
    "        print(\"#2. 사망자 조회\")\n",
    "        print(\"#3. 종료\")\n",
    "        print(\"########################################\")\n",
    "        sel = input(\"# 메뉴를 선택해주세요. (1-3): \")\n",
    "        print(sel, \"번 입력하였습니다.\")\n",
    "        if sel == '1':\n",
    "            pass\n",
    "        elif sel == '2':\n",
    "            pass\n",
    "        elif sel == '3':\n",
    "            print(\"종료합니다~\")\n",
    "            break\n",
    "        else:\n",
    "            print(\"잘못입력했어요\")    \n",
    "        \n",
    "if __name__ == \"__main__\":\n",
    "    main = mainApp()\n",
    "\n"
   ]
  },
  {
   "cell_type": "code",
   "execution_count": null,
   "metadata": {},
   "outputs": [],
   "source": []
  }
 ]
}