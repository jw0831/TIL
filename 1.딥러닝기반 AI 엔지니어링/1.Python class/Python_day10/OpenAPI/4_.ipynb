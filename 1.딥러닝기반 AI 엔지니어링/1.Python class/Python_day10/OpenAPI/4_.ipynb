{
 "metadata": {
  "language_info": {
   "codemirror_mode": {
    "name": "ipython",
    "version": 3
   },
   "file_extension": ".py",
   "mimetype": "text/x-python",
   "name": "python",
   "nbconvert_exporter": "python",
   "pygments_lexer": "ipython3",
   "version": 3
  },
  "orig_nbformat": 2,
  "kernelspec": {
   "name": "python_defaultSpec_1595568517153",
   "display_name": "Python 3.7.8 64-bit"
  }
 },
 "nbformat": 4,
 "nbformat_minor": 2,
 "cells": [
  {
   "cell_type": "code",
   "execution_count": 2,
   "metadata": {},
   "outputs": [],
   "source": [
    "# <employees>\n",
    "#     <employee>\n",
    "#         <name>john</name>\n",
    "#         <age>20</age>\n",
    "#         <salary>3000</salary>\n",
    "#     </employee>\n",
    "#     <employee>\n",
    "#         <name>susan</name>\n",
    "#         <age>30</age>\n",
    "#         <salary>6000</salary>\n",
    "#     </employee>\n",
    "# <employees>\n",
    "\n",
    "#\n",
    "#['employee':{'name':'susan'}] #json 양식\n",
    "# 이런 식으로 사용하고 싶다아아 \n",
    "# [{'name':'susan','age':30,'salary':600},\n",
    "#  {'name':'john','age':20,'salary':3000}]"
   ]
  },
  {
   "cell_type": "code",
   "execution_count": 42,
   "metadata": {
    "tags": []
   },
   "outputs": [
    {
     "output_type": "stream",
     "name": "stdout",
     "text": "employee\nname john\nage 20\nsalary 3000\nemployee\nname susan\nage 30\nsalary 6000\n"
    }
   ],
   "source": [
    "import requests\n",
    "import xml.etree.ElementTree as xml\n",
    "tree = xml.ElementTree(file=\"c:\\\\openAPI_test\\\\employees4.xml\")\n",
    "root = tree.getroot() #employees\n",
    "root.getchildren()\n",
    "# students = []\n",
    "children = root.getchildren() #employee 2개가 떨어짐 employee 2개\n",
    "for child in children: #1개에 대한 3개 name, age, salary\n",
    "    print(child.tag)\n",
    "    for i in child:\n",
    "        print(i.tag, i.text)\n",
    "        # print(i)\n",
    "        \n",
    "#############################################        \n",
    "# pairs = child.getchildern() # name, age, salary\n",
    "# for pair in pairs:\n",
    "#     print(pair.tag, pair.text)\n",
    "############################################\n"
   ]
  },
  {
   "cell_type": "code",
   "execution_count": 52,
   "metadata": {
    "tags": []
   },
   "outputs": [
    {
     "output_type": "stream",
     "name": "stdout",
     "text": "[{'name': 'john', 'age': '20', 'salary': '3000'}, {'name': 'susan', 'age': '30', 'salary': '6000'}]\n"
    }
   ],
   "source": [
    "#dictionary 만들기 : 아래 구조\n",
    "# [{'name':'susan','age':30,'salary':600},\n",
    "#  {'name':'john','age':20,'salary':3000}]\n",
    "import requests\n",
    "import xml.etree.ElementTree as xml\n",
    "tree = xml.ElementTree(file=\"c:\\\\openAPI_test\\\\employees4.xml\")\n",
    "root = tree.getroot() #employees\n",
    "root.getchildren()\n",
    "students = []\n",
    "# children = root.getchildren() #employee 2개가 떨어짐 employee 2개\n",
    "children = list(root) #children = root.getchildren() 를 오류 안생기게 바꾼형태\n",
    "for child in children: #1개에 대한 3개 name, age, salary\n",
    "    # print(child.tag)\n",
    "    employee = {}\n",
    "    for i in child:\n",
    "        employee[i.tag] = i.text #dictionary 찾아보기 항목에대해 키(key)와 값(value)을 입력하면\n",
    "    # print(employee)        \n",
    "    students.append(employee)\n",
    "print(students) #필요한대로 꺼내서 사용할 수 있는 상태임.\n",
    "    \n",
    "        \n",
    "#############################################        \n",
    "# pairs = child.getchildern() # name, age, salary\n",
    "# for pair in pairs:\n",
    "#     print(pair.tag, pair.text)\n",
    "############################################"
   ]
  },
  {
   "cell_type": "code",
   "execution_count": 84,
   "metadata": {
    "tags": []
   },
   "outputs": [
    {
     "output_type": "stream",
     "name": "stdout",
     "text": "header\nbody\n"
    },
    {
     "output_type": "execute_result",
     "data": {
      "text/plain": "10"
     },
     "metadata": {},
     "execution_count": 84
    }
   ],
   "source": [
    "import time\n",
    "import requests\n",
    "import xml.etree.ElementTree as xml\n",
    "\n",
    "url = \"http://openapi.data.go.kr/openapi/service/rest/Covid19/getCovid19InfStateJson?serviceKey=keH9yQB4PoENO%2B1X167aMbP3mIsr9aKYUhdP%2FnmzgXXaHuZEJ7VbIZlUoR%2FRC%2Bf3aSSdIBH4WVVo8KobNzZ2DA%3D%3D&pageNo=1&numOfRows=10&startCreateDt=20200715&endCreateDt=20200724&\"\n",
    "\n",
    "res = requests.get(url)\n",
    "# print(res.text)\n",
    "\n",
    "root = xml.fromstring(res.text)\n",
    "for item in root:\n",
    "    print(item.tag) #이걸로 header 또는 body 가 나오는데 url 에서 데이터를 뽑아오려면 body 를 선택 해야한다!\n",
    "##############################\n",
    "    # for i in item:\n",
    "    #     print(i.tag)\n",
    "###############################\n",
    "# root.getchildren()[0]\n",
    "data = []\n",
    "for items in root.iter(\"items\"):\n",
    "    # print(item.tag)\n",
    "    for item in items:\n",
    "        # print(item.tag) # 141 개\n",
    "        j = {}\n",
    "        for i in item:\n",
    "            # print(i.tag, i.text)\n",
    "            j[i.tag] = i.text\n",
    "        data.append(j)\n",
    "print(data)\n",
    "len(data)\n",
    "\n",
    "\n",
    "\n"
   ]
  }
 ]
}