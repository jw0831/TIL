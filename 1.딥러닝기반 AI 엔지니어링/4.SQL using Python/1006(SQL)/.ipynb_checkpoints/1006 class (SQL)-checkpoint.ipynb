{
 "cells": [
  {
   "cell_type": "code",
   "execution_count": 1,
   "metadata": {},
   "outputs": [],
   "source": [
    "import sqlite3"
   ]
  },
  {
   "cell_type": "code",
   "execution_count": 2,
   "metadata": {},
   "outputs": [],
   "source": [
    "# database 연결\n",
    "conn=sqlite3.connect(\"emp.db\") #연결하는 명령\n",
    "# 기존에 emp.db파일(database)이 없다면 -> 새롭게 생성하고 연결\n",
    "# 기존에 emp.db파일(database)이 있다면 -> 연결을 진행"
   ]
  },
  {
   "cell_type": "code",
   "execution_count": 3,
   "metadata": {},
   "outputs": [
    {
     "data": {
      "text/plain": [
       "<sqlite3.Cursor at 0x7fee95f251f0>"
      ]
     },
     "execution_count": 3,
     "metadata": {},
     "output_type": "execute_result"
    }
   ],
   "source": [
    "# CREATE TABLE\n",
    "# conn.execute('공용어 (SQL) 활용')\n",
    "# 데이터베이스 객체 변수를 이용햐여 테이블 설계, 테이블 명은 emp_data로 하여라\n",
    "# create table 테이블명(컬럼1 타입, 컬럼2 타입, ..., 컬럼n 타입)\n",
    "conn.execute('create table emp_data(id integer, name text, nickname text, department text, employment_date text)')\n",
    "# nick name 이렇게 공백이 생기면 안된다. nick_name 공백으로 구분을 짖는 명령어기 때문에 2개의 공백은 허용되지 않는다!\n",
    "# 같은 이름의 테이블은 두번이상 생성이 안된다!"
   ]
  },
  {
   "cell_type": "code",
   "execution_count": 4,
   "metadata": {},
   "outputs": [],
   "source": [
    "# cursor 를 이용한 데이터 추가\n",
    "# cursor 생성\n",
    "cur=conn.cursor()"
   ]
  },
  {
   "cell_type": "code",
   "execution_count": 5,
   "metadata": {},
   "outputs": [
    {
     "data": {
      "text/plain": [
       "<sqlite3.Cursor at 0x7fee97623e30>"
      ]
     },
     "execution_count": 5,
     "metadata": {},
     "output_type": "execute_result"
    }
   ],
   "source": [
    "# data 추가\n",
    "# data 를 한개 추가할때는 execute(), 여러개는 executemany()\n",
    "# insert into 테이블명 values (?, ?, ?, ?, ... , ?)\n",
    "###### execute ######\n",
    "# cur.execute('insert into 테이블명 values ('a', 100)') 컬럼이 2개일 경우\n",
    "# cur.execute('insert into 테이블명 values (?,?)', ('a', 100)) 뒤에 a 와 100이 물음표로 전달되는 방법\n",
    "###### executemany ######\n",
    "# data=[('a',100),('b',200)]\n",
    "# cur.executemany('insert into 테이블명 values (?,?)', data)\n",
    "\n",
    "cur.executemany(\n",
    "'insert into emp_data values (?,?,?,?,?)',\n",
    "    [(1, 'gildong', 'gd', 'marketing', '2020-10-06 10:36:00.000'),\n",
    "     (2, 'sunshin', 'ss', 'marketing', '2019-10-06 10:36:00.000'),\n",
    "     (3, 'yusin', 'ys', 'development', '2020-01-06 10:36:00.000'),\n",
    "     (4, 'sejong', 'sj', 'marketing', '2020-05-06 10:36:00.000'),\n",
    "     (5, 'bogo', 'bg', 'development', '2020-07-06 10:36:00.000')\n",
    "    ]\n",
    ")"
   ]
  },
  {
   "cell_type": "code",
   "execution_count": 6,
   "metadata": {},
   "outputs": [
    {
     "data": {
      "text/plain": [
       "<sqlite3.Cursor at 0x7fee97623e30>"
      ]
     },
     "execution_count": 6,
     "metadata": {},
     "output_type": "execute_result"
    }
   ],
   "source": [
    "# emp_data테이블로 부터 모든 데이터를 가져와라 -> 가져온 데이터 -> cur가 데이터를 가리키고 있음\n",
    "cur.execute('select * from emp_data')"
   ]
  },
  {
   "cell_type": "code",
   "execution_count": 7,
   "metadata": {},
   "outputs": [
    {
     "name": "stdout",
     "output_type": "stream",
     "text": [
      "(1, 'gildong', 'gd', 'marketing', '2020-10-06 10:36:00.000')\n",
      "(2, 'sunshin', 'ss', 'marketing', '2019-10-06 10:36:00.000')\n",
      "(3, 'yusin', 'ys', 'development', '2020-01-06 10:36:00.000')\n",
      "(4, 'sejong', 'sj', 'marketing', '2020-05-06 10:36:00.000')\n",
      "(5, 'bogo', 'bg', 'development', '2020-07-06 10:36:00.000')\n"
     ]
    }
   ],
   "source": [
    "# cur가 가리키고 있는 위치부터 데이터를 하나씩 읽어내려가면서 row에 저장\n",
    "for row in cur:\n",
    "    print(row)"
   ]
  },
  {
   "cell_type": "code",
   "execution_count": 12,
   "metadata": {},
   "outputs": [],
   "source": [
    "# 데이터베이스 저장\n",
    "conn.commit()\n",
    "# 데이터베이스 연결 종료\n",
    "conn.close()"
   ]
  },
  {
   "cell_type": "markdown",
   "metadata": {},
   "source": [
    "---\n",
    "### 다시 연결"
   ]
  },
  {
   "cell_type": "code",
   "execution_count": 48,
   "metadata": {},
   "outputs": [],
   "source": [
    "# database 연결\n",
    "conn=sqlite3.connect(\"emp.db\") #연결하는 명령\n",
    "# 기존에 emp.db파일(database)이 없다면 -> 새롭게 생성하고 연결\n",
    "# 기존에 emp.db파일(database)이 있다면 -> 연결을 진행"
   ]
  },
  {
   "cell_type": "code",
   "execution_count": 49,
   "metadata": {},
   "outputs": [],
   "source": [
    "cur=conn.cursor()"
   ]
  },
  {
   "cell_type": "code",
   "execution_count": 50,
   "metadata": {},
   "outputs": [
    {
     "data": {
      "text/plain": [
       "<sqlite3.Cursor at 0x7fee975503b0>"
      ]
     },
     "execution_count": 50,
     "metadata": {},
     "output_type": "execute_result"
    }
   ],
   "source": [
    "# emp_data테이블로 부터 모든 데이터를 가져와라 -> 가져온 데이터 -> cur가 데이터를 가리키고 있음\n",
    "cur.execute('select * from emp_data')"
   ]
  },
  {
   "cell_type": "code",
   "execution_count": 51,
   "metadata": {},
   "outputs": [
    {
     "name": "stdout",
     "output_type": "stream",
     "text": [
      "(1, 'gildong', 'gd', 'marketing', '2020-10-06 10:36:00.000')\n",
      "(2, 'sunshin', 'ss', 'marketing', '2019-10-06 10:36:00.000')\n",
      "(3, 'yusin', 'ys', 'development', '2020-01-06 10:36:00.000')\n",
      "(4, 'sejong', 'sj', 'marketing', '2020-05-06 10:36:00.000')\n",
      "(5, 'bogo', 'bg', 'development', '2020-07-06 10:36:00.000')\n"
     ]
    }
   ],
   "source": [
    "# cur가 가리키고 있는 위치부터 데이터를 하나씩 읽어내려가면서 row에 저장\n",
    "for row in cur:\n",
    "    print(row)"
   ]
  },
  {
   "cell_type": "code",
   "execution_count": 45,
   "metadata": {},
   "outputs": [
    {
     "data": {
      "text/plain": [
       "<sqlite3.Cursor at 0x7fee9718a8f0>"
      ]
     },
     "execution_count": 45,
     "metadata": {},
     "output_type": "execute_result"
    }
   ],
   "source": [
    "# emp_data테이블로 부터 모든 데이터를 가져와라 -> 가져온 데이터 -> cur가 데이터를 가리키고 있음\n",
    "cur.execute('select * from emp_data')"
   ]
  },
  {
   "cell_type": "code",
   "execution_count": 46,
   "metadata": {},
   "outputs": [
    {
     "name": "stdout",
     "output_type": "stream",
     "text": [
      "[(1, 'gildong', 'gd', 'marketing', '2020-10-06 10:36:00.000'), (2, 'sunshin', 'ss', 'marketing', '2019-10-06 10:36:00.000'), (3, 'yusin', 'ys', 'development', '2020-01-06 10:36:00.000'), (4, 'sejong', 'sj', 'marketing', '2020-05-06 10:36:00.000'), (5, 'bogo', 'bg', 'development', '2020-07-06 10:36:00.000')]\n"
     ]
    }
   ],
   "source": [
    "# data를 가져올때 fetchall() 명령을 사용할 수 있다.\n",
    "rows=cur.fetchall()\n",
    "print(rows)"
   ]
  },
  {
   "cell_type": "code",
   "execution_count": 52,
   "metadata": {},
   "outputs": [],
   "source": [
    "# 데이터베이스 저장\n",
    "conn.commit()\n",
    "# 데이터베이스 연결 종료\n",
    "conn.close() #닫아주는게 리소스 관리 차원에서 여러모로 좋다."
   ]
  },
  {
   "cell_type": "markdown",
   "metadata": {},
   "source": [
    "---\n",
    "### Database를 데이터프레임으로 불러오는 작업"
   ]
  },
  {
   "cell_type": "code",
   "execution_count": 53,
   "metadata": {},
   "outputs": [],
   "source": [
    "# database 연결\n",
    "conn=sqlite3.connect(\"emp.db\") #연결하는 명령\n",
    "# 기존에 emp.db파일(database)이 없다면 -> 새롭게 생성하고 연결\n",
    "# 기존에 emp.db파일(database)이 있다면 -> 연결을 진행"
   ]
  },
  {
   "cell_type": "code",
   "execution_count": 54,
   "metadata": {},
   "outputs": [],
   "source": [
    "cur=conn.cursor()"
   ]
  },
  {
   "cell_type": "code",
   "execution_count": 55,
   "metadata": {},
   "outputs": [
    {
     "data": {
      "text/plain": [
       "<sqlite3.Cursor at 0x7fee97550b90>"
      ]
     },
     "execution_count": 55,
     "metadata": {},
     "output_type": "execute_result"
    }
   ],
   "source": [
    "# emp_data테이블로 부터 모든 데이터를 가져와라 -> 가져온 데이터 -> cur가 데이터를 가리키고 있음\n",
    "cur.execute('select * from emp_data')"
   ]
  },
  {
   "cell_type": "code",
   "execution_count": 56,
   "metadata": {},
   "outputs": [
    {
     "name": "stdout",
     "output_type": "stream",
     "text": [
      "[(1, 'gildong', 'gd', 'marketing', '2020-10-06 10:36:00.000'), (2, 'sunshin', 'ss', 'marketing', '2019-10-06 10:36:00.000'), (3, 'yusin', 'ys', 'development', '2020-01-06 10:36:00.000'), (4, 'sejong', 'sj', 'marketing', '2020-05-06 10:36:00.000'), (5, 'bogo', 'bg', 'development', '2020-07-06 10:36:00.000')]\n"
     ]
    }
   ],
   "source": [
    "# data를 가져올때 fetchall() 명령을 사용할 수 있다.\n",
    "rows=cur.fetchall()\n",
    "print(rows)"
   ]
  },
  {
   "cell_type": "code",
   "execution_count": 57,
   "metadata": {},
   "outputs": [
    {
     "data": {
      "text/plain": [
       "[(1, 'gildong', 'gd', 'marketing', '2020-10-06 10:36:00.000'),\n",
       " (2, 'sunshin', 'ss', 'marketing', '2019-10-06 10:36:00.000'),\n",
       " (3, 'yusin', 'ys', 'development', '2020-01-06 10:36:00.000'),\n",
       " (4, 'sejong', 'sj', 'marketing', '2020-05-06 10:36:00.000'),\n",
       " (5, 'bogo', 'bg', 'development', '2020-07-06 10:36:00.000')]"
      ]
     },
     "execution_count": 57,
     "metadata": {},
     "output_type": "execute_result"
    }
   ],
   "source": [
    "rows"
   ]
  },
  {
   "cell_type": "code",
   "execution_count": 58,
   "metadata": {},
   "outputs": [
    {
     "data": {
      "text/plain": [
       "(('id', None, None, None, None, None, None),\n",
       " ('name', None, None, None, None, None, None),\n",
       " ('nickname', None, None, None, None, None, None),\n",
       " ('department', None, None, None, None, None, None),\n",
       " ('employment_date', None, None, None, None, None, None))"
      ]
     },
     "execution_count": 58,
     "metadata": {},
     "output_type": "execute_result"
    }
   ],
   "source": [
    "# 컬럼의 이름을 확인 \n",
    "# 튜플안에 튜플이 5개 들어가 있는것을 확인\n",
    "cur.description "
   ]
  },
  {
   "cell_type": "code",
   "execution_count": 59,
   "metadata": {},
   "outputs": [],
   "source": [
    "# 컬럼명 추출\n",
    "cols=[column[0] for column in cur.description]"
   ]
  },
  {
   "cell_type": "code",
   "execution_count": 60,
   "metadata": {},
   "outputs": [
    {
     "data": {
      "text/plain": [
       "['id', 'name', 'nickname', 'department', 'employment_date']"
      ]
     },
     "execution_count": 60,
     "metadata": {},
     "output_type": "execute_result"
    }
   ],
   "source": [
    "cols"
   ]
  },
  {
   "cell_type": "code",
   "execution_count": 61,
   "metadata": {},
   "outputs": [],
   "source": [
    "import pandas as pd\n",
    "import numpy as np"
   ]
  },
  {
   "cell_type": "code",
   "execution_count": 62,
   "metadata": {},
   "outputs": [],
   "source": [
    "df=pd.DataFrame.from_records(data=rows, columns=cols)"
   ]
  },
  {
   "cell_type": "code",
   "execution_count": 63,
   "metadata": {},
   "outputs": [
    {
     "data": {
      "text/html": [
       "<div>\n",
       "<style scoped>\n",
       "    .dataframe tbody tr th:only-of-type {\n",
       "        vertical-align: middle;\n",
       "    }\n",
       "\n",
       "    .dataframe tbody tr th {\n",
       "        vertical-align: top;\n",
       "    }\n",
       "\n",
       "    .dataframe thead th {\n",
       "        text-align: right;\n",
       "    }\n",
       "</style>\n",
       "<table border=\"1\" class=\"dataframe\">\n",
       "  <thead>\n",
       "    <tr style=\"text-align: right;\">\n",
       "      <th></th>\n",
       "      <th>id</th>\n",
       "      <th>name</th>\n",
       "      <th>nickname</th>\n",
       "      <th>department</th>\n",
       "      <th>employment_date</th>\n",
       "    </tr>\n",
       "  </thead>\n",
       "  <tbody>\n",
       "    <tr>\n",
       "      <th>0</th>\n",
       "      <td>1</td>\n",
       "      <td>gildong</td>\n",
       "      <td>gd</td>\n",
       "      <td>marketing</td>\n",
       "      <td>2020-10-06 10:36:00.000</td>\n",
       "    </tr>\n",
       "    <tr>\n",
       "      <th>1</th>\n",
       "      <td>2</td>\n",
       "      <td>sunshin</td>\n",
       "      <td>ss</td>\n",
       "      <td>marketing</td>\n",
       "      <td>2019-10-06 10:36:00.000</td>\n",
       "    </tr>\n",
       "    <tr>\n",
       "      <th>2</th>\n",
       "      <td>3</td>\n",
       "      <td>yusin</td>\n",
       "      <td>ys</td>\n",
       "      <td>development</td>\n",
       "      <td>2020-01-06 10:36:00.000</td>\n",
       "    </tr>\n",
       "    <tr>\n",
       "      <th>3</th>\n",
       "      <td>4</td>\n",
       "      <td>sejong</td>\n",
       "      <td>sj</td>\n",
       "      <td>marketing</td>\n",
       "      <td>2020-05-06 10:36:00.000</td>\n",
       "    </tr>\n",
       "    <tr>\n",
       "      <th>4</th>\n",
       "      <td>5</td>\n",
       "      <td>bogo</td>\n",
       "      <td>bg</td>\n",
       "      <td>development</td>\n",
       "      <td>2020-07-06 10:36:00.000</td>\n",
       "    </tr>\n",
       "  </tbody>\n",
       "</table>\n",
       "</div>"
      ],
      "text/plain": [
       "   id     name nickname   department          employment_date\n",
       "0   1  gildong       gd    marketing  2020-10-06 10:36:00.000\n",
       "1   2  sunshin       ss    marketing  2019-10-06 10:36:00.000\n",
       "2   3    yusin       ys  development  2020-01-06 10:36:00.000\n",
       "3   4   sejong       sj    marketing  2020-05-06 10:36:00.000\n",
       "4   5     bogo       bg  development  2020-07-06 10:36:00.000"
      ]
     },
     "execution_count": 63,
     "metadata": {},
     "output_type": "execute_result"
    }
   ],
   "source": [
    "df"
   ]
  },
  {
   "cell_type": "markdown",
   "metadata": {},
   "source": [
    "---\n",
    "### 테이블 제거\n",
    "- drop table 테이블명"
   ]
  },
  {
   "cell_type": "code",
   "execution_count": 64,
   "metadata": {},
   "outputs": [
    {
     "data": {
      "text/plain": [
       "<sqlite3.Cursor at 0x7fee98f43ab0>"
      ]
     },
     "execution_count": 64,
     "metadata": {},
     "output_type": "execute_result"
    }
   ],
   "source": [
    "conn.execute('drop table emp_data')"
   ]
  },
  {
   "cell_type": "code",
   "execution_count": 65,
   "metadata": {},
   "outputs": [],
   "source": [
    "conn.close()"
   ]
  },
  {
   "cell_type": "markdown",
   "metadata": {},
   "source": [
    "연결해서 확인해보기"
   ]
  },
  {
   "cell_type": "code",
   "execution_count": 66,
   "metadata": {},
   "outputs": [],
   "source": [
    "# database 연결\n",
    "conn=sqlite3.connect(\"emp.db\") #연결하는 명령\n",
    "# 기존에 emp.db파일(database)이 없다면 -> 새롭게 생성하고 연결\n",
    "# 기존에 emp.db파일(database)이 있다면 -> 연결을 진행"
   ]
  },
  {
   "cell_type": "code",
   "execution_count": 67,
   "metadata": {},
   "outputs": [],
   "source": [
    "cur=conn.cursor()"
   ]
  },
  {
   "cell_type": "code",
   "execution_count": 68,
   "metadata": {},
   "outputs": [
    {
     "ename": "OperationalError",
     "evalue": "no such table: emp_data",
     "output_type": "error",
     "traceback": [
      "\u001b[0;31m---------------------------------------------------------------------------\u001b[0m",
      "\u001b[0;31mOperationalError\u001b[0m                          Traceback (most recent call last)",
      "\u001b[0;32m<ipython-input-68-31cec65a7364>\u001b[0m in \u001b[0;36m<module>\u001b[0;34m\u001b[0m\n\u001b[1;32m      1\u001b[0m \u001b[0;31m# emp_data테이블로 부터 모든 데이터를 가져와라 -> 가져온 데이터 -> cur가 데이터를 가리키고 있음\u001b[0m\u001b[0;34m\u001b[0m\u001b[0;34m\u001b[0m\u001b[0;34m\u001b[0m\u001b[0m\n\u001b[0;32m----> 2\u001b[0;31m \u001b[0mcur\u001b[0m\u001b[0;34m.\u001b[0m\u001b[0mexecute\u001b[0m\u001b[0;34m(\u001b[0m\u001b[0;34m'select * from emp_data'\u001b[0m\u001b[0;34m)\u001b[0m\u001b[0;34m\u001b[0m\u001b[0;34m\u001b[0m\u001b[0m\n\u001b[0m",
      "\u001b[0;31mOperationalError\u001b[0m: no such table: emp_data"
     ]
    }
   ],
   "source": [
    "# emp_data테이블로 부터 모든 데이터를 가져와라 -> 가져온 데이터 -> cur가 데이터를 가리키고 있음\n",
    "cur.execute('select * from emp_data')"
   ]
  },
  {
   "cell_type": "markdown",
   "metadata": {},
   "source": [
    "Table 이 없어진것을 확인"
   ]
  },
  {
   "cell_type": "markdown",
   "metadata": {},
   "source": [
    "## exercise 2"
   ]
  },
  {
   "cell_type": "code",
   "execution_count": null,
   "metadata": {},
   "outputs": [],
   "source": [
    "conn=sqlite3.connect(\"dbtest.db\")\n",
    "# 안드로이드 운영체제에도 sqlite사용됨"
   ]
  },
  {
   "cell_type": "code",
   "execution_count": 69,
   "metadata": {},
   "outputs": [
    {
     "data": {
      "text/plain": [
       "<sqlite3.Cursor at 0x7fee98f233b0>"
      ]
     },
     "execution_count": 69,
     "metadata": {},
     "output_type": "execute_result"
    }
   ],
   "source": [
    "cur=conn.cursor()\n",
    "cur.execute('create table test (name text, jumsu int)')"
   ]
  },
  {
   "cell_type": "code",
   "execution_count": 70,
   "metadata": {},
   "outputs": [
    {
     "data": {
      "text/plain": [
       "<sqlite3.Cursor at 0x7fee98f233b0>"
      ]
     },
     "execution_count": 70,
     "metadata": {},
     "output_type": "execute_result"
    }
   ],
   "source": [
    "cur.execute(\"insert into test values ('sunshin', 100)\") \n",
    "# 중요!!!\n",
    "# 왜 sunshin에서 에러처럼 이름색이 다를까? \n",
    "# sql명령문에서 문자데이터를 인식할때 구문오류를 없에기 위해서 바깥쪽을 \" 곁따옴표로 묶고 안에 문자를 홀따옴표로 묶어준다 \""
   ]
  },
  {
   "cell_type": "code",
   "execution_count": 71,
   "metadata": {},
   "outputs": [
    {
     "data": {
      "text/plain": [
       "<sqlite3.Cursor at 0x7fee98f233b0>"
      ]
     },
     "execution_count": 71,
     "metadata": {},
     "output_type": "execute_result"
    }
   ],
   "source": [
    "cur.execute('select * from test')"
   ]
  },
  {
   "cell_type": "code",
   "execution_count": 72,
   "metadata": {},
   "outputs": [
    {
     "name": "stdout",
     "output_type": "stream",
     "text": [
      "('sunshin', 100)\n"
     ]
    }
   ],
   "source": [
    "for row in cur:\n",
    "    print(row)"
   ]
  },
  {
   "cell_type": "code",
   "execution_count": 73,
   "metadata": {},
   "outputs": [
    {
     "data": {
      "text/plain": [
       "<sqlite3.Cursor at 0x7fee98f233b0>"
      ]
     },
     "execution_count": 73,
     "metadata": {},
     "output_type": "execute_result"
    }
   ],
   "source": [
    "cur.execute(\"insert into test values (?,?)\", ('sunshin', 100))"
   ]
  },
  {
   "cell_type": "code",
   "execution_count": 74,
   "metadata": {},
   "outputs": [
    {
     "data": {
      "text/plain": [
       "<sqlite3.Cursor at 0x7fee98f233b0>"
      ]
     },
     "execution_count": 74,
     "metadata": {},
     "output_type": "execute_result"
    }
   ],
   "source": [
    "cur.execute('select * from test')"
   ]
  },
  {
   "cell_type": "code",
   "execution_count": 75,
   "metadata": {},
   "outputs": [
    {
     "name": "stdout",
     "output_type": "stream",
     "text": [
      "[('sunshin', 100), ('sunshin', 100)]\n"
     ]
    }
   ],
   "source": [
    "# data를 가져올때 fetchall() 명령을 사용할 수 있다.\n",
    "rows=cur.fetchall()\n",
    "print(rows)"
   ]
  },
  {
   "cell_type": "code",
   "execution_count": 76,
   "metadata": {},
   "outputs": [
    {
     "data": {
      "text/plain": [
       "<sqlite3.Cursor at 0x7fee98f233b0>"
      ]
     },
     "execution_count": 76,
     "metadata": {},
     "output_type": "execute_result"
    }
   ],
   "source": [
    "cur.execute(\"update test set jumsu=90 where name='sunshin'\")\n",
    "# update 테이블명 set 컬럼 = 변경값 where 조건식\n",
    "# 테이블로부터 조건식에 해당되는 데이터의 컬럼 값을 변경값으로 바꾸어라"
   ]
  },
  {
   "cell_type": "code",
   "execution_count": 77,
   "metadata": {},
   "outputs": [
    {
     "data": {
      "text/plain": [
       "[('sunshin', 90), ('sunshin', 90)]"
      ]
     },
     "execution_count": 77,
     "metadata": {},
     "output_type": "execute_result"
    }
   ],
   "source": [
    "cur.execute('select * from test')\n",
    "rows=cur.fetchall()\n",
    "rows"
   ]
  },
  {
   "cell_type": "markdown",
   "metadata": {},
   "source": [
    "## pandas 데이터프레임 -> sqlite 테이블로 저장"
   ]
  },
  {
   "cell_type": "code",
   "execution_count": 78,
   "metadata": {},
   "outputs": [],
   "source": [
    "data={'c1':[1,2,3],\n",
    "     'c2':[11,21,31],\n",
    "     'c3':[12,22,32]}"
   ]
  },
  {
   "cell_type": "code",
   "execution_count": 79,
   "metadata": {},
   "outputs": [
    {
     "data": {
      "text/html": [
       "<div>\n",
       "<style scoped>\n",
       "    .dataframe tbody tr th:only-of-type {\n",
       "        vertical-align: middle;\n",
       "    }\n",
       "\n",
       "    .dataframe tbody tr th {\n",
       "        vertical-align: top;\n",
       "    }\n",
       "\n",
       "    .dataframe thead th {\n",
       "        text-align: right;\n",
       "    }\n",
       "</style>\n",
       "<table border=\"1\" class=\"dataframe\">\n",
       "  <thead>\n",
       "    <tr style=\"text-align: right;\">\n",
       "      <th></th>\n",
       "      <th>c1</th>\n",
       "      <th>c2</th>\n",
       "      <th>c3</th>\n",
       "    </tr>\n",
       "  </thead>\n",
       "  <tbody>\n",
       "    <tr>\n",
       "      <th>0</th>\n",
       "      <td>1</td>\n",
       "      <td>11</td>\n",
       "      <td>12</td>\n",
       "    </tr>\n",
       "    <tr>\n",
       "      <th>1</th>\n",
       "      <td>2</td>\n",
       "      <td>21</td>\n",
       "      <td>22</td>\n",
       "    </tr>\n",
       "    <tr>\n",
       "      <th>2</th>\n",
       "      <td>3</td>\n",
       "      <td>31</td>\n",
       "      <td>32</td>\n",
       "    </tr>\n",
       "  </tbody>\n",
       "</table>\n",
       "</div>"
      ],
      "text/plain": [
       "   c1  c2  c3\n",
       "0   1  11  12\n",
       "1   2  21  22\n",
       "2   3  31  32"
      ]
     },
     "execution_count": 79,
     "metadata": {},
     "output_type": "execute_result"
    }
   ],
   "source": [
    "data\n",
    "df=pd.DataFrame(data)\n",
    "df"
   ]
  },
  {
   "cell_type": "code",
   "execution_count": 80,
   "metadata": {},
   "outputs": [],
   "source": [
    "conn=sqlite3.connect('cvTable.db')"
   ]
  },
  {
   "cell_type": "markdown",
   "metadata": {},
   "source": [
    "df를 cvTable데이터베이스에 mytable 테이블로 저장"
   ]
  },
  {
   "cell_type": "code",
   "execution_count": 81,
   "metadata": {},
   "outputs": [],
   "source": [
    "df.to_sql('mytable', conn)"
   ]
  },
  {
   "cell_type": "code",
   "execution_count": 82,
   "metadata": {},
   "outputs": [],
   "source": [
    "cur=conn.cursor()"
   ]
  },
  {
   "cell_type": "code",
   "execution_count": 83,
   "metadata": {},
   "outputs": [
    {
     "data": {
      "text/plain": [
       "<sqlite3.Cursor at 0x7fee99ec20a0>"
      ]
     },
     "execution_count": 83,
     "metadata": {},
     "output_type": "execute_result"
    }
   ],
   "source": [
    "cur.execute(\"select * from mytable\") # *은 전체 컬럼"
   ]
  },
  {
   "cell_type": "code",
   "execution_count": 84,
   "metadata": {},
   "outputs": [
    {
     "data": {
      "text/plain": [
       "[(0, 1, 11, 12), (1, 2, 21, 22), (2, 3, 31, 32)]"
      ]
     },
     "execution_count": 84,
     "metadata": {},
     "output_type": "execute_result"
    }
   ],
   "source": [
    "rows=cur.fetchall()\n",
    "rows"
   ]
  },
  {
   "cell_type": "code",
   "execution_count": 85,
   "metadata": {},
   "outputs": [
    {
     "data": {
      "text/plain": [
       "<sqlite3.Cursor at 0x7fee99ec20a0>"
      ]
     },
     "execution_count": 85,
     "metadata": {},
     "output_type": "execute_result"
    }
   ],
   "source": [
    "cur.execute(\"select c1,c2 from mytable\") "
   ]
  },
  {
   "cell_type": "code",
   "execution_count": 86,
   "metadata": {},
   "outputs": [
    {
     "data": {
      "text/plain": [
       "[(1, 11), (2, 21), (3, 31)]"
      ]
     },
     "execution_count": 86,
     "metadata": {},
     "output_type": "execute_result"
    }
   ],
   "source": [
    "rows=cur.fetchall()\n",
    "rows"
   ]
  },
  {
   "cell_type": "code",
   "execution_count": null,
   "metadata": {},
   "outputs": [],
   "source": []
  }
 ],
 "metadata": {
  "kernelspec": {
   "display_name": "Python 3",
   "language": "python",
   "name": "python3"
  },
  "language_info": {
   "codemirror_mode": {
    "name": "ipython",
    "version": 3
   },
   "file_extension": ".py",
   "mimetype": "text/x-python",
   "name": "python",
   "nbconvert_exporter": "python",
   "pygments_lexer": "ipython3",
   "version": "3.8.3"
  }
 },
 "nbformat": 4,
 "nbformat_minor": 4
}
